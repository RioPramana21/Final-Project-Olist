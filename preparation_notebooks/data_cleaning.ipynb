{
 "cells": [
  {
   "cell_type": "markdown",
   "id": "115bee59",
   "metadata": {},
   "source": [
    "After cleaning a dataset/dataframe (do it on the normalized table), you can save it under /data/cleaned_data/"
   ]
  },
  {
   "cell_type": "markdown",
   "id": "3da5f024",
   "metadata": {},
   "source": [
    "Example:"
   ]
  },
  {
   "cell_type": "markdown",
   "id": "d0281112",
   "metadata": {},
   "source": [
    "### Cleaning city name in geolocation table"
   ]
  },
  {
   "cell_type": "code",
   "execution_count": 1,
   "id": "0ef16151",
   "metadata": {},
   "outputs": [],
   "source": [
    "import pandas as pd\n",
    "import os"
   ]
  },
  {
   "cell_type": "code",
   "execution_count": 2,
   "id": "c74c90ec",
   "metadata": {},
   "outputs": [],
   "source": [
    "date_cols = {\n",
    "    'olist_orders_dataset.csv': [\n",
    "        'order_purchase_timestamp',\n",
    "        'order_approved_at',\n",
    "        'order_delivered_carrier_date',\n",
    "        'order_delivered_customer_date',\n",
    "        'order_estimated_delivery_date',\n",
    "    ],\n",
    "    'olist_order_items_dataset.csv': [\n",
    "        'shipping_limit_date',\n",
    "    ],\n",
    "    'olist_order_reviews_dataset.csv': [\n",
    "        'review_creation_date',\n",
    "        'review_answer_timestamp',\n",
    "    ],\n",
    "    # The following datasets have NO date columns:\n",
    "    # 'olist_customers_dataset.csv'\n",
    "    # 'olist_geolocation_dataset.csv'\n",
    "    # 'olist_order_payments_dataset.csv'\n",
    "    # 'olist_products_dataset.csv'\n",
    "    # 'olist_sellers_dataset.csv'\n",
    "    # 'product_category_name_translation.csv'\n",
    "}\n",
    "\n",
    "def read_olist_csv(path):\n",
    "    \"\"\"\n",
    "    Reads an Olist CSV and parses dates for the correct columns.\n",
    "    Args:\n",
    "        path (str): Path to the CSV file.\n",
    "    Returns:\n",
    "        pd.DataFrame: Loaded dataframe with date columns parsed as datetime.\n",
    "    \"\"\"\n",
    "    # Extract just the filename, e.g., 'olist_orders_dataset.csv'\n",
    "    filename = os.path.basename(path)\n",
    "    # Get the correct date columns for this file, or an empty list\n",
    "    parse_dates = date_cols.get(filename, [])\n",
    "    # Read the CSV, parsing the specified date columns (if any)\n",
    "    return pd.read_csv(path, parse_dates=parse_dates)"
   ]
  },
  {
   "cell_type": "code",
   "execution_count": 3,
   "id": "80e8248f",
   "metadata": {},
   "outputs": [
    {
     "data": {
      "text/html": [
       "<div>\n",
       "<style scoped>\n",
       "    .dataframe tbody tr th:only-of-type {\n",
       "        vertical-align: middle;\n",
       "    }\n",
       "\n",
       "    .dataframe tbody tr th {\n",
       "        vertical-align: top;\n",
       "    }\n",
       "\n",
       "    .dataframe thead th {\n",
       "        text-align: right;\n",
       "    }\n",
       "</style>\n",
       "<table border=\"1\" class=\"dataframe\">\n",
       "  <thead>\n",
       "    <tr style=\"text-align: right;\">\n",
       "      <th></th>\n",
       "      <th>geolocation_zip_code_prefix</th>\n",
       "      <th>geolocation_lat</th>\n",
       "      <th>geolocation_lng</th>\n",
       "      <th>geolocation_city</th>\n",
       "      <th>geolocation_state</th>\n",
       "    </tr>\n",
       "  </thead>\n",
       "  <tbody>\n",
       "    <tr>\n",
       "      <th>0</th>\n",
       "      <td>1037</td>\n",
       "      <td>-23.545621</td>\n",
       "      <td>-46.639292</td>\n",
       "      <td>sao paulo</td>\n",
       "      <td>SP</td>\n",
       "    </tr>\n",
       "    <tr>\n",
       "      <th>1</th>\n",
       "      <td>1046</td>\n",
       "      <td>-23.546081</td>\n",
       "      <td>-46.644820</td>\n",
       "      <td>sao paulo</td>\n",
       "      <td>SP</td>\n",
       "    </tr>\n",
       "    <tr>\n",
       "      <th>2</th>\n",
       "      <td>1046</td>\n",
       "      <td>-23.546129</td>\n",
       "      <td>-46.642951</td>\n",
       "      <td>sao paulo</td>\n",
       "      <td>SP</td>\n",
       "    </tr>\n",
       "    <tr>\n",
       "      <th>3</th>\n",
       "      <td>1041</td>\n",
       "      <td>-23.544392</td>\n",
       "      <td>-46.639499</td>\n",
       "      <td>sao paulo</td>\n",
       "      <td>SP</td>\n",
       "    </tr>\n",
       "    <tr>\n",
       "      <th>4</th>\n",
       "      <td>1035</td>\n",
       "      <td>-23.541578</td>\n",
       "      <td>-46.641607</td>\n",
       "      <td>sao paulo</td>\n",
       "      <td>SP</td>\n",
       "    </tr>\n",
       "  </tbody>\n",
       "</table>\n",
       "</div>"
      ],
      "text/plain": [
       "   geolocation_zip_code_prefix  geolocation_lat  geolocation_lng  \\\n",
       "0                         1037       -23.545621       -46.639292   \n",
       "1                         1046       -23.546081       -46.644820   \n",
       "2                         1046       -23.546129       -46.642951   \n",
       "3                         1041       -23.544392       -46.639499   \n",
       "4                         1035       -23.541578       -46.641607   \n",
       "\n",
       "  geolocation_city geolocation_state  \n",
       "0        sao paulo                SP  \n",
       "1        sao paulo                SP  \n",
       "2        sao paulo                SP  \n",
       "3        sao paulo                SP  \n",
       "4        sao paulo                SP  "
      ]
     },
     "execution_count": 3,
     "metadata": {},
     "output_type": "execute_result"
    }
   ],
   "source": [
    "df_geo = read_olist_csv('../data/olist_geolocation_dataset.csv')\n",
    "df_geo.head()"
   ]
  },
  {
   "cell_type": "code",
   "execution_count": 4,
   "id": "a8d8ae0a",
   "metadata": {},
   "outputs": [
    {
     "data": {
      "text/plain": [
       "geolocation_city\n",
       "sao paulo               135800\n",
       "rio de janeiro           62151\n",
       "belo horizonte           27805\n",
       "são paulo                24918\n",
       "curitiba                 16593\n",
       "                         ...  \n",
       "jacuípe                      1\n",
       "mar vermelho                 1\n",
       "quebrangulo                  1\n",
       "poço das trincheiras         1\n",
       "poxim                        1\n",
       "Name: count, Length: 8011, dtype: int64"
      ]
     },
     "execution_count": 4,
     "metadata": {},
     "output_type": "execute_result"
    }
   ],
   "source": [
    "df_geo['geolocation_city'].value_counts()"
   ]
  },
  {
   "cell_type": "code",
   "execution_count": 9,
   "id": "91dc670c",
   "metadata": {},
   "outputs": [
    {
     "data": {
      "text/plain": [
       "array(['sao paulo', 'são paulo', 'sao bernardo do campo', 'jundiaí',\n",
       "       'taboão da serra', 'sãopaulo', 'sp', 'sa£o paulo',\n",
       "       'sao jose dos campos', 'osasco', 'carapicuíba', 'carapicuiba',\n",
       "       'barueri', 'santana de parnaiba', 'pirapora do bom jesus',\n",
       "       'santana de parnaíba', 'jandira', 'itapevi', 'cotia',\n",
       "       'taboao da serra', 'vargem grande paulista', 'embu das artes',\n",
       "       'itapecerica da serra', 'embu', 'são lourenço da serra',\n",
       "       'sao lourenco da serra', 'embu-guacu', 'embu-guaçu', 'embu guaçu',\n",
       "       'juquitiba', 'embu guacu', 'embuguacu', 'guarulhos', 'adamantina',\n",
       "       'guarulhos-sp', 'aruja', 'arujá', 'santa isabel', 'mairipora',\n",
       "       'mairiporã', 'cajamar', 'caieiras', 'jordanesia', 'polvilho',\n",
       "       'mauá', 'jordanésia', 'franco da rocha', 'francisco morato', 'poa',\n",
       "       'itaquaquecetuba'], dtype=object)"
      ]
     },
     "execution_count": 9,
     "metadata": {},
     "output_type": "execute_result"
    }
   ],
   "source": [
    "df_geo['geolocation_city'].unique()[:50]"
   ]
  },
  {
   "cell_type": "markdown",
   "id": "bc6c0df1",
   "metadata": {},
   "source": [
    "When starting to modify the original dataframe, copy the original dataframe into another variable (to prevent accidental changes on original dataframe which will affect other code)"
   ]
  },
  {
   "cell_type": "code",
   "execution_count": 12,
   "id": "94aed9cc",
   "metadata": {},
   "outputs": [
    {
     "data": {
      "text/html": [
       "<div>\n",
       "<style scoped>\n",
       "    .dataframe tbody tr th:only-of-type {\n",
       "        vertical-align: middle;\n",
       "    }\n",
       "\n",
       "    .dataframe tbody tr th {\n",
       "        vertical-align: top;\n",
       "    }\n",
       "\n",
       "    .dataframe thead th {\n",
       "        text-align: right;\n",
       "    }\n",
       "</style>\n",
       "<table border=\"1\" class=\"dataframe\">\n",
       "  <thead>\n",
       "    <tr style=\"text-align: right;\">\n",
       "      <th></th>\n",
       "      <th>geolocation_zip_code_prefix</th>\n",
       "      <th>geolocation_lat</th>\n",
       "      <th>geolocation_lng</th>\n",
       "      <th>geolocation_city</th>\n",
       "      <th>geolocation_state</th>\n",
       "    </tr>\n",
       "  </thead>\n",
       "  <tbody>\n",
       "    <tr>\n",
       "      <th>0</th>\n",
       "      <td>1037</td>\n",
       "      <td>-23.545621</td>\n",
       "      <td>-46.639292</td>\n",
       "      <td>sao paulo</td>\n",
       "      <td>SP</td>\n",
       "    </tr>\n",
       "    <tr>\n",
       "      <th>1</th>\n",
       "      <td>1046</td>\n",
       "      <td>-23.546081</td>\n",
       "      <td>-46.644820</td>\n",
       "      <td>sao paulo</td>\n",
       "      <td>SP</td>\n",
       "    </tr>\n",
       "    <tr>\n",
       "      <th>2</th>\n",
       "      <td>1046</td>\n",
       "      <td>-23.546129</td>\n",
       "      <td>-46.642951</td>\n",
       "      <td>sao paulo</td>\n",
       "      <td>SP</td>\n",
       "    </tr>\n",
       "    <tr>\n",
       "      <th>3</th>\n",
       "      <td>1041</td>\n",
       "      <td>-23.544392</td>\n",
       "      <td>-46.639499</td>\n",
       "      <td>sao paulo</td>\n",
       "      <td>SP</td>\n",
       "    </tr>\n",
       "    <tr>\n",
       "      <th>4</th>\n",
       "      <td>1035</td>\n",
       "      <td>-23.541578</td>\n",
       "      <td>-46.641607</td>\n",
       "      <td>sao paulo</td>\n",
       "      <td>SP</td>\n",
       "    </tr>\n",
       "  </tbody>\n",
       "</table>\n",
       "</div>"
      ],
      "text/plain": [
       "   geolocation_zip_code_prefix  geolocation_lat  geolocation_lng  \\\n",
       "0                         1037       -23.545621       -46.639292   \n",
       "1                         1046       -23.546081       -46.644820   \n",
       "2                         1046       -23.546129       -46.642951   \n",
       "3                         1041       -23.544392       -46.639499   \n",
       "4                         1035       -23.541578       -46.641607   \n",
       "\n",
       "  geolocation_city geolocation_state  \n",
       "0        sao paulo                SP  \n",
       "1        sao paulo                SP  \n",
       "2        sao paulo                SP  \n",
       "3        sao paulo                SP  \n",
       "4        sao paulo                SP  "
      ]
     },
     "metadata": {},
     "output_type": "display_data"
    }
   ],
   "source": [
    "cleaned_df_geo = df_geo.copy()\n",
    "# Example cleaning: remove leading/trailing spaces and convert to lowercase\n",
    "cleaned_df_geo['geolocation_city'] = cleaned_df_geo['geolocation_city'].str.strip().str.lower()\n",
    "# Assume it's already cleaned for demonstration purposes\n",
    "display(cleaned_df_geo.head())\n",
    "# Save the cleaned dataframe into a new CSV file\n",
    "cleaned_df_geo.to_csv('../data/cleaned_data/example_cleaned_olist_geolocation_dataset.csv', index=False)"
   ]
  }
 ],
 "metadata": {
  "kernelspec": {
   "display_name": "base",
   "language": "python",
   "name": "python3"
  },
  "language_info": {
   "codemirror_mode": {
    "name": "ipython",
    "version": 3
   },
   "file_extension": ".py",
   "mimetype": "text/x-python",
   "name": "python",
   "nbconvert_exporter": "python",
   "pygments_lexer": "ipython3",
   "version": "3.12.3"
  }
 },
 "nbformat": 4,
 "nbformat_minor": 5
}
