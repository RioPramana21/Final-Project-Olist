{
 "cells": [
  {
   "cell_type": "code",
   "execution_count": 3,
   "id": "d3e10c49",
   "metadata": {},
   "outputs": [],
   "source": [
    "# Import Library\n",
    "import pandas as pd\n",
    "import numpy as np\n",
    "import matplotlib.pyplot as plt\n",
    "from matplotlib.ticker import FuncFormatter\n",
    "import seaborn as sns\n",
    "import plotly.express as px\n",
    "import plotly.graph_objects as go\n",
    "from statsmodels.stats.proportion import proportions_ztest\n",
    "from scipy.stats import normaltest, chi2_contingency, mannwhitneyu, ttest_ind, kstest\n",
    "import statsmodels.api as sm\n",
    "import os\n",
    "import missingno as msno\n",
    "\n",
    "import warnings\n",
    "warnings.filterwarnings(\"ignore\", category=FutureWarning)\n",
    "pd.set_option('display.max_colwidth', None)"
   ]
  },
  {
   "cell_type": "code",
   "execution_count": 4,
   "id": "5a2ff7de",
   "metadata": {},
   "outputs": [],
   "source": [
    "# List of date columns for each Olist dataset\n",
    "# This dictionary maps each dataset filename to a list of columns that should be parsed as dates.\n",
    "date_cols = {\n",
    "    'olist_orders_dataset.csv': [\n",
    "        'order_purchase_timestamp',\n",
    "        'order_approved_at',\n",
    "        'order_delivered_carrier_date',\n",
    "        'order_delivered_customer_date',\n",
    "        'order_estimated_delivery_date',\n",
    "    ],\n",
    "    'olist_order_items_dataset.csv': [\n",
    "        'shipping_limit_date',\n",
    "    ],\n",
    "    'olist_order_reviews_dataset.csv': [\n",
    "        'review_creation_date',\n",
    "        'review_answer_timestamp',\n",
    "    ],\n",
    "    # The following datasets have NO date columns:\n",
    "    # 'olist_customers_dataset.csv'\n",
    "    # 'olist_geolocation_dataset.csv'\n",
    "    # 'olist_order_payments_dataset.csv'\n",
    "    # 'olist_products_dataset.csv'\n",
    "    # 'olist_sellers_dataset.csv'\n",
    "    # 'product_category_name_translation.csv'\n",
    "    'master_olist_dataset.csv': [\n",
    "        'order_purchase_timestamp',\n",
    "        'order_approved_at',\n",
    "        'order_delivered_carrier_date',\n",
    "        'order_delivered_customer_date',\n",
    "        'order_estimated_delivery_date',\n",
    "        'shipping_limit_date',\n",
    "        'review_creation_date',\n",
    "        'review_answer_timestamp',\n",
    "    ]\n",
    "}\n",
    "\n",
    "def read_olist_csv(path):\n",
    "    \"\"\"\n",
    "    Reads an Olist CSV and parses dates for the correct columns.\n",
    "    Args:\n",
    "        path (str): Path to the CSV file.\n",
    "    Returns:\n",
    "        pd.DataFrame: Loaded dataframe with date columns parsed as datetime.\n",
    "    \"\"\"\n",
    "    # Extract just the filename, e.g., 'olist_orders_dataset.csv'\n",
    "    filename = os.path.basename(path)\n",
    "    # Get the correct date columns for this file, or an empty list\n",
    "    parse_dates = date_cols.get(filename, [])\n",
    "    # Read the CSV, parsing the specified date columns (if any)\n",
    "    return pd.read_csv(path, parse_dates=parse_dates)"
   ]
  },
  {
   "cell_type": "markdown",
   "id": "b8e48f3f",
   "metadata": {},
   "source": [
    "Load original (raw) datasets:"
   ]
  },
  {
   "cell_type": "code",
   "execution_count": 5,
   "id": "bf0ca18d",
   "metadata": {},
   "outputs": [],
   "source": [
    "original_df_orders           = read_olist_csv('../data/original_data/olist_orders_dataset.csv')\n",
    "original_df_customers        = read_olist_csv('../data/original_data/olist_customers_dataset.csv')\n",
    "original_df_order_items      = read_olist_csv('../data/original_data/olist_order_items_dataset.csv')\n",
    "original_df_order_payments   = read_olist_csv('../data/original_data/olist_order_payments_dataset.csv')\n",
    "original_df_reviews          = read_olist_csv('../data/original_data/olist_order_reviews_dataset.csv')\n",
    "original_df_products         = read_olist_csv('../data/original_data/olist_products_dataset.csv')\n",
    "original_df_prod_cat_tr      = read_olist_csv('../data/original_data/product_category_name_translation.csv')\n",
    "original_df_sellers          = read_olist_csv('../data/original_data/olist_sellers_dataset.csv')\n",
    "original_df_geolocation      = read_olist_csv('../data/original_data/olist_geolocation_dataset.csv')"
   ]
  },
  {
   "cell_type": "markdown",
   "id": "fbbeef91",
   "metadata": {},
   "source": [
    "Load cleaned datasets"
   ]
  },
  {
   "cell_type": "code",
   "execution_count": 6,
   "id": "cb99d74b",
   "metadata": {},
   "outputs": [],
   "source": [
    "cleaned_delivered_df_orders           = read_olist_csv('../data/cleaned_data/olist_orders_dataset.csv')\n",
    "cleaned_df_customers        = read_olist_csv('../data/cleaned_data/olist_customers_dataset.csv')\n",
    "cleaned_delivered_df_order_items      = read_olist_csv('../data/cleaned_data/olist_order_items_dataset.csv')\n",
    "cleaned_delivered_df_order_payments   = read_olist_csv('../data/cleaned_data/olist_order_payments_dataset.csv')\n",
    "cleaned_delivered_df_reviews          = read_olist_csv('../data/cleaned_data/olist_order_reviews_dataset.csv')\n",
    "cleaned_df_products         = read_olist_csv('../data/cleaned_data/olist_products_dataset.csv')\n",
    "cleaned_df_prod_cat_tr      = read_olist_csv('../data/cleaned_data/product_category_name_translation.csv')\n",
    "cleaned_df_sellers          = read_olist_csv('../data/cleaned_data/olist_sellers_dataset.csv')\n",
    "cleaned_df_geolocation      = read_olist_csv('../data/cleaned_data/olist_geolocation_dataset.csv')"
   ]
  },
  {
   "cell_type": "markdown",
   "id": "758fe740",
   "metadata": {},
   "source": [
    "Load master dataset"
   ]
  },
  {
   "cell_type": "code",
   "execution_count": 7,
   "id": "576ef985",
   "metadata": {},
   "outputs": [],
   "source": [
    "master_olist_dataset = read_olist_csv('../data/cleaned_data/master_olist_dataset.csv')"
   ]
  }
 ],
 "metadata": {
  "kernelspec": {
   "display_name": "base",
   "language": "python",
   "name": "python3"
  },
  "language_info": {
   "codemirror_mode": {
    "name": "ipython",
    "version": 3
   },
   "file_extension": ".py",
   "mimetype": "text/x-python",
   "name": "python",
   "nbconvert_exporter": "python",
   "pygments_lexer": "ipython3",
   "version": "3.12.3"
  }
 },
 "nbformat": 4,
 "nbformat_minor": 5
}
