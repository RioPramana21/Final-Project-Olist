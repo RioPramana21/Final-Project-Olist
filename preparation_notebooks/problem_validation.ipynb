{
 "cells": [
  {
   "cell_type": "code",
   "execution_count": 1,
   "id": "cbb1c9c0",
   "metadata": {},
   "outputs": [],
   "source": [
    "import pandas as pd\n",
    "import os\n",
    "import seaborn as sns\n",
    "import matplotlib.pyplot as plt\n",
    "\n",
    "date_cols = {\n",
    "    'olist_orders_dataset.csv': [\n",
    "        'order_purchase_timestamp',\n",
    "        'order_approved_at',\n",
    "        'order_delivered_carrier_date',\n",
    "        'order_delivered_customer_date',\n",
    "        'order_estimated_delivery_date',\n",
    "    ],\n",
    "    'olist_order_items_dataset.csv': [\n",
    "        'shipping_limit_date',\n",
    "    ],\n",
    "    'olist_order_reviews_dataset.csv': [\n",
    "        'review_creation_date',\n",
    "        'review_answer_timestamp',\n",
    "    ],\n",
    "    # The following datasets have NO date columns:\n",
    "    # 'olist_customers_dataset.csv'\n",
    "    # 'olist_geolocation_dataset.csv'\n",
    "    # 'olist_order_payments_dataset.csv'\n",
    "    # 'olist_products_dataset.csv'\n",
    "    # 'olist_sellers_dataset.csv'\n",
    "    # 'product_category_name_translation.csv'\n",
    "}\n",
    "\n",
    "def read_olist_csv(path):\n",
    "    \"\"\"\n",
    "    Reads an Olist CSV and parses dates for the correct columns.\n",
    "    Args:\n",
    "        path (str): Path to the CSV file.\n",
    "    Returns:\n",
    "        pd.DataFrame: Loaded dataframe with date columns parsed as datetime.\n",
    "    \"\"\"\n",
    "    # Extract just the filename, e.g., 'olist_orders_dataset.csv'\n",
    "    filename = os.path.basename(path)\n",
    "    # Get the correct date columns for this file, or an empty list\n",
    "    parse_dates = date_cols.get(filename, [])\n",
    "    # Read the CSV, parsing the specified date columns (if any)\n",
    "    return pd.read_csv(path, parse_dates=parse_dates)\n",
    "\n",
    "df_orders      = read_olist_csv('../data/olist_orders_dataset.csv')\n",
    "df_customers   = read_olist_csv('../data/olist_customers_dataset.csv')\n",
    "df_items       = read_olist_csv('../data/olist_order_items_dataset.csv')\n",
    "df_payments    = read_olist_csv('../data/olist_order_payments_dataset.csv')\n",
    "df_reviews     = read_olist_csv('../data/olist_order_reviews_dataset.csv')\n",
    "df_products    = read_olist_csv('../data/olist_products_dataset.csv')\n",
    "df_prod_cat_tr = read_olist_csv('../data/product_category_name_translation.csv')\n",
    "df_sellers     = read_olist_csv('../data/olist_sellers_dataset.csv')\n",
    "df_geo         = read_olist_csv('../data/olist_geolocation_dataset.csv')"
   ]
  },
  {
   "cell_type": "code",
   "execution_count": null,
   "id": "d6e8f615",
   "metadata": {},
   "outputs": [],
   "source": []
  }
 ],
 "metadata": {
  "kernelspec": {
   "display_name": "base",
   "language": "python",
   "name": "python3"
  },
  "language_info": {
   "codemirror_mode": {
    "name": "ipython",
    "version": 3
   },
   "file_extension": ".py",
   "mimetype": "text/x-python",
   "name": "python",
   "nbconvert_exporter": "python",
   "pygments_lexer": "ipython3",
   "version": "3.12.3"
  }
 },
 "nbformat": 4,
 "nbformat_minor": 5
}
