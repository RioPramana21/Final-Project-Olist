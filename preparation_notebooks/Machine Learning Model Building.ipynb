{
 "cells": [
  {
   "cell_type": "code",
   "execution_count": 66,
   "id": "5e7106ad",
   "metadata": {},
   "outputs": [],
   "source": [
    "# Data Handling & Manipulation\n",
    "import pandas as pd                                         # for dataframes, CSV/Excel reading, tabular data manipulation\n",
    "import numpy as np                                          # for numerical operations and array handling\n",
    "import datetime                                             # for date and time manipulation\n",
    "from datetime import datetime, timedelta                    # for date arithmetic (e.g., adding days)\n",
    "from workalendar.america import Brazil                      # for Brazilian holidays (e.g., to check if a date is a holiday)\n",
    "\n",
    "# Data Visualisation (Static)\n",
    "import matplotlib.pyplot as plt                             # for creating static plots\n",
    "from matplotlib.ticker import FuncFormatter                 # for customising tick labels (e.g., currency, %)\n",
    "import seaborn as sns                                       # for statistical visualisation (heatmaps, distplots, etc.)\n",
    "\n",
    "# Data Visualisation (Interactive)\n",
    "import plotly.express as px                                 # for quick and interactive visualisation\n",
    "import plotly.graph_objects as go                           # for custom interactive plots\n",
    "from plotly.subplots import make_subplots                   # for interactive subplots\n",
    "\n",
    "# Data Quality & Missing Value Visualisation\n",
    "import missingno as msno                                    # for visualising missing data patterns\n",
    "\n",
    "# Statistical Testing & Inference\n",
    "from statsmodels.stats.proportion import proportions_ztest  # for comparing proportions (e.g., late vs. on-time)\n",
    "from scipy.stats import (\n",
    "    normaltest,                                             # for checking normality\n",
    "    chi2_contingency,                                       # for categorical association\n",
    "    mannwhitneyu,                                           # for non-parametric testing\n",
    "    ttest_ind,                                              # for independent sample t-test\n",
    "    f_oneway,                                               # for one-way ANOVA\n",
    "    kruskal,                                                # for Kruskal-Wallis test\n",
    "    kstest,                                                 # for Kolmogorov-Smirnov test\n",
    "    spearmanr,                                              # for Spearman correlation\n",
    "    pointbiserialr                                          # for point-biserial correlation (binary vs. continuous)\n",
    ")\n",
    "import statsmodels.api as sm                                # for advanced statistical modelling and diagnostics\n",
    "import statsmodels.formula.api as smf                       # for formula-based statistical models\n",
    "from statsmodels.stats.multicomp import pairwise_tukeyhsd   # for post-hoc tests after ANOVA\n",
    "\n",
    "# System & Settings\n",
    "import os                                                   # for file handling and directory operations\n",
    "import warnings                                             # to suppress or manage warning messages\n",
    "warnings.filterwarnings(\"ignore\", category=FutureWarning)\n",
    "pd.set_option('display.max_colwidth', None)                 # display full content in cells (useful for text data)\n",
    "\n",
    "# Machine Learning & Model Evaluation\n",
    "import joblib                                               # for saving and loading ML models\n",
    "from sklearn.model_selection import train_test_split, StratifiedKFold, cross_val_score\n",
    "from sklearn.metrics import (\n",
    "    average_precision_score, precision_recall_fscore_support,\n",
    "    confusion_matrix, PrecisionRecallDisplay, make_scorer\n",
    ")\n",
    "from sklearn.dummy import DummyClassifier\n",
    "from sklearn.linear_model import LogisticRegression\n",
    "from sklearn.neighbors import KNeighborsClassifier           # for KNN classifier (added since it's in your benchmark)\n",
    "from sklearn.tree import DecisionTreeClassifier              # for Decision Tree classifier (added since it's in your benchmark)\n",
    "from sklearn.ensemble import RandomForestClassifier\n",
    "from sklearn.compose import ColumnTransformer\n",
    "from sklearn.pipeline import Pipeline\n",
    "from sklearn.preprocessing import OneHotEncoder, RobustScaler\n",
    "from xgboost import XGBClassifier                           # for XGBoost classifier\n",
    "from lightgbm import LGBMClassifier                         # for LightGBM classifier\n",
    "from catboost import CatBoostClassifier, Pool               # for CatBoost classifier\n"
   ]
  },
  {
   "cell_type": "code",
   "execution_count": 67,
   "id": "22631357",
   "metadata": {},
   "outputs": [],
   "source": [
    "# List of date columns for each Olist dataset:\n",
    "# This dictionary maps each dataset filename to a list of columns that should be parsed as dates.\n",
    "date_cols = {\n",
    "    'olist_orders_dataset.csv': [\n",
    "        'order_purchase_timestamp',\n",
    "        'order_approved_at',\n",
    "        'order_delivered_carrier_date',\n",
    "        'order_delivered_customer_date',\n",
    "        'order_estimated_delivery_date',\n",
    "    ],\n",
    "    'olist_order_items_dataset.csv': [\n",
    "        'shipping_limit_date',\n",
    "    ],\n",
    "    'olist_order_reviews_dataset.csv': [\n",
    "        'review_creation_date',\n",
    "        'review_answer_timestamp',\n",
    "    ],\n",
    "    # The following datasets have NO date columns:\n",
    "    # 'olist_customers_dataset.csv'\n",
    "    # 'olist_geolocation_dataset.csv'\n",
    "    # 'olist_order_payments_dataset.csv'\n",
    "    # 'olist_products_dataset.csv'\n",
    "    # 'olist_sellers_dataset.csv'\n",
    "    # 'product_category_name_translation.csv'\n",
    "    'master_olist_dataset.csv': [\n",
    "        'order_purchase_timestamp',\n",
    "        'order_approved_at',\n",
    "        'order_delivered_carrier_date',\n",
    "        'order_delivered_customer_date',\n",
    "        'order_estimated_delivery_date',\n",
    "        'shipping_limit_date',\n",
    "        'review_creation_date',\n",
    "        'review_answer_timestamp',\n",
    "    ],\n",
    "}\n",
    "\n",
    "def read_olist_csv(path):\n",
    "    \"\"\"\n",
    "    Reads an Olist CSV and parses dates for the correct columns.\n",
    "    Args:\n",
    "        path (str): Path to the CSV file.\n",
    "    Returns:\n",
    "        pd.DataFrame: Loaded dataframe with date columns parsed as datetime.\n",
    "    \"\"\"\n",
    "    # Extract just the filename, e.g., 'olist_orders_dataset.csv':\n",
    "    filename = os.path.basename(path)\n",
    "    # Get the correct date columns for this file, or an empty list:\n",
    "    parse_dates = date_cols.get(filename, [])\n",
    "    # Read the CSV, parsing the specified date columns (if any):\n",
    "    return pd.read_csv(path, parse_dates=parse_dates)"
   ]
  },
  {
   "cell_type": "code",
   "execution_count": 68,
   "id": "1c6926df",
   "metadata": {},
   "outputs": [
    {
     "data": {
      "text/html": [
       "<div>\n",
       "<style scoped>\n",
       "    .dataframe tbody tr th:only-of-type {\n",
       "        vertical-align: middle;\n",
       "    }\n",
       "\n",
       "    .dataframe tbody tr th {\n",
       "        vertical-align: top;\n",
       "    }\n",
       "\n",
       "    .dataframe thead th {\n",
       "        text-align: right;\n",
       "    }\n",
       "</style>\n",
       "<table border=\"1\" class=\"dataframe\">\n",
       "  <thead>\n",
       "    <tr style=\"text-align: right;\">\n",
       "      <th></th>\n",
       "      <th>purchase_to_approve_hrs</th>\n",
       "      <th>approve_to_estimated_days</th>\n",
       "      <th>approve_to_shipping_limit_days</th>\n",
       "      <th>purchase_hour</th>\n",
       "      <th>purchase_dow</th>\n",
       "      <th>purchase_month</th>\n",
       "      <th>is_weekend</th>\n",
       "      <th>is_brazil_holiday</th>\n",
       "      <th>distance_km</th>\n",
       "      <th>same_state</th>\n",
       "      <th>freight_ratio</th>\n",
       "      <th>customer_is_remote</th>\n",
       "      <th>seller_dispatch_hub</th>\n",
       "      <th>seller_30d_dispatch_late_rate_raw</th>\n",
       "      <th>seller_30d_dispatch_late_rate_smoothed</th>\n",
       "      <th>seller_30d_order_count</th>\n",
       "      <th>seller_90d_dispatch_late_rate_raw</th>\n",
       "      <th>seller_90d_dispatch_late_rate_smoothed</th>\n",
       "      <th>seller_90d_order_count</th>\n",
       "      <th>sum_freight_value</th>\n",
       "      <th>price</th>\n",
       "      <th>total_payment_value</th>\n",
       "      <th>customer_state</th>\n",
       "      <th>seller_state</th>\n",
       "      <th>freight_value</th>\n",
       "      <th>product_category_name_english</th>\n",
       "      <th>payment_types</th>\n",
       "      <th>is_late</th>\n",
       "    </tr>\n",
       "  </thead>\n",
       "  <tbody>\n",
       "    <tr>\n",
       "      <th>0</th>\n",
       "      <td>0.178333</td>\n",
       "      <td>15</td>\n",
       "      <td>4</td>\n",
       "      <td>10</td>\n",
       "      <td>0</td>\n",
       "      <td>10</td>\n",
       "      <td>0</td>\n",
       "      <td>0</td>\n",
       "      <td>18.657513</td>\n",
       "      <td>1</td>\n",
       "      <td>0.290764</td>\n",
       "      <td>0</td>\n",
       "      <td>0.368421</td>\n",
       "      <td>0.000000</td>\n",
       "      <td>0.100000</td>\n",
       "      <td>8.0</td>\n",
       "      <td>0.000000</td>\n",
       "      <td>0.022727</td>\n",
       "      <td>42.0</td>\n",
       "      <td>8.72</td>\n",
       "      <td>29.99</td>\n",
       "      <td>38.71</td>\n",
       "      <td>SP</td>\n",
       "      <td>SP</td>\n",
       "      <td>8.72</td>\n",
       "      <td>housewares</td>\n",
       "      <td>credit_card, voucher</td>\n",
       "      <td>False</td>\n",
       "    </tr>\n",
       "    <tr>\n",
       "      <th>1</th>\n",
       "      <td>30.713889</td>\n",
       "      <td>17</td>\n",
       "      <td>4</td>\n",
       "      <td>20</td>\n",
       "      <td>1</td>\n",
       "      <td>7</td>\n",
       "      <td>0</td>\n",
       "      <td>0</td>\n",
       "      <td>861.068703</td>\n",
       "      <td>0</td>\n",
       "      <td>0.191744</td>\n",
       "      <td>1</td>\n",
       "      <td>0.596899</td>\n",
       "      <td>0.000000</td>\n",
       "      <td>0.029412</td>\n",
       "      <td>32.0</td>\n",
       "      <td>0.000000</td>\n",
       "      <td>0.016667</td>\n",
       "      <td>58.0</td>\n",
       "      <td>22.76</td>\n",
       "      <td>118.70</td>\n",
       "      <td>141.46</td>\n",
       "      <td>BA</td>\n",
       "      <td>SP</td>\n",
       "      <td>22.76</td>\n",
       "      <td>perfumery</td>\n",
       "      <td>boleto</td>\n",
       "      <td>False</td>\n",
       "    </tr>\n",
       "    <tr>\n",
       "      <th>2</th>\n",
       "      <td>0.276111</td>\n",
       "      <td>26</td>\n",
       "      <td>5</td>\n",
       "      <td>8</td>\n",
       "      <td>2</td>\n",
       "      <td>8</td>\n",
       "      <td>0</td>\n",
       "      <td>0</td>\n",
       "      <td>514.560686</td>\n",
       "      <td>0</td>\n",
       "      <td>0.120200</td>\n",
       "      <td>0</td>\n",
       "      <td>0.605035</td>\n",
       "      <td>0.034884</td>\n",
       "      <td>0.045455</td>\n",
       "      <td>86.0</td>\n",
       "      <td>0.033755</td>\n",
       "      <td>0.037657</td>\n",
       "      <td>237.0</td>\n",
       "      <td>19.22</td>\n",
       "      <td>159.90</td>\n",
       "      <td>179.12</td>\n",
       "      <td>GO</td>\n",
       "      <td>SP</td>\n",
       "      <td>19.22</td>\n",
       "      <td>auto</td>\n",
       "      <td>credit_card</td>\n",
       "      <td>False</td>\n",
       "    </tr>\n",
       "    <tr>\n",
       "      <th>3</th>\n",
       "      <td>0.298056</td>\n",
       "      <td>26</td>\n",
       "      <td>5</td>\n",
       "      <td>19</td>\n",
       "      <td>5</td>\n",
       "      <td>11</td>\n",
       "      <td>1</td>\n",
       "      <td>0</td>\n",
       "      <td>1821.871635</td>\n",
       "      <td>0</td>\n",
       "      <td>0.604444</td>\n",
       "      <td>1</td>\n",
       "      <td>0.836478</td>\n",
       "      <td>0.000000</td>\n",
       "      <td>0.100000</td>\n",
       "      <td>8.0</td>\n",
       "      <td>0.000000</td>\n",
       "      <td>0.033333</td>\n",
       "      <td>28.0</td>\n",
       "      <td>27.20</td>\n",
       "      <td>45.00</td>\n",
       "      <td>72.20</td>\n",
       "      <td>RN</td>\n",
       "      <td>MG</td>\n",
       "      <td>27.20</td>\n",
       "      <td>pet_shop</td>\n",
       "      <td>credit_card</td>\n",
       "      <td>False</td>\n",
       "    </tr>\n",
       "    <tr>\n",
       "      <th>4</th>\n",
       "      <td>1.030556</td>\n",
       "      <td>12</td>\n",
       "      <td>5</td>\n",
       "      <td>21</td>\n",
       "      <td>1</td>\n",
       "      <td>2</td>\n",
       "      <td>0</td>\n",
       "      <td>0</td>\n",
       "      <td>29.623876</td>\n",
       "      <td>1</td>\n",
       "      <td>0.438191</td>\n",
       "      <td>0</td>\n",
       "      <td>0.480000</td>\n",
       "      <td>0.000000</td>\n",
       "      <td>0.083333</td>\n",
       "      <td>10.0</td>\n",
       "      <td>0.000000</td>\n",
       "      <td>0.025000</td>\n",
       "      <td>38.0</td>\n",
       "      <td>8.72</td>\n",
       "      <td>19.90</td>\n",
       "      <td>28.62</td>\n",
       "      <td>SP</td>\n",
       "      <td>SP</td>\n",
       "      <td>8.72</td>\n",
       "      <td>stationery</td>\n",
       "      <td>credit_card</td>\n",
       "      <td>False</td>\n",
       "    </tr>\n",
       "  </tbody>\n",
       "</table>\n",
       "</div>"
      ],
      "text/plain": [
       "   purchase_to_approve_hrs  approve_to_estimated_days  \\\n",
       "0                 0.178333                         15   \n",
       "1                30.713889                         17   \n",
       "2                 0.276111                         26   \n",
       "3                 0.298056                         26   \n",
       "4                 1.030556                         12   \n",
       "\n",
       "   approve_to_shipping_limit_days  purchase_hour  purchase_dow  \\\n",
       "0                               4             10             0   \n",
       "1                               4             20             1   \n",
       "2                               5              8             2   \n",
       "3                               5             19             5   \n",
       "4                               5             21             1   \n",
       "\n",
       "   purchase_month  is_weekend  is_brazil_holiday  distance_km  same_state  \\\n",
       "0              10           0                  0    18.657513           1   \n",
       "1               7           0                  0   861.068703           0   \n",
       "2               8           0                  0   514.560686           0   \n",
       "3              11           1                  0  1821.871635           0   \n",
       "4               2           0                  0    29.623876           1   \n",
       "\n",
       "   freight_ratio  customer_is_remote  seller_dispatch_hub  \\\n",
       "0       0.290764                   0             0.368421   \n",
       "1       0.191744                   1             0.596899   \n",
       "2       0.120200                   0             0.605035   \n",
       "3       0.604444                   1             0.836478   \n",
       "4       0.438191                   0             0.480000   \n",
       "\n",
       "   seller_30d_dispatch_late_rate_raw  seller_30d_dispatch_late_rate_smoothed  \\\n",
       "0                           0.000000                                0.100000   \n",
       "1                           0.000000                                0.029412   \n",
       "2                           0.034884                                0.045455   \n",
       "3                           0.000000                                0.100000   \n",
       "4                           0.000000                                0.083333   \n",
       "\n",
       "   seller_30d_order_count  seller_90d_dispatch_late_rate_raw  \\\n",
       "0                     8.0                           0.000000   \n",
       "1                    32.0                           0.000000   \n",
       "2                    86.0                           0.033755   \n",
       "3                     8.0                           0.000000   \n",
       "4                    10.0                           0.000000   \n",
       "\n",
       "   seller_90d_dispatch_late_rate_smoothed  seller_90d_order_count  \\\n",
       "0                                0.022727                    42.0   \n",
       "1                                0.016667                    58.0   \n",
       "2                                0.037657                   237.0   \n",
       "3                                0.033333                    28.0   \n",
       "4                                0.025000                    38.0   \n",
       "\n",
       "   sum_freight_value   price  total_payment_value customer_state seller_state  \\\n",
       "0               8.72   29.99                38.71             SP           SP   \n",
       "1              22.76  118.70               141.46             BA           SP   \n",
       "2              19.22  159.90               179.12             GO           SP   \n",
       "3              27.20   45.00                72.20             RN           MG   \n",
       "4               8.72   19.90                28.62             SP           SP   \n",
       "\n",
       "   freight_value product_category_name_english         payment_types  is_late  \n",
       "0           8.72                    housewares  credit_card, voucher    False  \n",
       "1          22.76                     perfumery                boleto    False  \n",
       "2          19.22                          auto           credit_card    False  \n",
       "3          27.20                      pet_shop           credit_card    False  \n",
       "4           8.72                    stationery           credit_card    False  "
      ]
     },
     "execution_count": 68,
     "metadata": {},
     "output_type": "execute_result"
    }
   ],
   "source": [
    "df = read_olist_csv('../data/cleaned_data/olist_ml_ready_dataset.csv')\n",
    "df.head()"
   ]
  },
  {
   "cell_type": "code",
   "execution_count": 69,
   "id": "0d466838",
   "metadata": {},
   "outputs": [
    {
     "name": "stdout",
     "output_type": "stream",
     "text": [
      "<class 'pandas.core.frame.DataFrame'>\n",
      "RangeIndex: 109933 entries, 0 to 109932\n",
      "Data columns (total 28 columns):\n",
      " #   Column                                  Non-Null Count   Dtype  \n",
      "---  ------                                  --------------   -----  \n",
      " 0   purchase_to_approve_hrs                 109933 non-null  float64\n",
      " 1   approve_to_estimated_days               109933 non-null  int64  \n",
      " 2   approve_to_shipping_limit_days          109933 non-null  int64  \n",
      " 3   purchase_hour                           109933 non-null  int64  \n",
      " 4   purchase_dow                            109933 non-null  int64  \n",
      " 5   purchase_month                          109933 non-null  int64  \n",
      " 6   is_weekend                              109933 non-null  int64  \n",
      " 7   is_brazil_holiday                       109933 non-null  int64  \n",
      " 8   distance_km                             109933 non-null  float64\n",
      " 9   same_state                              109933 non-null  int64  \n",
      " 10  freight_ratio                           109933 non-null  float64\n",
      " 11  customer_is_remote                      109933 non-null  int64  \n",
      " 12  seller_dispatch_hub                     109933 non-null  float64\n",
      " 13  seller_30d_dispatch_late_rate_raw       109933 non-null  float64\n",
      " 14  seller_30d_dispatch_late_rate_smoothed  109933 non-null  float64\n",
      " 15  seller_30d_order_count                  109933 non-null  float64\n",
      " 16  seller_90d_dispatch_late_rate_raw       109933 non-null  float64\n",
      " 17  seller_90d_dispatch_late_rate_smoothed  109933 non-null  float64\n",
      " 18  seller_90d_order_count                  109933 non-null  float64\n",
      " 19  sum_freight_value                       109933 non-null  float64\n",
      " 20  price                                   109933 non-null  float64\n",
      " 21  total_payment_value                     109933 non-null  float64\n",
      " 22  customer_state                          109933 non-null  object \n",
      " 23  seller_state                            109933 non-null  object \n",
      " 24  freight_value                           109933 non-null  float64\n",
      " 25  product_category_name_english           109933 non-null  object \n",
      " 26  payment_types                           109933 non-null  object \n",
      " 27  is_late                                 109933 non-null  bool   \n",
      "dtypes: bool(1), float64(14), int64(9), object(4)\n",
      "memory usage: 22.8+ MB\n"
     ]
    }
   ],
   "source": [
    "df.info()"
   ]
  },
  {
   "cell_type": "markdown",
   "id": "7c5d1d23",
   "metadata": {},
   "source": [
    "Change the target variable (`is_late`) to an int for the model training"
   ]
  },
  {
   "cell_type": "code",
   "execution_count": 70,
   "id": "afb88f9c",
   "metadata": {},
   "outputs": [],
   "source": [
    "df['is_late'] = df['is_late'].astype(int)"
   ]
  },
  {
   "cell_type": "markdown",
   "id": "aa3717d5",
   "metadata": {},
   "source": [
    "Numerical features descriptive statistics:"
   ]
  },
  {
   "cell_type": "code",
   "execution_count": 71,
   "id": "9345dd55",
   "metadata": {},
   "outputs": [
    {
     "data": {
      "text/html": [
       "<div>\n",
       "<style scoped>\n",
       "    .dataframe tbody tr th:only-of-type {\n",
       "        vertical-align: middle;\n",
       "    }\n",
       "\n",
       "    .dataframe tbody tr th {\n",
       "        vertical-align: top;\n",
       "    }\n",
       "\n",
       "    .dataframe thead th {\n",
       "        text-align: right;\n",
       "    }\n",
       "</style>\n",
       "<table border=\"1\" class=\"dataframe\">\n",
       "  <thead>\n",
       "    <tr style=\"text-align: right;\">\n",
       "      <th></th>\n",
       "      <th>purchase_to_approve_hrs</th>\n",
       "      <th>approve_to_estimated_days</th>\n",
       "      <th>approve_to_shipping_limit_days</th>\n",
       "      <th>purchase_hour</th>\n",
       "      <th>purchase_dow</th>\n",
       "      <th>purchase_month</th>\n",
       "      <th>is_weekend</th>\n",
       "      <th>is_brazil_holiday</th>\n",
       "      <th>distance_km</th>\n",
       "      <th>same_state</th>\n",
       "      <th>freight_ratio</th>\n",
       "      <th>customer_is_remote</th>\n",
       "      <th>seller_dispatch_hub</th>\n",
       "      <th>seller_30d_dispatch_late_rate_raw</th>\n",
       "      <th>seller_30d_dispatch_late_rate_smoothed</th>\n",
       "      <th>seller_30d_order_count</th>\n",
       "      <th>seller_90d_dispatch_late_rate_raw</th>\n",
       "      <th>seller_90d_dispatch_late_rate_smoothed</th>\n",
       "      <th>seller_90d_order_count</th>\n",
       "      <th>sum_freight_value</th>\n",
       "      <th>price</th>\n",
       "      <th>total_payment_value</th>\n",
       "      <th>freight_value</th>\n",
       "      <th>is_late</th>\n",
       "    </tr>\n",
       "  </thead>\n",
       "  <tbody>\n",
       "    <tr>\n",
       "      <th>count</th>\n",
       "      <td>109933.000000</td>\n",
       "      <td>109933.000000</td>\n",
       "      <td>109933.000000</td>\n",
       "      <td>109933.000000</td>\n",
       "      <td>109933.000000</td>\n",
       "      <td>109933.000000</td>\n",
       "      <td>109933.000000</td>\n",
       "      <td>109933.000000</td>\n",
       "      <td>109933.000000</td>\n",
       "      <td>109933.000000</td>\n",
       "      <td>109933.000000</td>\n",
       "      <td>109933.000000</td>\n",
       "      <td>109933.000000</td>\n",
       "      <td>109933.000000</td>\n",
       "      <td>109933.000000</td>\n",
       "      <td>109933.000000</td>\n",
       "      <td>109933.000000</td>\n",
       "      <td>109933.000000</td>\n",
       "      <td>109933.00000</td>\n",
       "      <td>109933.000000</td>\n",
       "      <td>109933.000000</td>\n",
       "      <td>109933.000000</td>\n",
       "      <td>109933.000000</td>\n",
       "      <td>109933.000000</td>\n",
       "    </tr>\n",
       "    <tr>\n",
       "      <th>mean</th>\n",
       "      <td>10.533222</td>\n",
       "      <td>22.912974</td>\n",
       "      <td>5.985355</td>\n",
       "      <td>14.751258</td>\n",
       "      <td>2.746537</td>\n",
       "      <td>6.030701</td>\n",
       "      <td>0.227302</td>\n",
       "      <td>0.027699</td>\n",
       "      <td>596.771304</td>\n",
       "      <td>0.361820</td>\n",
       "      <td>0.320681</td>\n",
       "      <td>0.278088</td>\n",
       "      <td>0.627820</td>\n",
       "      <td>0.042141</td>\n",
       "      <td>0.123733</td>\n",
       "      <td>35.309880</td>\n",
       "      <td>0.044501</td>\n",
       "      <td>0.095948</td>\n",
       "      <td>90.02809</td>\n",
       "      <td>27.248761</td>\n",
       "      <td>120.044161</td>\n",
       "      <td>179.509910</td>\n",
       "      <td>19.949499</td>\n",
       "      <td>0.079212</td>\n",
       "    </tr>\n",
       "    <tr>\n",
       "      <th>std</th>\n",
       "      <td>21.000989</td>\n",
       "      <td>8.832961</td>\n",
       "      <td>5.467422</td>\n",
       "      <td>5.319016</td>\n",
       "      <td>1.963767</td>\n",
       "      <td>3.233580</td>\n",
       "      <td>0.419091</td>\n",
       "      <td>0.164109</td>\n",
       "      <td>587.318831</td>\n",
       "      <td>0.480529</td>\n",
       "      <td>0.342008</td>\n",
       "      <td>0.448059</td>\n",
       "      <td>0.160439</td>\n",
       "      <td>0.129461</td>\n",
       "      <td>0.124669</td>\n",
       "      <td>49.067543</td>\n",
       "      <td>0.115396</td>\n",
       "      <td>0.114392</td>\n",
       "      <td>127.36208</td>\n",
       "      <td>33.270072</td>\n",
       "      <td>182.449223</td>\n",
       "      <td>271.586656</td>\n",
       "      <td>15.701392</td>\n",
       "      <td>0.270070</td>\n",
       "    </tr>\n",
       "    <tr>\n",
       "      <th>min</th>\n",
       "      <td>0.000000</td>\n",
       "      <td>-7.000000</td>\n",
       "      <td>-7.000000</td>\n",
       "      <td>0.000000</td>\n",
       "      <td>0.000000</td>\n",
       "      <td>1.000000</td>\n",
       "      <td>0.000000</td>\n",
       "      <td>0.000000</td>\n",
       "      <td>0.000000</td>\n",
       "      <td>0.000000</td>\n",
       "      <td>0.000000</td>\n",
       "      <td>0.000000</td>\n",
       "      <td>0.074074</td>\n",
       "      <td>0.000000</td>\n",
       "      <td>0.002604</td>\n",
       "      <td>1.000000</td>\n",
       "      <td>0.000000</td>\n",
       "      <td>0.001502</td>\n",
       "      <td>1.00000</td>\n",
       "      <td>0.000000</td>\n",
       "      <td>0.850000</td>\n",
       "      <td>9.590000</td>\n",
       "      <td>0.000000</td>\n",
       "      <td>0.000000</td>\n",
       "    </tr>\n",
       "    <tr>\n",
       "      <th>25%</th>\n",
       "      <td>0.216389</td>\n",
       "      <td>17.000000</td>\n",
       "      <td>4.000000</td>\n",
       "      <td>11.000000</td>\n",
       "      <td>1.000000</td>\n",
       "      <td>3.000000</td>\n",
       "      <td>0.000000</td>\n",
       "      <td>0.000000</td>\n",
       "      <td>185.951083</td>\n",
       "      <td>0.000000</td>\n",
       "      <td>0.134536</td>\n",
       "      <td>0.000000</td>\n",
       "      <td>0.515419</td>\n",
       "      <td>0.000000</td>\n",
       "      <td>0.037037</td>\n",
       "      <td>6.000000</td>\n",
       "      <td>0.000000</td>\n",
       "      <td>0.023158</td>\n",
       "      <td>12.00000</td>\n",
       "      <td>14.290000</td>\n",
       "      <td>39.900000</td>\n",
       "      <td>65.550000</td>\n",
       "      <td>13.080000</td>\n",
       "      <td>0.000000</td>\n",
       "    </tr>\n",
       "    <tr>\n",
       "      <th>50%</th>\n",
       "      <td>0.350556</td>\n",
       "      <td>22.000000</td>\n",
       "      <td>6.000000</td>\n",
       "      <td>15.000000</td>\n",
       "      <td>3.000000</td>\n",
       "      <td>6.000000</td>\n",
       "      <td>0.000000</td>\n",
       "      <td>0.000000</td>\n",
       "      <td>433.348916</td>\n",
       "      <td>0.000000</td>\n",
       "      <td>0.231806</td>\n",
       "      <td>0.000000</td>\n",
       "      <td>0.601190</td>\n",
       "      <td>0.000000</td>\n",
       "      <td>0.083333</td>\n",
       "      <td>15.000000</td>\n",
       "      <td>0.000000</td>\n",
       "      <td>0.054054</td>\n",
       "      <td>35.00000</td>\n",
       "      <td>18.160000</td>\n",
       "      <td>74.900000</td>\n",
       "      <td>114.340000</td>\n",
       "      <td>16.260000</td>\n",
       "      <td>0.000000</td>\n",
       "    </tr>\n",
       "    <tr>\n",
       "      <th>75%</th>\n",
       "      <td>15.194722</td>\n",
       "      <td>28.000000</td>\n",
       "      <td>6.000000</td>\n",
       "      <td>19.000000</td>\n",
       "      <td>4.000000</td>\n",
       "      <td>8.000000</td>\n",
       "      <td>0.000000</td>\n",
       "      <td>0.000000</td>\n",
       "      <td>793.859072</td>\n",
       "      <td>1.000000</td>\n",
       "      <td>0.393229</td>\n",
       "      <td>1.000000</td>\n",
       "      <td>0.732713</td>\n",
       "      <td>0.012987</td>\n",
       "      <td>0.166667</td>\n",
       "      <td>42.000000</td>\n",
       "      <td>0.035714</td>\n",
       "      <td>0.125000</td>\n",
       "      <td>105.00000</td>\n",
       "      <td>29.170000</td>\n",
       "      <td>134.500000</td>\n",
       "      <td>194.910000</td>\n",
       "      <td>21.150000</td>\n",
       "      <td>0.000000</td>\n",
       "    </tr>\n",
       "    <tr>\n",
       "      <th>max</th>\n",
       "      <td>741.443611</td>\n",
       "      <td>153.000000</td>\n",
       "      <td>1051.000000</td>\n",
       "      <td>23.000000</td>\n",
       "      <td>6.000000</td>\n",
       "      <td>12.000000</td>\n",
       "      <td>1.000000</td>\n",
       "      <td>1.000000</td>\n",
       "      <td>3398.548220</td>\n",
       "      <td>1.000000</td>\n",
       "      <td>22.300000</td>\n",
       "      <td>1.000000</td>\n",
       "      <td>0.966387</td>\n",
       "      <td>1.000000</td>\n",
       "      <td>0.916667</td>\n",
       "      <td>382.000000</td>\n",
       "      <td>1.000000</td>\n",
       "      <td>0.923077</td>\n",
       "      <td>699.00000</td>\n",
       "      <td>1794.960000</td>\n",
       "      <td>6735.000000</td>\n",
       "      <td>13664.080000</td>\n",
       "      <td>409.680000</td>\n",
       "      <td>1.000000</td>\n",
       "    </tr>\n",
       "  </tbody>\n",
       "</table>\n",
       "</div>"
      ],
      "text/plain": [
       "       purchase_to_approve_hrs  approve_to_estimated_days  \\\n",
       "count            109933.000000              109933.000000   \n",
       "mean                 10.533222                  22.912974   \n",
       "std                  21.000989                   8.832961   \n",
       "min                   0.000000                  -7.000000   \n",
       "25%                   0.216389                  17.000000   \n",
       "50%                   0.350556                  22.000000   \n",
       "75%                  15.194722                  28.000000   \n",
       "max                 741.443611                 153.000000   \n",
       "\n",
       "       approve_to_shipping_limit_days  purchase_hour   purchase_dow  \\\n",
       "count                   109933.000000  109933.000000  109933.000000   \n",
       "mean                         5.985355      14.751258       2.746537   \n",
       "std                          5.467422       5.319016       1.963767   \n",
       "min                         -7.000000       0.000000       0.000000   \n",
       "25%                          4.000000      11.000000       1.000000   \n",
       "50%                          6.000000      15.000000       3.000000   \n",
       "75%                          6.000000      19.000000       4.000000   \n",
       "max                       1051.000000      23.000000       6.000000   \n",
       "\n",
       "       purchase_month     is_weekend  is_brazil_holiday    distance_km  \\\n",
       "count   109933.000000  109933.000000      109933.000000  109933.000000   \n",
       "mean         6.030701       0.227302           0.027699     596.771304   \n",
       "std          3.233580       0.419091           0.164109     587.318831   \n",
       "min          1.000000       0.000000           0.000000       0.000000   \n",
       "25%          3.000000       0.000000           0.000000     185.951083   \n",
       "50%          6.000000       0.000000           0.000000     433.348916   \n",
       "75%          8.000000       0.000000           0.000000     793.859072   \n",
       "max         12.000000       1.000000           1.000000    3398.548220   \n",
       "\n",
       "          same_state  freight_ratio  customer_is_remote  seller_dispatch_hub  \\\n",
       "count  109933.000000  109933.000000       109933.000000        109933.000000   \n",
       "mean        0.361820       0.320681            0.278088             0.627820   \n",
       "std         0.480529       0.342008            0.448059             0.160439   \n",
       "min         0.000000       0.000000            0.000000             0.074074   \n",
       "25%         0.000000       0.134536            0.000000             0.515419   \n",
       "50%         0.000000       0.231806            0.000000             0.601190   \n",
       "75%         1.000000       0.393229            1.000000             0.732713   \n",
       "max         1.000000      22.300000            1.000000             0.966387   \n",
       "\n",
       "       seller_30d_dispatch_late_rate_raw  \\\n",
       "count                      109933.000000   \n",
       "mean                            0.042141   \n",
       "std                             0.129461   \n",
       "min                             0.000000   \n",
       "25%                             0.000000   \n",
       "50%                             0.000000   \n",
       "75%                             0.012987   \n",
       "max                             1.000000   \n",
       "\n",
       "       seller_30d_dispatch_late_rate_smoothed  seller_30d_order_count  \\\n",
       "count                           109933.000000           109933.000000   \n",
       "mean                                 0.123733               35.309880   \n",
       "std                                  0.124669               49.067543   \n",
       "min                                  0.002604                1.000000   \n",
       "25%                                  0.037037                6.000000   \n",
       "50%                                  0.083333               15.000000   \n",
       "75%                                  0.166667               42.000000   \n",
       "max                                  0.916667              382.000000   \n",
       "\n",
       "       seller_90d_dispatch_late_rate_raw  \\\n",
       "count                      109933.000000   \n",
       "mean                            0.044501   \n",
       "std                             0.115396   \n",
       "min                             0.000000   \n",
       "25%                             0.000000   \n",
       "50%                             0.000000   \n",
       "75%                             0.035714   \n",
       "max                             1.000000   \n",
       "\n",
       "       seller_90d_dispatch_late_rate_smoothed  seller_90d_order_count  \\\n",
       "count                           109933.000000            109933.00000   \n",
       "mean                                 0.095948                90.02809   \n",
       "std                                  0.114392               127.36208   \n",
       "min                                  0.001502                 1.00000   \n",
       "25%                                  0.023158                12.00000   \n",
       "50%                                  0.054054                35.00000   \n",
       "75%                                  0.125000               105.00000   \n",
       "max                                  0.923077               699.00000   \n",
       "\n",
       "       sum_freight_value          price  total_payment_value  freight_value  \\\n",
       "count      109933.000000  109933.000000        109933.000000  109933.000000   \n",
       "mean           27.248761     120.044161           179.509910      19.949499   \n",
       "std            33.270072     182.449223           271.586656      15.701392   \n",
       "min             0.000000       0.850000             9.590000       0.000000   \n",
       "25%            14.290000      39.900000            65.550000      13.080000   \n",
       "50%            18.160000      74.900000           114.340000      16.260000   \n",
       "75%            29.170000     134.500000           194.910000      21.150000   \n",
       "max          1794.960000    6735.000000         13664.080000     409.680000   \n",
       "\n",
       "             is_late  \n",
       "count  109933.000000  \n",
       "mean        0.079212  \n",
       "std         0.270070  \n",
       "min         0.000000  \n",
       "25%         0.000000  \n",
       "50%         0.000000  \n",
       "75%         0.000000  \n",
       "max         1.000000  "
      ]
     },
     "execution_count": 71,
     "metadata": {},
     "output_type": "execute_result"
    }
   ],
   "source": [
    "# Set pandas to display all columns and rows\n",
    "pd.set_option('display.max_columns', None)\n",
    "# pd.set_option('display.max_rows', 10)\n",
    "# pd.set_option('display.width', 1000)\n",
    "\n",
    "# Get descriptive statistics for numerical features\n",
    "df.describe()"
   ]
  },
  {
   "cell_type": "markdown",
   "id": "9f74c037",
   "metadata": {},
   "source": [
    "Categorical features descriptive statistics:"
   ]
  },
  {
   "cell_type": "code",
   "execution_count": 72,
   "id": "bc21f62f",
   "metadata": {},
   "outputs": [
    {
     "data": {
      "text/html": [
       "<div>\n",
       "<style scoped>\n",
       "    .dataframe tbody tr th:only-of-type {\n",
       "        vertical-align: middle;\n",
       "    }\n",
       "\n",
       "    .dataframe tbody tr th {\n",
       "        vertical-align: top;\n",
       "    }\n",
       "\n",
       "    .dataframe thead th {\n",
       "        text-align: right;\n",
       "    }\n",
       "</style>\n",
       "<table border=\"1\" class=\"dataframe\">\n",
       "  <thead>\n",
       "    <tr style=\"text-align: right;\">\n",
       "      <th></th>\n",
       "      <th>customer_state</th>\n",
       "      <th>seller_state</th>\n",
       "      <th>product_category_name_english</th>\n",
       "      <th>payment_types</th>\n",
       "    </tr>\n",
       "  </thead>\n",
       "  <tbody>\n",
       "    <tr>\n",
       "      <th>count</th>\n",
       "      <td>109933</td>\n",
       "      <td>109933</td>\n",
       "      <td>109933</td>\n",
       "      <td>109933</td>\n",
       "    </tr>\n",
       "    <tr>\n",
       "      <th>unique</th>\n",
       "      <td>27</td>\n",
       "      <td>22</td>\n",
       "      <td>74</td>\n",
       "      <td>6</td>\n",
       "    </tr>\n",
       "    <tr>\n",
       "      <th>top</th>\n",
       "      <td>SP</td>\n",
       "      <td>SP</td>\n",
       "      <td>bed_bath_table</td>\n",
       "      <td>credit_card</td>\n",
       "    </tr>\n",
       "    <tr>\n",
       "      <th>freq</th>\n",
       "      <td>46345</td>\n",
       "      <td>78416</td>\n",
       "      <td>10929</td>\n",
       "      <td>81901</td>\n",
       "    </tr>\n",
       "  </tbody>\n",
       "</table>\n",
       "</div>"
      ],
      "text/plain": [
       "       customer_state seller_state product_category_name_english payment_types\n",
       "count          109933       109933                        109933        109933\n",
       "unique             27           22                            74             6\n",
       "top                SP           SP                bed_bath_table   credit_card\n",
       "freq            46345        78416                         10929         81901"
      ]
     },
     "execution_count": 72,
     "metadata": {},
     "output_type": "execute_result"
    }
   ],
   "source": [
    "df.describe(include=['O'])"
   ]
  },
  {
   "cell_type": "markdown",
   "id": "744cbcd5",
   "metadata": {},
   "source": [
    "## Constant Variables"
   ]
  },
  {
   "cell_type": "code",
   "execution_count": 73,
   "id": "f89a0494",
   "metadata": {},
   "outputs": [],
   "source": [
    "TEST_SIZE = 0.2\n",
    "RANDOM_STATE = 21"
   ]
  },
  {
   "cell_type": "markdown",
   "id": "9392441a",
   "metadata": {},
   "source": [
    "## Data Splitting"
   ]
  },
  {
   "cell_type": "code",
   "execution_count": 74,
   "id": "3a1b5c0e",
   "metadata": {},
   "outputs": [],
   "source": [
    "# Separate X and y\n",
    "X = df.drop(columns=['is_late'])\n",
    "y = df['is_late']"
   ]
  },
  {
   "cell_type": "code",
   "execution_count": 75,
   "id": "ce8a9d13",
   "metadata": {},
   "outputs": [
    {
     "name": "stdout",
     "output_type": "stream",
     "text": [
      "0.07920769563141018 0.0792286351025606\n"
     ]
    }
   ],
   "source": [
    "X_train, X_test, y_train, y_test = train_test_split(\n",
    "    X, y, \n",
    "    test_size=TEST_SIZE, \n",
    "    stratify=y, \n",
    "    random_state=RANDOM_STATE\n",
    ")\n",
    "\n",
    "print(y_train.mean(), y_test.mean())  # Quick check: class balance is preserved"
   ]
  },
  {
   "cell_type": "code",
   "execution_count": 76,
   "id": "36063c60",
   "metadata": {},
   "outputs": [
    {
     "name": "stdout",
     "output_type": "stream",
     "text": [
      "Original data shapes:\n",
      "X shape: (109933, 27)\n",
      "y shape: (109933,)\n",
      "\n",
      "Train-test split shapes:\n",
      "X_train shape: (87946, 27)\n",
      "y_train shape: (87946,)\n",
      "X_test shape: (21987, 27)\n",
      "y_test shape: (21987,)\n",
      "\n",
      "Class distribution:\n",
      "y_train value counts: is_late\n",
      "0    80980\n",
      "1     6966\n",
      "Name: count, dtype: int64\n",
      "y_test value counts: is_late\n",
      "0    20245\n",
      "1     1742\n",
      "Name: count, dtype: int64\n"
     ]
    }
   ],
   "source": [
    "# Print shape of the original X and y\n",
    "print(\"Original data shapes:\")\n",
    "print(f\"X shape: {X.shape}\")\n",
    "print(f\"y shape: {y.shape}\")\n",
    "\n",
    "# Print shape of train and test data\n",
    "print(\"\\nTrain-test split shapes:\")\n",
    "print(f\"X_train shape: {X_train.shape}\")\n",
    "print(f\"y_train shape: {y_train.shape}\")\n",
    "print(f\"X_test shape: {X_test.shape}\")\n",
    "print(f\"y_test shape: {y_test.shape}\")\n",
    "\n",
    "# Print class distribution in train and test sets\n",
    "print(\"\\nClass distribution:\")\n",
    "print(f\"y_train value counts: {y_train.value_counts()}\")\n",
    "print(f\"y_test value counts: {y_test.value_counts()}\")"
   ]
  },
  {
   "cell_type": "code",
   "execution_count": 77,
   "id": "376313f0",
   "metadata": {},
   "outputs": [
    {
     "name": "stdout",
     "output_type": "stream",
     "text": [
      "Train data saved to ../data/cleaned_data/olist_train_data.csv, shape: (87946, 28)\n",
      "Test data saved to ../data/cleaned_data/olist_test_data.csv, shape: (21987, 28)\n"
     ]
    }
   ],
   "source": [
    "import os\n",
    "\n",
    "# Export train and test data to CSV files\n",
    "X_train_export = X_train.copy()\n",
    "X_train_export['is_late'] = y_train.values\n",
    "X_test_export = X_test.copy()\n",
    "X_test_export['is_late'] = y_test.values\n",
    "\n",
    "# Create folder if it doesn't exist\n",
    "if not os.path.exists('../data/cleaned_data'):\n",
    "    os.makedirs('../data/cleaned_data')\n",
    "\n",
    "# Save to CSV\n",
    "X_train_export.to_csv('../data/cleaned_data/olist_train_data.csv', index=False)\n",
    "X_test_export.to_csv('../data/cleaned_data/olist_test_data.csv', index=False)\n",
    "\n",
    "print(f\"Train data saved to ../data/cleaned_data/olist_train_data.csv, shape: {X_train_export.shape}\")\n",
    "print(f\"Test data saved to ../data/cleaned_data/olist_test_data.csv, shape: {X_test_export.shape}\")"
   ]
  },
  {
   "cell_type": "markdown",
   "id": "9dbb1c7b",
   "metadata": {},
   "source": [
    "## Data Preprocessing"
   ]
  },
  {
   "cell_type": "code",
   "execution_count": 78,
   "id": "405d3c08",
   "metadata": {},
   "outputs": [
    {
     "name": "stdout",
     "output_type": "stream",
     "text": [
      "<class 'pandas.core.frame.DataFrame'>\n",
      "RangeIndex: 109933 entries, 0 to 109932\n",
      "Data columns (total 27 columns):\n",
      " #   Column                                  Non-Null Count   Dtype  \n",
      "---  ------                                  --------------   -----  \n",
      " 0   purchase_to_approve_hrs                 109933 non-null  float64\n",
      " 1   approve_to_estimated_days               109933 non-null  int64  \n",
      " 2   approve_to_shipping_limit_days          109933 non-null  int64  \n",
      " 3   purchase_hour                           109933 non-null  int64  \n",
      " 4   purchase_dow                            109933 non-null  int64  \n",
      " 5   purchase_month                          109933 non-null  int64  \n",
      " 6   is_weekend                              109933 non-null  int64  \n",
      " 7   is_brazil_holiday                       109933 non-null  int64  \n",
      " 8   distance_km                             109933 non-null  float64\n",
      " 9   same_state                              109933 non-null  int64  \n",
      " 10  freight_ratio                           109933 non-null  float64\n",
      " 11  customer_is_remote                      109933 non-null  int64  \n",
      " 12  seller_dispatch_hub                     109933 non-null  float64\n",
      " 13  seller_30d_dispatch_late_rate_raw       109933 non-null  float64\n",
      " 14  seller_30d_dispatch_late_rate_smoothed  109933 non-null  float64\n",
      " 15  seller_30d_order_count                  109933 non-null  float64\n",
      " 16  seller_90d_dispatch_late_rate_raw       109933 non-null  float64\n",
      " 17  seller_90d_dispatch_late_rate_smoothed  109933 non-null  float64\n",
      " 18  seller_90d_order_count                  109933 non-null  float64\n",
      " 19  sum_freight_value                       109933 non-null  float64\n",
      " 20  price                                   109933 non-null  float64\n",
      " 21  total_payment_value                     109933 non-null  float64\n",
      " 22  customer_state                          109933 non-null  object \n",
      " 23  seller_state                            109933 non-null  object \n",
      " 24  freight_value                           109933 non-null  float64\n",
      " 25  product_category_name_english           109933 non-null  object \n",
      " 26  payment_types                           109933 non-null  object \n",
      "dtypes: float64(14), int64(9), object(4)\n",
      "memory usage: 22.6+ MB\n"
     ]
    }
   ],
   "source": [
    "X.info()"
   ]
  },
  {
   "cell_type": "code",
   "execution_count": 79,
   "id": "a9119071",
   "metadata": {},
   "outputs": [],
   "source": [
    "# Define column groups\n",
    "num_cols = [\n",
    "    'purchase_to_approve_hrs', 'approve_to_estimated_days', 'approve_to_shipping_limit_days',\n",
    "    'distance_km', 'freight_ratio', 'seller_dispatch_hub', 'seller_30d_order_count', 'seller_30d_dispatch_late_rate_raw',\n",
    "    'seller_30d_dispatch_late_rate_smoothed', 'seller_90d_order_count', 'seller_90d_dispatch_late_rate_raw',\n",
    "    'seller_90d_dispatch_late_rate_smoothed', 'sum_freight_value', 'price',\n",
    "    'total_payment_value', 'freight_value'\n",
    "]\n",
    "bin_cols = [\n",
    "    'is_weekend', 'is_brazil_holiday', 'same_state', 'customer_is_remote'\n",
    "]\n",
    "cat_cols = [\n",
    "    'customer_state', 'seller_state', 'product_category_name_english', 'payment_types',\n",
    "    'purchase_hour', 'purchase_dow', 'purchase_month'\n",
    "]"
   ]
  },
  {
   "cell_type": "code",
   "execution_count": 80,
   "id": "91bb3299",
   "metadata": {},
   "outputs": [],
   "source": [
    "# Preprocessing pipeline for sklearn models (OHE + scaler)\n",
    "preprocess_ohe = ColumnTransformer([\n",
    "    (\"num\", RobustScaler(), num_cols),\n",
    "    (\"cat\", OneHotEncoder(drop='first', handle_unknown=\"ignore\"), cat_cols),\n",
    "    (\"bin\", \"passthrough\", bin_cols)\n",
    "])\n",
    "\n",
    "# 5. For CatBoost: no OHE (native handling)\n",
    "preprocess_passthrough = \"passthrough\""
   ]
  },
  {
   "cell_type": "code",
   "execution_count": 81,
   "id": "040b9b2f",
   "metadata": {},
   "outputs": [],
   "source": [
    "pos_weight = (y_train == 0).sum() / (y_train == 1).sum()\n",
    "\n",
    "models = {\n",
    "    \"Dummy\":         (DummyClassifier(strategy=\"most_frequent\"), preprocess_passthrough),\n",
    "    \"LogReg\":        (LogisticRegression(max_iter=300, class_weight=\"balanced\", solver=\"lbfgs\", random_state=RANDOM_STATE), preprocess_ohe),\n",
    "    \"DecisionTree\":  (DecisionTreeClassifier(max_depth=None, min_samples_leaf=10, class_weight=\"balanced\", random_state=RANDOM_STATE), preprocess_ohe),\n",
    "    \"RandomForest\":  (RandomForestClassifier(n_estimators=300, max_depth=None, class_weight=\"balanced\", n_jobs=-1, random_state=RANDOM_STATE), preprocess_ohe),\n",
    "    \"XGBoost\":      (XGBClassifier(\n",
    "                        n_estimators=300,\n",
    "                        learning_rate=0.1,\n",
    "                        scale_pos_weight=pos_weight,\n",
    "                        use_label_encoder=False,         \n",
    "                        eval_metric='logloss',\n",
    "                        n_jobs=-1,\n",
    "                        random_state=RANDOM_STATE\n",
    "                     ),     preprocess_ohe),\n",
    "    \"LightGBM\":      (LGBMClassifier(n_estimators=300, learning_rate=0.1, class_weight=\"balanced\", random_state=RANDOM_STATE, n_jobs=-1), preprocess_ohe),\n",
    "    \"CatBoost\":      (CatBoostClassifier(iterations=300, learning_rate=0.1, depth=6, random_state=RANDOM_STATE, verbose=0, cat_features=cat_cols, allow_writing_files=False), preprocess_passthrough)\n",
    "}"
   ]
  },
  {
   "cell_type": "markdown",
   "id": "dfaee91d",
   "metadata": {},
   "source": [
    "## Model Benchmarking"
   ]
  },
  {
   "cell_type": "markdown",
   "id": "261ab46c",
   "metadata": {},
   "source": [
    "| Model                                       | What it is                                                                                                                         | Key params shown                                                                                                                                                                                                                                                                                                                         | Why we set them that way                                                                                                                                                                     |\n",
    "| ------------------------------------------- | ---------------------------------------------------------------------------------------------------------------------------------- | ---------------------------------------------------------------------------------------------------------------------------------------------------------------------------------------------------------------------------------------------------------------------------------------------------------------------------------------- | -------------------------------------------------------------------------------------------------------------------------------------------------------------------------------------------- |\n",
    "| **DummyClassifier**<br>*(“most\\_frequent”)* | A baseline that always predicts the majority class.                                                                                | `strategy=\"most_frequent\"`                                                                                                                                                                                                                                                                                                               | Establishes a “zero-skill” floor. If any real model can’t beat its PR-AUC, something’s wrong.                                                                                                |\n",
    "| **LogisticRegression**                      | A linear classifier that outputs log-odds. Works well when the relationship is close to linear and features are well-scaled/OHE’d. | `max_iter=200` → ensures convergence.<br>`class_weight=\"balanced\"` → multiplies positive rows’ loss by **8×** (≈ 1/imbalance) so the model pays attention to minority class.<br>`solver=\"lbfgs\"` → efficient for ≤ thousands of variables.<br>`random_state` → reproducibility.                                                          | Balancing is crucial: with only \\~8 % “late” rows, an unbalanced logistic reg would almost ignore them, hurting recall & PR-AUC.                                                             |\n",
    "| **KNeighborsClassifier**                    | Instance-based learner: class of a test point = majority of its *k* nearest labelled points.                                       | `n_neighbors=15` → bigger *k* smooths noisy minority labels and limits over-fitting on class-imbalanced data.<br>`weights=\"distance\"` → nearer neighbours count more (empirically better than uniform).<br>`n_jobs=-1` → parallel CPU.                                                                                                   | Gives a non-parametric baseline that relies purely on the training geometry; sensitive to scaling, hence inside OHE+scaler preproc.                                                          |\n",
    "| **DecisionTreeClassifier**                  | A single CART tree; splits data into rectangles that are as pure as possible wrt the target.                                       | `max_depth=None` → allow full growth.<br>`min_samples_leaf=10` → prunes tiny leaves (reduces over-fit, improves PR-AUC stability).<br>`class_weight=\"balanced\"` → adjusts impurity calculation for imbalance.<br>`random_state`                                                                                                          | A tree by itself is interpretable; the leaf-size and class-weight reduce its bias toward majority class.                                                                                     |\n",
    "| **RandomForestClassifier**                  | Bagging ensemble of many CART trees; each sees a bootstrap sample ⟹ variance reduction.                                            | `n_estimators=300` → enough trees for stable out-of-bag vote, but still quick.<br>`max_depth=None` (let trees grow; forest averaging controls over-fit).<br>`class_weight=\"balanced\"` (each split weighs minority more).<br>`n_jobs=-1` (multi-core).                                                                                    | Forests work well on tabular data with mixed types and little tuning. Class-weight helps recall for the rare “late” class.                                                                   |\n",
    "| **XGBClassifier** *(XGBoost)*               | Gradient-boosted trees: sequential trees correct predecessors; powerful on tabular data.                                           | `n_estimators=300`, `learning_rate=0.1` → classic “slow-learn” setting (300×0.1 ≈ 30 effective trees).<br>`scale_pos_weight=pos_weight` → **tells XGBoost to up-weight positive gradients** (see below).<br>`eval_metric='logloss'` → matches our PR-AUC focus (probability calibration).<br>`verbosity=0`, `n_jobs=-1`, `random_state`. | Scale-pos-weight handles imbalance natively; with 8 % positives, it’s ≈ 12:1.                                                                                                                |\n",
    "| **LightGBMClassifier**                      | Microsoft’s fast gradient-boosted trees; similar to XGB but faster on large OHE matrices.                                          | `n_estimators=300`, `learning_rate=0.1` (same logic).<br>`class_weight=\"balanced\"` (built-in weight factor).<br>`n_jobs=-1`, `random_state`.                                                                                                                                                                                             | Quick benchmark of a second GBDT implementation—often top performer on tabular + categorical-encoded data.                                                                                   |\n",
    "| **CatBoostClassifier**                      | Gradient boosting that handles categorical features natively (no OHE) using target-based stats.                                    | `iterations=300`, `learning_rate=0.1` (≈ same boosting depth).<br>`depth=6` (tree depth).<br>`cat_features=cat_cols` to auto-encode categories.<br>`verbose=0`, `random_state`.                                                                                                                                                          | Eliminates the need for OHE and usually excels when many categorical columns exist. Class weighting is automatic inside CatBoost; 300 iterations keeps runtime low but gives a strong model. |\n"
   ]
  },
  {
   "cell_type": "markdown",
   "id": "d776ae3b",
   "metadata": {},
   "source": [
    "**What is `pos_weight` and why do we use it?**\n",
    "\n",
    "In imbalanced classification problems like this one—where only about 8% of the orders are late—models tend to favor predicting the majority class (\"on-time\") and may ignore the minority class (\"late\").\n",
    "\n",
    "To address this, **XGBoost provides a parameter called `scale_pos_weight`**, which increases the importance of the positive class during training.\n",
    "\n",
    "We calculate it using:\n",
    "\n",
    "```python\n",
    "pos_weight = (number of negative samples) / (number of positive samples)\n",
    "```\n",
    "\n",
    "Example:\n",
    "\n",
    "```python\n",
    "pos_weight = (y_train == 0).sum() / (y_train == 1).sum()\n",
    "# ≈ 80980 / 6966 ≈ 11.6\n",
    "```\n",
    "\n",
    "This tells the model to treat each late order as approximately 11.6 times more important than an on-time one.\n",
    "\n",
    "This adjustment helps XGBoost:\n",
    "\n",
    "* Improve recall on the minority class\n",
    "* Perform better under PR-AUC, which emphasizes correct handling of the positive class\n",
    "* Avoid defaulting to predicting only the majority class\n",
    "\n",
    "This is conceptually similar to `class_weight='balanced'` used in scikit-learn models or in LightGBM.\n"
   ]
  },
  {
   "cell_type": "code",
   "execution_count": 82,
   "id": "42ae27f4",
   "metadata": {},
   "outputs": [
    {
     "name": "stdout",
     "output_type": "stream",
     "text": [
      "Training Dummy (1/7)...\n",
      "  → Dummy PR-AUC: 0.0792\n",
      "Training LogReg (2/7)...\n",
      "  → LogReg PR-AUC: 0.2740\n",
      "Training DecisionTree (3/7)...\n",
      "  → DecisionTree PR-AUC: 0.2328\n",
      "Training RandomForest (4/7)...\n",
      "  → RandomForest PR-AUC: 0.4691\n",
      "Training XGBoost (5/7)...\n",
      "  → XGBoost PR-AUC: 0.3912\n",
      "Training LightGBM (6/7)...\n",
      "  → LightGBM PR-AUC: 0.3949\n",
      "Training CatBoost (7/7)...\n",
      "  → CatBoost PR-AUC: 0.4110\n"
     ]
    },
    {
     "data": {
      "text/html": [
       "<div>\n",
       "<style scoped>\n",
       "    .dataframe tbody tr th:only-of-type {\n",
       "        vertical-align: middle;\n",
       "    }\n",
       "\n",
       "    .dataframe tbody tr th {\n",
       "        vertical-align: top;\n",
       "    }\n",
       "\n",
       "    .dataframe thead th {\n",
       "        text-align: right;\n",
       "    }\n",
       "</style>\n",
       "<table border=\"1\" class=\"dataframe\">\n",
       "  <thead>\n",
       "    <tr style=\"text-align: right;\">\n",
       "      <th></th>\n",
       "      <th>Model</th>\n",
       "      <th>CV PR-AUC</th>\n",
       "    </tr>\n",
       "  </thead>\n",
       "  <tbody>\n",
       "    <tr>\n",
       "      <th>3</th>\n",
       "      <td>RandomForest</td>\n",
       "      <td>0.469080</td>\n",
       "    </tr>\n",
       "    <tr>\n",
       "      <th>6</th>\n",
       "      <td>CatBoost</td>\n",
       "      <td>0.411016</td>\n",
       "    </tr>\n",
       "    <tr>\n",
       "      <th>5</th>\n",
       "      <td>LightGBM</td>\n",
       "      <td>0.394899</td>\n",
       "    </tr>\n",
       "    <tr>\n",
       "      <th>4</th>\n",
       "      <td>XGBoost</td>\n",
       "      <td>0.391167</td>\n",
       "    </tr>\n",
       "    <tr>\n",
       "      <th>1</th>\n",
       "      <td>LogReg</td>\n",
       "      <td>0.274046</td>\n",
       "    </tr>\n",
       "    <tr>\n",
       "      <th>2</th>\n",
       "      <td>DecisionTree</td>\n",
       "      <td>0.232774</td>\n",
       "    </tr>\n",
       "    <tr>\n",
       "      <th>0</th>\n",
       "      <td>Dummy</td>\n",
       "      <td>0.079208</td>\n",
       "    </tr>\n",
       "  </tbody>\n",
       "</table>\n",
       "</div>"
      ],
      "text/plain": [
       "          Model  CV PR-AUC\n",
       "3  RandomForest   0.469080\n",
       "6      CatBoost   0.411016\n",
       "5      LightGBM   0.394899\n",
       "4       XGBoost   0.391167\n",
       "1        LogReg   0.274046\n",
       "2  DecisionTree   0.232774\n",
       "0         Dummy   0.079208"
      ]
     },
     "metadata": {},
     "output_type": "display_data"
    }
   ],
   "source": [
    "# Create a proper stratified k-fold cross-validation\n",
    "cv = StratifiedKFold(n_splits=5, shuffle=True, random_state=RANDOM_STATE)\n",
    "results = []\n",
    "\n",
    "# Track progress\n",
    "total_models = len(models)\n",
    "completed = 0\n",
    "\n",
    "for name, (model, preproc) in models.items():\n",
    "    print(f\"Training {name} ({completed+1}/{total_models})...\")\n",
    "    \n",
    "    # Build pipeline\n",
    "    steps = []\n",
    "    if preproc != \"passthrough\":\n",
    "        steps.append((\"preprocess\", preproc))\n",
    "    steps.append((\"model\", model))\n",
    "    pipe = Pipeline(steps)\n",
    "    \n",
    "    try:\n",
    "        # Cross-validate with PR-AUC scoring\n",
    "        pr_auc_scores = cross_val_score(\n",
    "            pipe,\n",
    "            X_train, y_train,\n",
    "            cv=cv,\n",
    "            scoring='average_precision',  # Built-in scorer for PR-AUC\n",
    "            n_jobs=-1,\n",
    "            error_score='raise'\n",
    "        )\n",
    "        pr_auc_score = pr_auc_scores.mean()\n",
    "        print(f\"  → {name} PR-AUC: {pr_auc_score:.4f}\")\n",
    "    \n",
    "    except Exception as e:\n",
    "        print(f\"  → Error with {name}: {str(e)}\")\n",
    "        pr_auc_score = float('nan')\n",
    "    \n",
    "    results.append({\n",
    "        \"Model\": name,\n",
    "        \"CV PR-AUC\": pr_auc_score\n",
    "    })\n",
    "    \n",
    "    completed += 1\n",
    "\n",
    "# Sort results by performance\n",
    "benchmark_df = pd.DataFrame(results).sort_values(\"CV PR-AUC\", ascending=False)\n",
    "display(benchmark_df)"
   ]
  },
  {
   "cell_type": "markdown",
   "id": "fdd55edc",
   "metadata": {},
   "source": [
    "## Example Model Metrics & Interpretation"
   ]
  },
  {
   "cell_type": "code",
   "execution_count": 19,
   "id": "e36dcd16",
   "metadata": {},
   "outputs": [],
   "source": [
    "from sklearn.metrics import (\n",
    "    average_precision_score, roc_auc_score, precision_recall_curve,\n",
    "    confusion_matrix, classification_report, PrecisionRecallDisplay\n",
    ")"
   ]
  },
  {
   "cell_type": "markdown",
   "id": "20ac7407",
   "metadata": {},
   "source": [
    "| Metric                           | Why it matters                                                                                                                         |\n",
    "| -------------------------------- | -------------------------------------------------------------------------------------------------------------------------------------- |\n",
    "| **PR-AUC (Average Precision)**   | Focuses on the **minority class** (late deliveries). A random model would score ≈ 0.08. Anything higher reflects meaningful signal.    |\n",
    "| **ROC-AUC**                      | Measures general separability between late vs. on-time orders. It’s **threshold-independent**, useful to compare model capacity.       |\n",
    "| **Precision**                    | “Of the orders we flag as late, how many really are?” Important to avoid **alert fatigue** and **wasting Ops effort** on false alarms. |\n",
    "| **Recall**                       | “Of all true late orders, how many did we catch?” This defines **how much pain we actually prevent**.                                  |\n",
    "| **Confusion Matrix**             | Converts percentages into **absolute counts**, so we can estimate business impact.                                                     |\n",
    "| **Threshold for ≥80% Precision** | We tune the threshold so that 80% of flagged orders are actually late. Balances actionability with false alert risk.                   |\n"
   ]
  },
  {
   "cell_type": "code",
   "execution_count": null,
   "id": "59e8b6b2",
   "metadata": {},
   "outputs": [
    {
     "name": "stderr",
     "output_type": "stream",
     "text": [
      "d:\\anaconda3\\Lib\\site-packages\\sklearn\\preprocessing\\_encoders.py:246: UserWarning: Found unknown categories in columns [3] during transform. These unknown categories will be encoded as all zeros\n",
      "  warnings.warn(\n"
     ]
    },
    {
     "name": "stdout",
     "output_type": "stream",
     "text": [
      "PR-AUC   : 0.513\n",
      "ROC-AUC  : 0.861\n",
      "\n",
      "Classification report (threshold 0.50):\n",
      "              precision    recall  f1-score   support\n",
      "\n",
      "           0      0.934     0.999     0.965     20245\n",
      "           1      0.948     0.177     0.298      1742\n",
      "\n",
      "    accuracy                          0.934     21987\n",
      "   macro avg      0.941     0.588     0.632     21987\n",
      "weighted avg      0.935     0.934     0.913     21987\n",
      "\n",
      "\n",
      "Confusion matrix:\n"
     ]
    },
    {
     "data": {
      "text/html": [
       "<div>\n",
       "<style scoped>\n",
       "    .dataframe tbody tr th:only-of-type {\n",
       "        vertical-align: middle;\n",
       "    }\n",
       "\n",
       "    .dataframe tbody tr th {\n",
       "        vertical-align: top;\n",
       "    }\n",
       "\n",
       "    .dataframe thead th {\n",
       "        text-align: right;\n",
       "    }\n",
       "</style>\n",
       "<table border=\"1\" class=\"dataframe\">\n",
       "  <thead>\n",
       "    <tr style=\"text-align: right;\">\n",
       "      <th></th>\n",
       "      <th>Pred On-time</th>\n",
       "      <th>Pred Late</th>\n",
       "    </tr>\n",
       "  </thead>\n",
       "  <tbody>\n",
       "    <tr>\n",
       "      <th>Actual On-time</th>\n",
       "      <td>20228</td>\n",
       "      <td>17</td>\n",
       "    </tr>\n",
       "    <tr>\n",
       "      <th>Actual Late</th>\n",
       "      <td>1434</td>\n",
       "      <td>308</td>\n",
       "    </tr>\n",
       "  </tbody>\n",
       "</table>\n",
       "</div>"
      ],
      "text/plain": [
       "                Pred On-time  Pred Late\n",
       "Actual On-time         20228         17\n",
       "Actual Late             1434        308"
      ]
     },
     "metadata": {},
     "output_type": "display_data"
    }
   ],
   "source": [
    "# --- rebuild the pipeline exactly as in the benchmark -------------\n",
    "rf_pipe = Pipeline([\n",
    "    (\"preprocess\", preprocess_ohe),\n",
    "    (\"model\", RandomForestClassifier(\n",
    "        n_estimators=300,\n",
    "        max_depth=None,\n",
    "        class_weight=\"balanced\",\n",
    "        n_jobs=-1,\n",
    "        random_state=RANDOM_STATE\n",
    "    ))\n",
    "])\n",
    "\n",
    "# --- fit on full training set -------------------------------------\n",
    "rf_pipe.fit(X_train, y_train)\n",
    "\n",
    "# ---  get probabilities and default predictions --------------------\n",
    "y_prob = rf_pipe.predict_proba(X_test)[:, 1]\n",
    "y_pred = (y_prob >= 0.50).astype(int)                 # default 0.5 cut-off\n",
    "\n",
    "# --- core metrics --------------------------------------------------\n",
    "pr_auc  = average_precision_score(y_test, y_prob)\n",
    "roc_auc = roc_auc_score(y_test, y_prob)\n",
    "print(f\"PR-AUC   : {pr_auc:.3f}\")\n",
    "print(f\"ROC-AUC  : {roc_auc:.3f}\\n\")\n",
    "print(\"Classification report (threshold 0.50):\")\n",
    "print(classification_report(y_test, y_pred, digits=3))\n",
    "\n",
    "# confusion matrix\n",
    "cm = pd.DataFrame(confusion_matrix(y_test, y_pred),\n",
    "                  index=[\"Actual On-time\",\"Actual Late\"],\n",
    "                  columns=[\"Pred On-time\",\"Pred Late\"])\n",
    "print(\"\\nConfusion matrix:\")\n",
    "display(cm)\n"
   ]
  },
  {
   "cell_type": "code",
   "execution_count": 84,
   "id": "5916e028",
   "metadata": {},
   "outputs": [
    {
     "name": "stdout",
     "output_type": "stream",
     "text": [
      "Threshold for ≥75% recall: 0.0067\n",
      "  resulting precision     : 0.0846\n",
      "\n",
      "Threshold for ≥80% precision: 0.3867\n",
      "  resulting recall        : 0.2405\n",
      "\n",
      "Threshold for maximum F1 score: 0.2033\n",
      "  resulting precision     : 0.4672\n",
      "  resulting recall        : 0.4862\n",
      "  resulting F1 score      : 0.4765\n",
      "\n",
      "Threshold for maximum F2 score: 0.1233\n",
      "  resulting precision     : 0.3076\n",
      "  resulting recall        : 0.6728\n",
      "  resulting F2 score      : 0.5437\n",
      "\n",
      "Classification report at F-beta optimized threshold:\n",
      "              precision    recall  f1-score   support\n",
      "\n",
      "           0      0.969     0.870     0.917     20245\n",
      "           1      0.308     0.673     0.422      1742\n",
      "\n",
      "    accuracy                          0.854     21987\n",
      "   macro avg      0.638     0.771     0.669     21987\n",
      "weighted avg      0.916     0.854     0.877     21987\n",
      "\n"
     ]
    },
    {
     "data": {
      "text/html": [
       "<div>\n",
       "<style scoped>\n",
       "    .dataframe tbody tr th:only-of-type {\n",
       "        vertical-align: middle;\n",
       "    }\n",
       "\n",
       "    .dataframe tbody tr th {\n",
       "        vertical-align: top;\n",
       "    }\n",
       "\n",
       "    .dataframe thead th {\n",
       "        text-align: right;\n",
       "    }\n",
       "</style>\n",
       "<table border=\"1\" class=\"dataframe\">\n",
       "  <thead>\n",
       "    <tr style=\"text-align: right;\">\n",
       "      <th></th>\n",
       "      <th>Pred On-time</th>\n",
       "      <th>Pred Late</th>\n",
       "    </tr>\n",
       "  </thead>\n",
       "  <tbody>\n",
       "    <tr>\n",
       "      <th>Actual On-time</th>\n",
       "      <td>17607</td>\n",
       "      <td>2638</td>\n",
       "    </tr>\n",
       "    <tr>\n",
       "      <th>Actual Late</th>\n",
       "      <td>570</td>\n",
       "      <td>1172</td>\n",
       "    </tr>\n",
       "  </tbody>\n",
       "</table>\n",
       "</div>"
      ],
      "text/plain": [
       "                Pred On-time  Pred Late\n",
       "Actual On-time         17607       2638\n",
       "Actual Late              570       1172"
      ]
     },
     "metadata": {},
     "output_type": "display_data"
    },
    {
     "data": {
      "image/png": "[encoded data removed]",
      "text/plain": [
       "<Figure size 1000x600 with 1 Axes>"
      ]
     },
     "metadata": {},
     "output_type": "display_data"
    }
   ],
   "source": [
    "# Find a threshold that balances precision and recall for Random Forest\n",
    "precisions, recalls, thresholds = precision_recall_curve(y_test, y_prob)\n",
    "\n",
    "# Option 1: Find threshold for specific target recall\n",
    "target_recall = 0.75  # We want to catch 75% of late deliveries\n",
    "idx = np.where((recalls >= target_recall) & (recalls < 1.0))[0]\n",
    "if idx.size:\n",
    "    best_recall_thr = thresholds[idx[0]]\n",
    "    print(f\"Threshold for ≥{target_recall*100:.0f}% recall: {best_recall_thr:.4f}\")\n",
    "    print(f\"  resulting precision     : {precisions[idx[0]]:.4f}\")\n",
    "else:\n",
    "    print(f\"Model cannot reach {target_recall*100:.0f}% recall\")\n",
    "\n",
    "# Option 2: Find threshold for good precision (e.g., 80%)\n",
    "target_precision = 0.80\n",
    "idx_prec = np.where(precisions >= target_precision)[0]\n",
    "if idx_prec.size:\n",
    "    # Get the highest recall that maintains target precision\n",
    "    max_recall_idx = idx_prec[np.argmax(recalls[idx_prec])]\n",
    "    best_prec_thr = thresholds[max_recall_idx]\n",
    "    print(f\"\\nThreshold for ≥{target_precision*100:.0f}% precision: {best_prec_thr:.4f}\")\n",
    "    print(f\"  resulting recall        : {recalls[max_recall_idx]:.4f}\")\n",
    "else:\n",
    "    print(f\"\\nModel cannot reach {target_precision*100:.0f}% precision\")\n",
    "\n",
    "# Option 3: F1 score optimization (balance between precision and recall)\n",
    "f1_scores = 2 * (precisions * recalls) / (precisions + recalls + 1e-10)\n",
    "best_f1_idx = np.argmax(f1_scores)\n",
    "best_f1_thr = thresholds[best_f1_idx]\n",
    "print(f\"\\nThreshold for maximum F1 score: {best_f1_thr:.4f}\")\n",
    "print(f\"  resulting precision     : {precisions[best_f1_idx]:.4f}\")\n",
    "print(f\"  resulting recall        : {recalls[best_f1_idx]:.4f}\")\n",
    "print(f\"  resulting F1 score      : {f1_scores[best_f1_idx]:.4f}\")\n",
    "\n",
    "# Option 4: F-beta optimization that prioritizes recall\n",
    "beta = 2  # Beta > 1 favors recall over precision (beta=2 weights recall twice as much as precision)\n",
    "fbeta_scores = (1 + beta**2) * (precisions * recalls) / ((beta**2 * precisions) + recalls + 1e-10)\n",
    "best_fbeta_idx = np.argmax(fbeta_scores)\n",
    "best_fbeta_thr = thresholds[best_fbeta_idx]\n",
    "print(f\"\\nThreshold for maximum F{beta} score: {best_fbeta_thr:.4f}\")\n",
    "print(f\"  resulting precision     : {precisions[best_fbeta_idx]:.4f}\")\n",
    "print(f\"  resulting recall        : {recalls[best_fbeta_idx]:.4f}\")\n",
    "print(f\"  resulting F{beta} score      : {fbeta_scores[best_fbeta_idx]:.4f}\")\n",
    "\n",
    "# Select F-beta threshold as our chosen threshold\n",
    "chosen_threshold = best_fbeta_thr\n",
    "\n",
    "# Build predictions using the chosen threshold\n",
    "y_pred_balanced = (y_prob >= chosen_threshold).astype(int)\n",
    "\n",
    "print(\"\\nClassification report at F-beta optimized threshold:\")\n",
    "print(classification_report(y_test, y_pred_balanced, digits=3))\n",
    "\n",
    "# Display a confusion matrix\n",
    "cm = confusion_matrix(y_test, y_pred_balanced)\n",
    "display(pd.DataFrame(\n",
    "    cm,\n",
    "    index=[\"Actual On-time\",\"Actual Late\"],\n",
    "    columns=[\"Pred On-time\",\"Pred Late\"]\n",
    "))\n",
    "\n",
    "# Create precision-recall curve visualization\n",
    "fig, ax = plt.figure(figsize=(10, 6)), plt.gca()\n",
    "PrecisionRecallDisplay.from_predictions(y_test, y_prob, ax=ax)\n",
    "\n",
    "# Add vertical and horizontal lines for F1 threshold\n",
    "plt.axvline(x=recalls[best_f1_idx], color='r', linestyle='--', label=f'F1 Max (thr={best_f1_thr:.4f})')\n",
    "plt.axhline(y=precisions[best_f1_idx], color='r', linestyle='--')\n",
    "\n",
    "# Add vertical and horizontal lines for F-beta threshold\n",
    "plt.axvline(x=recalls[best_fbeta_idx], color='b', linestyle='--', label=f'F{beta} Max (thr={best_fbeta_thr:.4f})')\n",
    "plt.axhline(y=precisions[best_fbeta_idx], color='b', linestyle='--')\n",
    "\n",
    "# Add vertical and horizontal lines for 80% precision threshold\n",
    "plt.axvline(x=recalls[max_recall_idx], color='g', linestyle='--', label=f'P≥{target_precision} (thr={best_prec_thr:.4f})')\n",
    "plt.axhline(y=precisions[max_recall_idx], color='g', linestyle='--')\n",
    "\n",
    "# Enhance the plot\n",
    "plt.title(\"RandomForest – Precision-Recall Curve with Different Thresholds\")\n",
    "plt.grid(True, alpha=0.3)\n",
    "plt.legend(loc='best')\n",
    "plt.tight_layout()\n",
    "plt.show()"
   ]
  },
  {
   "cell_type": "markdown",
   "id": "a5ce5e00",
   "metadata": {},
   "source": [
    "## Tuning RandomForest"
   ]
  },
  {
   "cell_type": "code",
   "execution_count": null,
   "id": "5407ac47",
   "metadata": {},
   "outputs": [
    {
     "name": "stdout",
     "output_type": "stream",
     "text": [
      "Fitting 3 folds for each of 15 candidates, totalling 45 fits\n",
      "[CV] END rf__bootstrap=True, rf__class_weight={0: 1, 1: 5}, rf__max_depth=None, rf__max_features=0.5, rf__min_samples_leaf=2, rf__n_estimators=400; total time=  27.8s\n"
     ]
    },
    {
     "name": "stderr",
     "output_type": "stream",
     "text": [
      "/Applications/anaconda3/lib/python3.12/site-packages/sklearn/preprocessing/_encoders.py:246: UserWarning: Found unknown categories in columns [2] during transform. These unknown categories will be encoded as all zeros\n",
      "  warnings.warn(\n"
     ]
    },
    {
     "name": "stdout",
     "output_type": "stream",
     "text": [
      "[CV] END rf__bootstrap=True, rf__class_weight={0: 1, 1: 5}, rf__max_depth=None, rf__max_features=0.5, rf__min_samples_leaf=2, rf__n_estimators=400; total time=  28.7s\n",
      "[CV] END rf__bootstrap=True, rf__class_weight={0: 1, 1: 5}, rf__max_depth=None, rf__max_features=0.5, rf__min_samples_leaf=2, rf__n_estimators=400; total time=  29.6s\n",
      "[CV] END rf__bootstrap=False, rf__class_weight={0: 1, 1: 15}, rf__max_depth=None, rf__max_features=0.2, rf__min_samples_leaf=1, rf__n_estimators=1200; total time= 1.1min\n"
     ]
    },
    {
     "name": "stderr",
     "output_type": "stream",
     "text": [
      "/Applications/anaconda3/lib/python3.12/site-packages/sklearn/preprocessing/_encoders.py:246: UserWarning: Found unknown categories in columns [2] during transform. These unknown categories will be encoded as all zeros\n",
      "  warnings.warn(\n"
     ]
    },
    {
     "name": "stdout",
     "output_type": "stream",
     "text": [
      "[CV] END rf__bootstrap=False, rf__class_weight={0: 1, 1: 15}, rf__max_depth=None, rf__max_features=0.2, rf__min_samples_leaf=1, rf__n_estimators=1200; total time= 1.2min\n",
      "[CV] END rf__bootstrap=False, rf__class_weight={0: 1, 1: 15}, rf__max_depth=None, rf__max_features=0.2, rf__min_samples_leaf=1, rf__n_estimators=1200; total time= 1.1min\n",
      "[CV] END rf__bootstrap=False, rf__class_weight=balanced, rf__max_depth=20, rf__max_features=0.5, rf__min_samples_leaf=2, rf__n_estimators=800; total time= 1.2min\n"
     ]
    },
    {
     "name": "stderr",
     "output_type": "stream",
     "text": [
      "/Applications/anaconda3/lib/python3.12/site-packages/sklearn/preprocessing/_encoders.py:246: UserWarning: Found unknown categories in columns [2] during transform. These unknown categories will be encoded as all zeros\n",
      "  warnings.warn(\n"
     ]
    },
    {
     "name": "stdout",
     "output_type": "stream",
     "text": [
      "[CV] END rf__bootstrap=False, rf__class_weight=balanced, rf__max_depth=20, rf__max_features=0.5, rf__min_samples_leaf=2, rf__n_estimators=800; total time= 1.2min\n",
      "[CV] END rf__bootstrap=False, rf__class_weight=balanced, rf__max_depth=20, rf__max_features=0.5, rf__min_samples_leaf=2, rf__n_estimators=800; total time= 1.4min\n",
      "[CV] END rf__bootstrap=True, rf__class_weight=balanced, rf__max_depth=20, rf__max_features=0.5, rf__min_samples_leaf=2, rf__n_estimators=400; total time=  24.4s\n"
     ]
    },
    {
     "name": "stderr",
     "output_type": "stream",
     "text": [
      "/Applications/anaconda3/lib/python3.12/site-packages/sklearn/preprocessing/_encoders.py:246: UserWarning: Found unknown categories in columns [2] during transform. These unknown categories will be encoded as all zeros\n",
      "  warnings.warn(\n"
     ]
    },
    {
     "name": "stdout",
     "output_type": "stream",
     "text": [
      "[CV] END rf__bootstrap=True, rf__class_weight=balanced, rf__max_depth=20, rf__max_features=0.5, rf__min_samples_leaf=2, rf__n_estimators=400; total time=  24.1s\n",
      "[CV] END rf__bootstrap=True, rf__class_weight=balanced, rf__max_depth=20, rf__max_features=0.5, rf__min_samples_leaf=2, rf__n_estimators=400; total time=  24.2s\n",
      "[CV] END rf__bootstrap=False, rf__class_weight={0: 1, 1: 5}, rf__max_depth=40, rf__max_features=0.2, rf__min_samples_leaf=10, rf__n_estimators=1200; total time=  48.2s\n"
     ]
    },
    {
     "name": "stderr",
     "output_type": "stream",
     "text": [
      "/Applications/anaconda3/lib/python3.12/site-packages/sklearn/preprocessing/_encoders.py:246: UserWarning: Found unknown categories in columns [2] during transform. These unknown categories will be encoded as all zeros\n",
      "  warnings.warn(\n"
     ]
    },
    {
     "name": "stdout",
     "output_type": "stream",
     "text": [
      "[CV] END rf__bootstrap=False, rf__class_weight={0: 1, 1: 5}, rf__max_depth=40, rf__max_features=0.2, rf__min_samples_leaf=10, rf__n_estimators=1200; total time=  47.0s\n",
      "[CV] END rf__bootstrap=False, rf__class_weight={0: 1, 1: 5}, rf__max_depth=40, rf__max_features=0.2, rf__min_samples_leaf=10, rf__n_estimators=1200; total time=  47.1s\n",
      "[CV] END rf__bootstrap=True, rf__class_weight={0: 1, 1: 5}, rf__max_depth=None, rf__max_features=sqrt, rf__min_samples_leaf=5, rf__n_estimators=400; total time=   5.7s\n"
     ]
    },
    {
     "name": "stderr",
     "output_type": "stream",
     "text": [
      "/Applications/anaconda3/lib/python3.12/site-packages/sklearn/preprocessing/_encoders.py:246: UserWarning: Found unknown categories in columns [2] during transform. These unknown categories will be encoded as all zeros\n",
      "  warnings.warn(\n"
     ]
    },
    {
     "name": "stdout",
     "output_type": "stream",
     "text": [
      "[CV] END rf__bootstrap=True, rf__class_weight={0: 1, 1: 5}, rf__max_depth=None, rf__max_features=sqrt, rf__min_samples_leaf=5, rf__n_estimators=400; total time=   5.7s\n",
      "[CV] END rf__bootstrap=True, rf__class_weight={0: 1, 1: 5}, rf__max_depth=None, rf__max_features=sqrt, rf__min_samples_leaf=5, rf__n_estimators=400; total time=   5.7s\n",
      "[CV] END rf__bootstrap=False, rf__class_weight={0: 1, 1: 15}, rf__max_depth=None, rf__max_features=log2, rf__min_samples_leaf=10, rf__n_estimators=1200; total time=  12.9s\n"
     ]
    },
    {
     "name": "stderr",
     "output_type": "stream",
     "text": [
      "/Applications/anaconda3/lib/python3.12/site-packages/sklearn/preprocessing/_encoders.py:246: UserWarning: Found unknown categories in columns [2] during transform. These unknown categories will be encoded as all zeros\n",
      "  warnings.warn(\n"
     ]
    },
    {
     "name": "stdout",
     "output_type": "stream",
     "text": [
      "[CV] END rf__bootstrap=False, rf__class_weight={0: 1, 1: 15}, rf__max_depth=None, rf__max_features=log2, rf__min_samples_leaf=10, rf__n_estimators=1200; total time=  13.0s\n",
      "[CV] END rf__bootstrap=False, rf__class_weight={0: 1, 1: 15}, rf__max_depth=None, rf__max_features=log2, rf__min_samples_leaf=10, rf__n_estimators=1200; total time=  12.7s\n",
      "[CV] END rf__bootstrap=False, rf__class_weight=balanced, rf__max_depth=20, rf__max_features=0.5, rf__min_samples_leaf=2, rf__n_estimators=400; total time=  38.3s\n"
     ]
    },
    {
     "name": "stderr",
     "output_type": "stream",
     "text": [
      "/Applications/anaconda3/lib/python3.12/site-packages/sklearn/preprocessing/_encoders.py:246: UserWarning: Found unknown categories in columns [2] during transform. These unknown categories will be encoded as all zeros\n",
      "  warnings.warn(\n"
     ]
    },
    {
     "name": "stdout",
     "output_type": "stream",
     "text": [
      "[CV] END rf__bootstrap=False, rf__class_weight=balanced, rf__max_depth=20, rf__max_features=0.5, rf__min_samples_leaf=2, rf__n_estimators=400; total time=  36.3s\n",
      "[CV] END rf__bootstrap=False, rf__class_weight=balanced, rf__max_depth=20, rf__max_features=0.5, rf__min_samples_leaf=2, rf__n_estimators=400; total time=  38.2s\n",
      "[CV] END rf__bootstrap=False, rf__class_weight={0: 1, 1: 15}, rf__max_depth=40, rf__max_features=0.5, rf__min_samples_leaf=2, rf__n_estimators=1200; total time= 2.3min\n"
     ]
    },
    {
     "name": "stderr",
     "output_type": "stream",
     "text": [
      "/Applications/anaconda3/lib/python3.12/site-packages/sklearn/preprocessing/_encoders.py:246: UserWarning: Found unknown categories in columns [2] during transform. These unknown categories will be encoded as all zeros\n",
      "  warnings.warn(\n"
     ]
    },
    {
     "name": "stdout",
     "output_type": "stream",
     "text": [
      "[CV] END rf__bootstrap=False, rf__class_weight={0: 1, 1: 15}, rf__max_depth=40, rf__max_features=0.5, rf__min_samples_leaf=2, rf__n_estimators=1200; total time= 8.8min\n",
      "[CV] END rf__bootstrap=False, rf__class_weight={0: 1, 1: 15}, rf__max_depth=40, rf__max_features=0.5, rf__min_samples_leaf=2, rf__n_estimators=1200; total time=19.6min\n",
      "[CV] END rf__bootstrap=False, rf__class_weight=balanced, rf__max_depth=20, rf__max_features=log2, rf__min_samples_leaf=2, rf__n_estimators=400; total time=   3.7s\n"
     ]
    },
    {
     "name": "stderr",
     "output_type": "stream",
     "text": [
      "/Applications/anaconda3/lib/python3.12/site-packages/sklearn/preprocessing/_encoders.py:246: UserWarning: Found unknown categories in columns [2] during transform. These unknown categories will be encoded as all zeros\n",
      "  warnings.warn(\n"
     ]
    },
    {
     "name": "stdout",
     "output_type": "stream",
     "text": [
      "[CV] END rf__bootstrap=False, rf__class_weight=balanced, rf__max_depth=20, rf__max_features=log2, rf__min_samples_leaf=2, rf__n_estimators=400; total time=   3.7s\n",
      "[CV] END rf__bootstrap=False, rf__class_weight=balanced, rf__max_depth=20, rf__max_features=log2, rf__min_samples_leaf=2, rf__n_estimators=400; total time=   3.7s\n",
      "[CV] END rf__bootstrap=False, rf__class_weight=balanced, rf__max_depth=40, rf__max_features=0.2, rf__min_samples_leaf=1, rf__n_estimators=400; total time=  22.6s\n"
     ]
    },
    {
     "name": "stderr",
     "output_type": "stream",
     "text": [
      "/Applications/anaconda3/lib/python3.12/site-packages/sklearn/preprocessing/_encoders.py:246: UserWarning: Found unknown categories in columns [2] during transform. These unknown categories will be encoded as all zeros\n",
      "  warnings.warn(\n"
     ]
    },
    {
     "name": "stdout",
     "output_type": "stream",
     "text": [
      "[CV] END rf__bootstrap=False, rf__class_weight=balanced, rf__max_depth=40, rf__max_features=0.2, rf__min_samples_leaf=1, rf__n_estimators=400; total time=  22.8s\n",
      "[CV] END rf__bootstrap=False, rf__class_weight=balanced, rf__max_depth=40, rf__max_features=0.2, rf__min_samples_leaf=1, rf__n_estimators=400; total time=  22.9s\n",
      "[CV] END rf__bootstrap=True, rf__class_weight={0: 1, 1: 15}, rf__max_depth=40, rf__max_features=log2, rf__min_samples_leaf=1, rf__n_estimators=400; total time=   5.7s\n"
     ]
    },
    {
     "name": "stderr",
     "output_type": "stream",
     "text": [
      "/Applications/anaconda3/lib/python3.12/site-packages/sklearn/preprocessing/_encoders.py:246: UserWarning: Found unknown categories in columns [2] during transform. These unknown categories will be encoded as all zeros\n",
      "  warnings.warn(\n"
     ]
    },
    {
     "name": "stdout",
     "output_type": "stream",
     "text": [
      "[CV] END rf__bootstrap=True, rf__class_weight={0: 1, 1: 15}, rf__max_depth=40, rf__max_features=log2, rf__min_samples_leaf=1, rf__n_estimators=400; total time=   5.7s\n",
      "[CV] END rf__bootstrap=True, rf__class_weight={0: 1, 1: 15}, rf__max_depth=40, rf__max_features=log2, rf__min_samples_leaf=1, rf__n_estimators=400; total time=   5.7s\n",
      "[CV] END rf__bootstrap=False, rf__class_weight=balanced, rf__max_depth=20, rf__max_features=0.5, rf__min_samples_leaf=10, rf__n_estimators=800; total time= 4.5min\n"
     ]
    },
    {
     "name": "stderr",
     "output_type": "stream",
     "text": [
      "/Applications/anaconda3/lib/python3.12/site-packages/sklearn/preprocessing/_encoders.py:246: UserWarning: Found unknown categories in columns [2] during transform. These unknown categories will be encoded as all zeros\n",
      "  warnings.warn(\n"
     ]
    },
    {
     "name": "stdout",
     "output_type": "stream",
     "text": [
      "[CV] END rf__bootstrap=False, rf__class_weight=balanced, rf__max_depth=20, rf__max_features=0.5, rf__min_samples_leaf=10, rf__n_estimators=800; total time=  57.8s\n",
      "[CV] END rf__bootstrap=False, rf__class_weight=balanced, rf__max_depth=20, rf__max_features=0.5, rf__min_samples_leaf=10, rf__n_estimators=800; total time= 1.0min\n",
      "[CV] END rf__bootstrap=False, rf__class_weight={0: 1, 1: 5}, rf__max_depth=40, rf__max_features=0.2, rf__min_samples_leaf=5, rf__n_estimators=400; total time=11.4min\n"
     ]
    },
    {
     "name": "stderr",
     "output_type": "stream",
     "text": [
      "/Applications/anaconda3/lib/python3.12/site-packages/sklearn/preprocessing/_encoders.py:246: UserWarning: Found unknown categories in columns [2] during transform. These unknown categories will be encoded as all zeros\n",
      "  warnings.warn(\n"
     ]
    },
    {
     "name": "stdout",
     "output_type": "stream",
     "text": [
      "[CV] END rf__bootstrap=False, rf__class_weight={0: 1, 1: 5}, rf__max_depth=40, rf__max_features=0.2, rf__min_samples_leaf=5, rf__n_estimators=400; total time=  17.2s\n",
      "[CV] END rf__bootstrap=False, rf__class_weight={0: 1, 1: 5}, rf__max_depth=40, rf__max_features=0.2, rf__min_samples_leaf=5, rf__n_estimators=400; total time=  17.0s\n",
      "[CV] END rf__bootstrap=True, rf__class_weight={0: 1, 1: 5}, rf__max_depth=40, rf__max_features=log2, rf__min_samples_leaf=2, rf__n_estimators=800; total time=   8.3s\n"
     ]
    },
    {
     "name": "stderr",
     "output_type": "stream",
     "text": [
      "/Applications/anaconda3/lib/python3.12/site-packages/sklearn/preprocessing/_encoders.py:246: UserWarning: Found unknown categories in columns [2] during transform. These unknown categories will be encoded as all zeros\n",
      "  warnings.warn(\n"
     ]
    },
    {
     "name": "stdout",
     "output_type": "stream",
     "text": [
      "[CV] END rf__bootstrap=True, rf__class_weight={0: 1, 1: 5}, rf__max_depth=40, rf__max_features=log2, rf__min_samples_leaf=2, rf__n_estimators=800; total time=   8.4s\n",
      "[CV] END rf__bootstrap=True, rf__class_weight={0: 1, 1: 5}, rf__max_depth=40, rf__max_features=log2, rf__min_samples_leaf=2, rf__n_estimators=800; total time=   8.5s\n",
      "\n",
      "✅ RandomForest tuning completed in 4007.1 seconds (66.8 minutes)\n",
      "Best PR-AUC: 0.4505\n",
      "Best params: {'rf__n_estimators': 400, 'rf__min_samples_leaf': 5, 'rf__max_features': 0.2, 'rf__max_depth': 40, 'rf__class_weight': {0: 1, 1: 5}, 'rf__bootstrap': False}\n"
     ]
    },
    {
     "ename": "FileNotFoundError",
     "evalue": "[Errno 2] No such file or directory: '../models/best_rf_pipeline.pkl'",
     "output_type": "error",
     "traceback": [
      "\u001b[0;31m---------------------------------------------------------------------------\u001b[0m\n",
      "\u001b[0;31mFileNotFoundError\u001b[0m                         Traceback (most recent call last)\n",
      "Cell \u001b[0;32mIn[26], line 54\u001b[0m\n",
      "\u001b[1;32m     52\u001b[0m \u001b[38;5;66;03m# 7) Save the tuned pipeline for Streamlit / reload\u001b[39;00m\n",
      "\u001b[1;32m     53\u001b[0m model_path \u001b[38;5;241m=\u001b[39m \u001b[38;5;124m\"\u001b[39m\u001b[38;5;124m../models/best_rf_pipeline.pkl\u001b[39m\u001b[38;5;124m\"\u001b[39m\n",
      "\u001b[0;32m---> 54\u001b[0m joblib\u001b[38;5;241m.\u001b[39mdump(best_est, model_path)\n",
      "\u001b[1;32m     55\u001b[0m \u001b[38;5;28mprint\u001b[39m(\u001b[38;5;124mf\u001b[39m\u001b[38;5;124m\"\u001b[39m\u001b[38;5;124mSaved tuned RandomForest pipeline to \u001b[39m\u001b[38;5;124m'\u001b[39m\u001b[38;5;132;01m{\u001b[39;00mmodel_path\u001b[38;5;132;01m}\u001b[39;00m\u001b[38;5;124m'\u001b[39m\u001b[38;5;124m\"\u001b[39m)\n",
      "\n",
      "File \u001b[0;32m/Applications/anaconda3/lib/python3.12/site-packages/joblib/numpy_pickle.py:552\u001b[0m, in \u001b[0;36mdump\u001b[0;34m(value, filename, compress, protocol, cache_size)\u001b[0m\n",
      "\u001b[1;32m    550\u001b[0m         NumpyPickler(f, protocol\u001b[38;5;241m=\u001b[39mprotocol)\u001b[38;5;241m.\u001b[39mdump(value)\n",
      "\u001b[1;32m    551\u001b[0m \u001b[38;5;28;01melif\u001b[39;00m is_filename:\n",
      "\u001b[0;32m--> 552\u001b[0m     \u001b[38;5;28;01mwith\u001b[39;00m \u001b[38;5;28mopen\u001b[39m(filename, \u001b[38;5;124m'\u001b[39m\u001b[38;5;124mwb\u001b[39m\u001b[38;5;124m'\u001b[39m) \u001b[38;5;28;01mas\u001b[39;00m f:\n",
      "\u001b[1;32m    553\u001b[0m         NumpyPickler(f, protocol\u001b[38;5;241m=\u001b[39mprotocol)\u001b[38;5;241m.\u001b[39mdump(value)\n",
      "\u001b[1;32m    554\u001b[0m \u001b[38;5;28;01melse\u001b[39;00m:\n",
      "\n",
      "\u001b[0;31mFileNotFoundError\u001b[0m: [Errno 2] No such file or directory: '../models/best_rf_pipeline.pkl'"
     ]
    }
   ],
   "source": [
    "from sklearn.model_selection import RandomizedSearchCV, StratifiedKFold\n",
    "import time\n",
    "\n",
    "# Start timing\n",
    "start_time = time.time()\n",
    "\n",
    "# 1) Base pipeline: OHE + RF\n",
    "pipe = Pipeline([\n",
    "    (\"preprocess\", preprocess_ohe),\n",
    "    (\"rf\", RandomForestClassifier(\n",
    "        random_state=RANDOM_STATE,\n",
    "        n_jobs=-1\n",
    "    ))\n",
    "])\n",
    "\n",
    "# 2) Parameter distributions\n",
    "param_dist = {\n",
    "    \"rf__n_estimators\":    [400, 800, 1200],      # light trees for speed\n",
    "    \"rf__max_depth\":       [None, 20, 40],\n",
    "    \"rf__min_samples_leaf\":[1, 2, 5, 10],\n",
    "    \"rf__max_features\":    [\"sqrt\", \"log2\", 0.2, 0.5],\n",
    "    \"rf__class_weight\":    [\"balanced\"] + [{0:1, 1:k} for k in [5,15]],\n",
    "    \"rf__bootstrap\":       [True, False],\n",
    "}\n",
    "\n",
    "# 3) Stratified CV\n",
    "cv = StratifiedKFold(n_splits=3, shuffle=True, random_state=RANDOM_STATE)\n",
    "\n",
    "# 4) Randomized search setup\n",
    "rf_search = RandomizedSearchCV(\n",
    "    estimator=pipe,\n",
    "    param_distributions=param_dist,\n",
    "    n_iter=15,                     # 15 combinations\n",
    "    scoring=\"average_precision\",   # PR‐AUC\n",
    "    cv=cv,\n",
    "    refit=True,\n",
    "    verbose=2,\n",
    "    n_jobs=1                       # RF uses its own parallelism\n",
    ")\n",
    "\n",
    "# 5) Run the search\n",
    "rf_search.fit(X_train, y_train)\n",
    "\n",
    "# 6) Get the best estimator and runtime\n",
    "best_est = rf_search.best_estimator_\n",
    "rf_time = time.time() - start_time\n",
    "\n",
    "print(f\"\\n✅ RandomForest tuning completed in {rf_time:.1f} seconds ({rf_time/60:.1f} minutes)\")\n",
    "print(f\"Best PR-AUC: {rf_search.best_score_:.4f}\")\n",
    "print(f\"Best params: {rf_search.best_params_}\")\n"
   ]
  },
  {
   "cell_type": "code",
   "execution_count": 121,
   "id": "aefffe8d",
   "metadata": {},
   "outputs": [],
   "source": [
    "model_path = \"../models/best_rf_pipeline.pkl\""
   ]
  },
  {
   "cell_type": "code",
   "execution_count": null,
   "id": "4ff48217",
   "metadata": {},
   "outputs": [
    {
     "name": "stdout",
     "output_type": "stream",
     "text": [
      "Saved tuned RandomForest pipeline to '../models/best_rf_pipeline.pkl'\n"
     ]
    }
   ],
   "source": [
    "# Save the tuned pipeline for Streamlit / reload\n",
    "joblib.dump(best_est, model_path)\n",
    "print(f\"Saved tuned RandomForest pipeline to '{model_path}'\")"
   ]
  },
  {
   "cell_type": "code",
   "execution_count": 123,
   "id": "6b592367",
   "metadata": {},
   "outputs": [],
   "source": [
    "import joblib\n",
    "best_est = joblib.load(model_path)"
   ]
  },
  {
   "cell_type": "markdown",
   "id": "a03a53b6",
   "metadata": {},
   "source": [
    "**Evaluate the tuned model vs vanilla model**"
   ]
  },
  {
   "cell_type": "markdown",
   "id": "cc3b19e6",
   "metadata": {},
   "source": [
    "Tuned model evaluation:"
   ]
  },
  {
   "cell_type": "code",
   "execution_count": 126,
   "id": "4a9856e6",
   "metadata": {},
   "outputs": [
    {
     "name": "stderr",
     "output_type": "stream",
     "text": [
      "d:\\anaconda3\\Lib\\site-packages\\sklearn\\preprocessing\\_encoders.py:246: UserWarning: Found unknown categories in columns [3] during transform. These unknown categories will be encoded as all zeros\n",
      "  warnings.warn(\n"
     ]
    },
    {
     "name": "stdout",
     "output_type": "stream",
     "text": [
      "PR-AUC   : 0.504\n",
      "ROC-AUC  : 0.857\n",
      "\n",
      "Classification report (threshold 0.50):\n",
      "              precision    recall  f1-score   support\n",
      "\n",
      "           0      0.946     0.981     0.963     20245\n",
      "           1      0.614     0.352     0.447      1742\n",
      "\n",
      "    accuracy                          0.931     21987\n",
      "   macro avg      0.780     0.666     0.705     21987\n",
      "weighted avg      0.920     0.931     0.922     21987\n",
      "\n",
      "\n",
      "Confusion matrix:\n"
     ]
    },
    {
     "data": {
      "text/html": [
       "<div>\n",
       "<style scoped>\n",
       "    .dataframe tbody tr th:only-of-type {\n",
       "        vertical-align: middle;\n",
       "    }\n",
       "\n",
       "    .dataframe tbody tr th {\n",
       "        vertical-align: top;\n",
       "    }\n",
       "\n",
       "    .dataframe thead th {\n",
       "        text-align: right;\n",
       "    }\n",
       "</style>\n",
       "<table border=\"1\" class=\"dataframe\">\n",
       "  <thead>\n",
       "    <tr style=\"text-align: right;\">\n",
       "      <th></th>\n",
       "      <th>Pred On-time</th>\n",
       "      <th>Pred Late</th>\n",
       "    </tr>\n",
       "  </thead>\n",
       "  <tbody>\n",
       "    <tr>\n",
       "      <th>Actual On-time</th>\n",
       "      <td>19859</td>\n",
       "      <td>386</td>\n",
       "    </tr>\n",
       "    <tr>\n",
       "      <th>Actual Late</th>\n",
       "      <td>1129</td>\n",
       "      <td>613</td>\n",
       "    </tr>\n",
       "  </tbody>\n",
       "</table>\n",
       "</div>"
      ],
      "text/plain": [
       "                Pred On-time  Pred Late\n",
       "Actual On-time         19859        386\n",
       "Actual Late             1129        613"
      ]
     },
     "metadata": {},
     "output_type": "display_data"
    }
   ],
   "source": [
    "# ---  get probabilities and default predictions --------------------\n",
    "y_prob = best_est.predict_proba(X_test)[:, 1]\n",
    "y_pred = (y_prob >= 0.50).astype(int)                 # default 0.5 cut-off\n",
    "\n",
    "# --- core metrics --------------------------------------------------\n",
    "pr_auc  = average_precision_score(y_test, y_prob)\n",
    "roc_auc = roc_auc_score(y_test, y_prob)\n",
    "print(f\"PR-AUC   : {pr_auc:.3f}\")\n",
    "print(f\"ROC-AUC  : {roc_auc:.3f}\\n\")\n",
    "print(\"Classification report (threshold 0.50):\")\n",
    "print(classification_report(y_test, y_pred, digits=3))\n",
    "\n",
    "# confusion matrix\n",
    "cm = pd.DataFrame(confusion_matrix(y_test, y_pred),\n",
    "                  index=[\"Actual On-time\",\"Actual Late\"],\n",
    "                  columns=[\"Pred On-time\",\"Pred Late\"])\n",
    "print(\"\\nConfusion matrix:\")\n",
    "display(cm)"
   ]
  },
  {
   "cell_type": "code",
   "execution_count": 127,
   "id": "d60bab5c",
   "metadata": {},
   "outputs": [
    {
     "name": "stdout",
     "output_type": "stream",
     "text": [
      "Threshold for ≥75% recall: 0.0108\n",
      "  resulting precision     : 0.0819\n",
      "\n",
      "Threshold for ≥80% precision: 0.6385\n",
      "  resulting recall        : 0.2365\n",
      "\n",
      "Threshold for maximum F1 score: 0.3754\n",
      "  resulting precision     : 0.4605\n",
      "  resulting recall        : 0.4782\n",
      "  resulting F1 score      : 0.4692\n",
      "\n",
      "Threshold for maximum F2 score: 0.2320\n",
      "  resulting precision     : 0.3121\n",
      "  resulting recall        : 0.6762\n",
      "  resulting F2 score      : 0.5483\n",
      "\n",
      "Classification report at F-beta optimized threshold:\n",
      "              precision    recall  f1-score   support\n",
      "\n",
      "           0      0.969     0.872     0.918     20245\n",
      "           1      0.312     0.676     0.427      1742\n",
      "\n",
      "    accuracy                          0.856     21987\n",
      "   macro avg      0.641     0.774     0.672     21987\n",
      "weighted avg      0.917     0.856     0.879     21987\n",
      "\n"
     ]
    },
    {
     "data": {
      "text/html": [
       "<div>\n",
       "<style scoped>\n",
       "    .dataframe tbody tr th:only-of-type {\n",
       "        vertical-align: middle;\n",
       "    }\n",
       "\n",
       "    .dataframe tbody tr th {\n",
       "        vertical-align: top;\n",
       "    }\n",
       "\n",
       "    .dataframe thead th {\n",
       "        text-align: right;\n",
       "    }\n",
       "</style>\n",
       "<table border=\"1\" class=\"dataframe\">\n",
       "  <thead>\n",
       "    <tr style=\"text-align: right;\">\n",
       "      <th></th>\n",
       "      <th>Pred On-time</th>\n",
       "      <th>Pred Late</th>\n",
       "    </tr>\n",
       "  </thead>\n",
       "  <tbody>\n",
       "    <tr>\n",
       "      <th>Actual On-time</th>\n",
       "      <td>17648</td>\n",
       "      <td>2597</td>\n",
       "    </tr>\n",
       "    <tr>\n",
       "      <th>Actual Late</th>\n",
       "      <td>564</td>\n",
       "      <td>1178</td>\n",
       "    </tr>\n",
       "  </tbody>\n",
       "</table>\n",
       "</div>"
      ],
      "text/plain": [
       "                Pred On-time  Pred Late\n",
       "Actual On-time         17648       2597\n",
       "Actual Late              564       1178"
      ]
     },
     "metadata": {},
     "output_type": "display_data"
    },
    {
     "data": {
      "image/png": "[encoded data removed]",
      "text/plain": [
       "<Figure size 1000x600 with 1 Axes>"
      ]
     },
     "metadata": {},
     "output_type": "display_data"
    }
   ],
   "source": [
    "# Find a threshold that balances precision and recall for Random Forest\n",
    "precisions, recalls, thresholds = precision_recall_curve(y_test, y_prob)\n",
    "\n",
    "# Option 1: Find threshold for specific target recall\n",
    "target_recall = 0.75  # We want to catch 75% of late deliveries\n",
    "idx = np.where((recalls >= target_recall) & (recalls < 1.0))[0]\n",
    "if idx.size:\n",
    "    best_recall_thr = thresholds[idx[0]]\n",
    "    print(f\"Threshold for ≥{target_recall*100:.0f}% recall: {best_recall_thr:.4f}\")\n",
    "    print(f\"  resulting precision     : {precisions[idx[0]]:.4f}\")\n",
    "else:\n",
    "    print(f\"Model cannot reach {target_recall*100:.0f}% recall\")\n",
    "\n",
    "# Option 2: Find threshold for good precision (e.g., 80%)\n",
    "target_precision = 0.80\n",
    "idx_prec = np.where(precisions >= target_precision)[0]\n",
    "if idx_prec.size:\n",
    "    # Get the highest recall that maintains target precision\n",
    "    max_recall_idx = idx_prec[np.argmax(recalls[idx_prec])]\n",
    "    best_prec_thr = thresholds[max_recall_idx]\n",
    "    print(f\"\\nThreshold for ≥{target_precision*100:.0f}% precision: {best_prec_thr:.4f}\")\n",
    "    print(f\"  resulting recall        : {recalls[max_recall_idx]:.4f}\")\n",
    "else:\n",
    "    print(f\"\\nModel cannot reach {target_precision*100:.0f}% precision\")\n",
    "\n",
    "# Option 3: F1 score optimization (balance between precision and recall)\n",
    "f1_scores = 2 * (precisions * recalls) / (precisions + recalls + 1e-10)\n",
    "best_f1_idx = np.argmax(f1_scores)\n",
    "best_f1_thr = thresholds[best_f1_idx]\n",
    "print(f\"\\nThreshold for maximum F1 score: {best_f1_thr:.4f}\")\n",
    "print(f\"  resulting precision     : {precisions[best_f1_idx]:.4f}\")\n",
    "print(f\"  resulting recall        : {recalls[best_f1_idx]:.4f}\")\n",
    "print(f\"  resulting F1 score      : {f1_scores[best_f1_idx]:.4f}\")\n",
    "\n",
    "# Option 4: F-beta optimization that prioritizes recall\n",
    "beta = 2  # Beta > 1 favors recall over precision (beta=2 weights recall twice as much as precision)\n",
    "fbeta_scores = (1 + beta**2) * (precisions * recalls) / ((beta**2 * precisions) + recalls + 1e-10)\n",
    "best_fbeta_idx = np.argmax(fbeta_scores)\n",
    "best_fbeta_thr = thresholds[best_fbeta_idx]\n",
    "print(f\"\\nThreshold for maximum F{beta} score: {best_fbeta_thr:.4f}\")\n",
    "print(f\"  resulting precision     : {precisions[best_fbeta_idx]:.4f}\")\n",
    "print(f\"  resulting recall        : {recalls[best_fbeta_idx]:.4f}\")\n",
    "print(f\"  resulting F{beta} score      : {fbeta_scores[best_fbeta_idx]:.4f}\")\n",
    "\n",
    "# Select F-beta threshold as our chosen threshold\n",
    "chosen_threshold = best_fbeta_thr\n",
    "\n",
    "# Build predictions using the chosen threshold\n",
    "y_pred_balanced = (y_prob >= chosen_threshold).astype(int)\n",
    "\n",
    "print(\"\\nClassification report at F-beta optimized threshold:\")\n",
    "print(classification_report(y_test, y_pred_balanced, digits=3))\n",
    "\n",
    "# Display a confusion matrix\n",
    "cm = confusion_matrix(y_test, y_pred_balanced)\n",
    "display(pd.DataFrame(\n",
    "    cm,\n",
    "    index=[\"Actual On-time\",\"Actual Late\"],\n",
    "    columns=[\"Pred On-time\",\"Pred Late\"]\n",
    "))\n",
    "\n",
    "# Create precision-recall curve visualization\n",
    "fig, ax = plt.figure(figsize=(10, 6)), plt.gca()\n",
    "PrecisionRecallDisplay.from_predictions(y_test, y_prob, ax=ax)\n",
    "\n",
    "# Add vertical and horizontal lines for F1 threshold\n",
    "plt.axvline(x=recalls[best_f1_idx], color='r', linestyle='--', label=f'F1 Max (thr={best_f1_thr:.4f})')\n",
    "plt.axhline(y=precisions[best_f1_idx], color='r', linestyle='--')\n",
    "\n",
    "# Add vertical and horizontal lines for F-beta threshold\n",
    "plt.axvline(x=recalls[best_fbeta_idx], color='b', linestyle='--', label=f'F{beta} Max (thr={best_fbeta_thr:.4f})')\n",
    "plt.axhline(y=precisions[best_fbeta_idx], color='b', linestyle='--')\n",
    "\n",
    "# Add vertical and horizontal lines for 80% precision threshold\n",
    "plt.axvline(x=recalls[max_recall_idx], color='g', linestyle='--', label=f'P≥{target_precision} (thr={best_prec_thr:.4f})')\n",
    "plt.axhline(y=precisions[max_recall_idx], color='g', linestyle='--')\n",
    "\n",
    "# Enhance the plot\n",
    "plt.title(\"RandomForest – Precision-Recall Curve with Different Thresholds\")\n",
    "plt.grid(True, alpha=0.3)\n",
    "plt.legend(loc='best')\n",
    "plt.tight_layout()\n",
    "plt.show()"
   ]
  },
  {
   "cell_type": "markdown",
   "id": "823b6515",
   "metadata": {},
   "source": [
    "### Combine Tuned & Vanilla Model"
   ]
  },
  {
   "cell_type": "markdown",
   "id": "5ad4a99c",
   "metadata": {},
   "source": [
    "Since the tuned model is not better than the vanilla model, we'll try to combine parameters from both models that worked well to see if that can uplift the PR-AUC score which gives a better trade-off from requiring high recall"
   ]
  },
  {
   "cell_type": "code",
   "execution_count": 135,
   "id": "336f04ea",
   "metadata": {},
   "outputs": [
    {
     "name": "stderr",
     "output_type": "stream",
     "text": [
      "d:\\anaconda3\\Lib\\site-packages\\sklearn\\preprocessing\\_encoders.py:246: UserWarning: Found unknown categories in columns [3] during transform. These unknown categories will be encoded as all zeros\n",
      "  warnings.warn(\n"
     ]
    },
    {
     "name": "stdout",
     "output_type": "stream",
     "text": [
      "PR-AUC   : 0.516\n",
      "ROC-AUC  : 0.860\n",
      "\n",
      "Classification report (threshold 0.50):\n",
      "              precision    recall  f1-score   support\n",
      "\n",
      "           0      0.934     0.999     0.966     20245\n",
      "           1      0.949     0.180     0.303      1742\n",
      "\n",
      "    accuracy                          0.934     21987\n",
      "   macro avg      0.941     0.590     0.634     21987\n",
      "weighted avg      0.935     0.934     0.913     21987\n",
      "\n",
      "\n",
      "Confusion matrix:\n"
     ]
    },
    {
     "data": {
      "text/html": [
       "<div>\n",
       "<style scoped>\n",
       "    .dataframe tbody tr th:only-of-type {\n",
       "        vertical-align: middle;\n",
       "    }\n",
       "\n",
       "    .dataframe tbody tr th {\n",
       "        vertical-align: top;\n",
       "    }\n",
       "\n",
       "    .dataframe thead th {\n",
       "        text-align: right;\n",
       "    }\n",
       "</style>\n",
       "<table border=\"1\" class=\"dataframe\">\n",
       "  <thead>\n",
       "    <tr style=\"text-align: right;\">\n",
       "      <th></th>\n",
       "      <th>Pred On-time</th>\n",
       "      <th>Pred Late</th>\n",
       "    </tr>\n",
       "  </thead>\n",
       "  <tbody>\n",
       "    <tr>\n",
       "      <th>Actual On-time</th>\n",
       "      <td>20228</td>\n",
       "      <td>17</td>\n",
       "    </tr>\n",
       "    <tr>\n",
       "      <th>Actual Late</th>\n",
       "      <td>1428</td>\n",
       "      <td>314</td>\n",
       "    </tr>\n",
       "  </tbody>\n",
       "</table>\n",
       "</div>"
      ],
      "text/plain": [
       "                Pred On-time  Pred Late\n",
       "Actual On-time         20228         17\n",
       "Actual Late             1428        314"
      ]
     },
     "metadata": {},
     "output_type": "display_data"
    }
   ],
   "source": [
    "# --- rebuild the pipeline exactly as in the benchmark -------------\n",
    "rf_pipe = Pipeline([\n",
    "    (\"preprocess\", preprocess_ohe),\n",
    "    (\"model\", RandomForestClassifier(\n",
    "        n_estimators=300,\n",
    "        max_depth=40,\n",
    "        class_weight={0: 1, 1: 5},\n",
    "        n_jobs=-1,\n",
    "        random_state=RANDOM_STATE\n",
    "    ))\n",
    "])\n",
    "\n",
    "# --- fit on full training set -------------------------------------\n",
    "rf_pipe.fit(X_train, y_train)\n",
    "\n",
    "# ---  get probabilities and default predictions --------------------\n",
    "y_prob = rf_pipe.predict_proba(X_test)[:, 1]\n",
    "y_pred = (y_prob >= 0.50).astype(int)                 # default 0.5 cut-off\n",
    "\n",
    "# --- core metrics --------------------------------------------------\n",
    "pr_auc  = average_precision_score(y_test, y_prob)\n",
    "roc_auc = roc_auc_score(y_test, y_prob)\n",
    "print(f\"PR-AUC   : {pr_auc:.3f}\")\n",
    "print(f\"ROC-AUC  : {roc_auc:.3f}\\n\")\n",
    "print(\"Classification report (threshold 0.50):\")\n",
    "print(classification_report(y_test, y_pred, digits=3))\n",
    "\n",
    "# confusion matrix\n",
    "cm = pd.DataFrame(confusion_matrix(y_test, y_pred),\n",
    "                  index=[\"Actual On-time\",\"Actual Late\"],\n",
    "                  columns=[\"Pred On-time\",\"Pred Late\"])\n",
    "print(\"\\nConfusion matrix:\")\n",
    "display(cm)"
   ]
  },
  {
   "cell_type": "code",
   "execution_count": 136,
   "id": "96d90ff9",
   "metadata": {},
   "outputs": [
    {
     "name": "stdout",
     "output_type": "stream",
     "text": [
      "Threshold for ≥75% recall: 0.0034\n",
      "  resulting precision     : 0.0823\n",
      "\n",
      "Threshold for ≥80% precision: 0.3864\n",
      "  resulting recall        : 0.2423\n",
      "\n",
      "Threshold for maximum F1 score: 0.2332\n",
      "  resulting precision     : 0.5263\n",
      "  resulting recall        : 0.4363\n",
      "  resulting F1 score      : 0.4771\n",
      "\n",
      "Threshold for maximum F2 score: 0.1195\n",
      "  resulting precision     : 0.2972\n",
      "  resulting recall        : 0.6923\n",
      "  resulting F2 score      : 0.5469\n",
      "\n",
      "Classification report at F-beta optimized threshold:\n",
      "              precision    recall  f1-score   support\n",
      "\n",
      "           0      0.970     0.859     0.911     20245\n",
      "           1      0.297     0.692     0.416      1742\n",
      "\n",
      "    accuracy                          0.846     21987\n",
      "   macro avg      0.634     0.776     0.664     21987\n",
      "weighted avg      0.917     0.846     0.872     21987\n",
      "\n"
     ]
    },
    {
     "data": {
      "text/html": [
       "<div>\n",
       "<style scoped>\n",
       "    .dataframe tbody tr th:only-of-type {\n",
       "        vertical-align: middle;\n",
       "    }\n",
       "\n",
       "    .dataframe tbody tr th {\n",
       "        vertical-align: top;\n",
       "    }\n",
       "\n",
       "    .dataframe thead th {\n",
       "        text-align: right;\n",
       "    }\n",
       "</style>\n",
       "<table border=\"1\" class=\"dataframe\">\n",
       "  <thead>\n",
       "    <tr style=\"text-align: right;\">\n",
       "      <th></th>\n",
       "      <th>Pred On-time</th>\n",
       "      <th>Pred Late</th>\n",
       "    </tr>\n",
       "  </thead>\n",
       "  <tbody>\n",
       "    <tr>\n",
       "      <th>Actual On-time</th>\n",
       "      <td>17393</td>\n",
       "      <td>2852</td>\n",
       "    </tr>\n",
       "    <tr>\n",
       "      <th>Actual Late</th>\n",
       "      <td>536</td>\n",
       "      <td>1206</td>\n",
       "    </tr>\n",
       "  </tbody>\n",
       "</table>\n",
       "</div>"
      ],
      "text/plain": [
       "                Pred On-time  Pred Late\n",
       "Actual On-time         17393       2852\n",
       "Actual Late              536       1206"
      ]
     },
     "metadata": {},
     "output_type": "display_data"
    },
    {
     "data": {
      "image/png": "[encoded data removed]",
      "text/plain": [
       "<Figure size 1000x600 with 1 Axes>"
      ]
     },
     "metadata": {},
     "output_type": "display_data"
    }
   ],
   "source": [
    "# Find a threshold that balances precision and recall for Random Forest\n",
    "precisions, recalls, thresholds = precision_recall_curve(y_test, y_prob)\n",
    "\n",
    "# Option 1: Find threshold for specific target recall\n",
    "target_recall = 0.75  # We want to catch 75% of late deliveries\n",
    "idx = np.where((recalls >= target_recall) & (recalls < 1.0))[0]\n",
    "if idx.size:\n",
    "    best_recall_thr = thresholds[idx[0]]\n",
    "    print(f\"Threshold for ≥{target_recall*100:.0f}% recall: {best_recall_thr:.4f}\")\n",
    "    print(f\"  resulting precision     : {precisions[idx[0]]:.4f}\")\n",
    "else:\n",
    "    print(f\"Model cannot reach {target_recall*100:.0f}% recall\")\n",
    "\n",
    "# Option 2: Find threshold for good precision (e.g., 80%)\n",
    "target_precision = 0.80\n",
    "idx_prec = np.where(precisions >= target_precision)[0]\n",
    "if idx_prec.size:\n",
    "    # Get the highest recall that maintains target precision\n",
    "    max_recall_idx = idx_prec[np.argmax(recalls[idx_prec])]\n",
    "    best_prec_thr = thresholds[max_recall_idx]\n",
    "    print(f\"\\nThreshold for ≥{target_precision*100:.0f}% precision: {best_prec_thr:.4f}\")\n",
    "    print(f\"  resulting recall        : {recalls[max_recall_idx]:.4f}\")\n",
    "else:\n",
    "    print(f\"\\nModel cannot reach {target_precision*100:.0f}% precision\")\n",
    "\n",
    "# Option 3: F1 score optimization (balance between precision and recall)\n",
    "f1_scores = 2 * (precisions * recalls) / (precisions + recalls + 1e-10)\n",
    "best_f1_idx = np.argmax(f1_scores)\n",
    "best_f1_thr = thresholds[best_f1_idx]\n",
    "print(f\"\\nThreshold for maximum F1 score: {best_f1_thr:.4f}\")\n",
    "print(f\"  resulting precision     : {precisions[best_f1_idx]:.4f}\")\n",
    "print(f\"  resulting recall        : {recalls[best_f1_idx]:.4f}\")\n",
    "print(f\"  resulting F1 score      : {f1_scores[best_f1_idx]:.4f}\")\n",
    "\n",
    "# Option 4: F-beta optimization that prioritizes recall\n",
    "beta = 2  # Beta > 1 favors recall over precision (beta=2 weights recall twice as much as precision)\n",
    "fbeta_scores = (1 + beta**2) * (precisions * recalls) / ((beta**2 * precisions) + recalls + 1e-10)\n",
    "best_fbeta_idx = np.argmax(fbeta_scores)\n",
    "best_fbeta_thr = thresholds[best_fbeta_idx]\n",
    "print(f\"\\nThreshold for maximum F{beta} score: {best_fbeta_thr:.4f}\")\n",
    "print(f\"  resulting precision     : {precisions[best_fbeta_idx]:.4f}\")\n",
    "print(f\"  resulting recall        : {recalls[best_fbeta_idx]:.4f}\")\n",
    "print(f\"  resulting F{beta} score      : {fbeta_scores[best_fbeta_idx]:.4f}\")\n",
    "\n",
    "# Select F-beta threshold as our chosen threshold\n",
    "chosen_threshold = best_fbeta_thr\n",
    "\n",
    "# Build predictions using the chosen threshold\n",
    "y_pred_balanced = (y_prob >= chosen_threshold).astype(int)\n",
    "\n",
    "print(\"\\nClassification report at F-beta optimized threshold:\")\n",
    "print(classification_report(y_test, y_pred_balanced, digits=3))\n",
    "\n",
    "# Display a confusion matrix\n",
    "cm = confusion_matrix(y_test, y_pred_balanced)\n",
    "display(pd.DataFrame(\n",
    "    cm,\n",
    "    index=[\"Actual On-time\",\"Actual Late\"],\n",
    "    columns=[\"Pred On-time\",\"Pred Late\"]\n",
    "))\n",
    "\n",
    "# Create precision-recall curve visualization\n",
    "fig, ax = plt.figure(figsize=(10, 6)), plt.gca()\n",
    "PrecisionRecallDisplay.from_predictions(y_test, y_prob, ax=ax)\n",
    "\n",
    "# Add vertical and horizontal lines for F1 threshold\n",
    "plt.axvline(x=recalls[best_f1_idx], color='r', linestyle='--', label=f'F1 Max (thr={best_f1_thr:.4f})')\n",
    "plt.axhline(y=precisions[best_f1_idx], color='r', linestyle='--')\n",
    "\n",
    "# Add vertical and horizontal lines for F-beta threshold\n",
    "plt.axvline(x=recalls[best_fbeta_idx], color='b', linestyle='--', label=f'F{beta} Max (thr={best_fbeta_thr:.4f})')\n",
    "plt.axhline(y=precisions[best_fbeta_idx], color='b', linestyle='--')\n",
    "\n",
    "# Add vertical and horizontal lines for 80% precision threshold\n",
    "plt.axvline(x=recalls[max_recall_idx], color='g', linestyle='--', label=f'P≥{target_precision} (thr={best_prec_thr:.4f})')\n",
    "plt.axhline(y=precisions[max_recall_idx], color='g', linestyle='--')\n",
    "\n",
    "# Enhance the plot\n",
    "plt.title(\"RandomForest – Precision-Recall Curve with Different Thresholds\")\n",
    "plt.grid(True, alpha=0.3)\n",
    "plt.legend(loc='best')\n",
    "plt.tight_layout()\n",
    "plt.show()"
   ]
  },
  {
   "cell_type": "markdown",
   "id": "f876a603",
   "metadata": {},
   "source": [
    "## Best Model: X"
   ]
  },
  {
   "cell_type": "code",
   "execution_count": null,
   "id": "05c6396e",
   "metadata": {},
   "outputs": [],
   "source": [
    "# best_est = rf_pipe"
   ]
  },
  {
   "cell_type": "markdown",
   "id": "039be37a",
   "metadata": {},
   "source": [
    "## Feature Importance"
   ]
  },
  {
   "cell_type": "markdown",
   "id": "bd269bf8",
   "metadata": {},
   "source": [
    "### See the important & irrelevant features"
   ]
  },
  {
   "cell_type": "code",
   "execution_count": 124,
   "id": "85dcc867",
   "metadata": {},
   "outputs": [
    {
     "data": {
      "image/png": "[encoded data removed]",
      "text/plain": [
       "<Figure size 800x600 with 1 Axes>"
      ]
     },
     "metadata": {},
     "output_type": "display_data"
    },
    {
     "data": {
      "image/png": "[encoded data removed]",
      "text/plain": [
       "<Figure size 800x600 with 1 Axes>"
      ]
     },
     "metadata": {},
     "output_type": "display_data"
    }
   ],
   "source": [
    "# ==================== 1. Get Importances ====================\n",
    "preproc = best_est.named_steps[\"preprocess\"]\n",
    "rf      = best_est.named_steps[\"rf\"]\n",
    "\n",
    "# Get the transformed feature names (after OHE, binarization, etc)\n",
    "feature_names = preproc.get_feature_names_out()\n",
    "\n",
    "# Get feature importances from RF (matches feature_names)\n",
    "importances = rf.feature_importances_\n",
    "feat_imp = pd.Series(importances, index=feature_names).sort_values(ascending=False)\n",
    "\n",
    "# Optional: Visualize top/bottom features (still OHE-level)\n",
    "plt.figure(figsize=(8, 6))\n",
    "feat_imp.head(20).plot.barh()\n",
    "plt.gca().invert_yaxis()\n",
    "plt.title(\"Top 20 Feature Importances — RF (OHE-level)\")\n",
    "plt.tight_layout()\n",
    "plt.show()\n",
    "\n",
    "plt.figure(figsize=(8, 6))\n",
    "feat_imp.tail(20).plot.barh()\n",
    "plt.gca().invert_yaxis()\n",
    "plt.title(\"Bottom 20 Feature Importances — RF (OHE-level)\")\n",
    "plt.tight_layout()\n",
    "plt.show()"
   ]
  },
  {
   "cell_type": "markdown",
   "id": "fe596cc6",
   "metadata": {},
   "source": [
    "### Check multicollinearity"
   ]
  },
  {
   "cell_type": "markdown",
   "id": "c1967127",
   "metadata": {},
   "source": [
    "While multicollinearity isn't a concern for tree-based models performance, it can certainly be a problem for interpretability. So, we'll check the multicollinearity of the features, and see if we can drop highly correlated features without decreasing the performance for interpretability."
   ]
  },
  {
   "cell_type": "code",
   "execution_count": 95,
   "id": "692cdbed",
   "metadata": {},
   "outputs": [
    {
     "data": {
      "text/plain": [
       "[('seller_30d_order_count', 'seller_90d_order_count'),\n",
       " ('seller_90d_order_count', 'seller_30d_order_count')]"
      ]
     },
     "execution_count": 95,
     "metadata": {},
     "output_type": "execute_result"
    }
   ],
   "source": [
    "corr = X_train[num_cols].corr().abs()\n",
    "high_corr = np.where((corr > 0.9) & (corr < 1.0))\n",
    "list(zip(corr.index[high_corr[0]], corr.columns[high_corr[1]]))"
   ]
  },
  {
   "cell_type": "markdown",
   "id": "31aac9bb",
   "metadata": {},
   "source": [
    "`seller_30d_order_count` and `seller_90d_order_count` are very highly correlated (90-100%), so we can drop one of them. Based on the feature importance, `seller_90d_order_count` is more important, so we'll drop `seller_30d_order_count`"
   ]
  },
  {
   "cell_type": "code",
   "execution_count": null,
   "id": "c61a5679",
   "metadata": {},
   "outputs": [],
   "source": [
    "# # Drop seller_30d_order_count from feature importance since it's highly correlated with seller_90d_order_count\n",
    "# feat_imp = feat_imp.drop(\"num__seller_30d_order_count\")"
   ]
  },
  {
   "cell_type": "markdown",
   "id": "700b1c73",
   "metadata": {},
   "source": [
    "## Residual Analysis"
   ]
  },
  {
   "cell_type": "code",
   "execution_count": 110,
   "id": "88c9359e",
   "metadata": {},
   "outputs": [
    {
     "data": {
      "text/plain": [
       "residual_type\n",
       "True Negative     0.715286\n",
       "False Positive    0.205485\n",
       "True Positive     0.053759\n",
       "False Negative    0.025470\n",
       "Name: proportion, dtype: float64"
      ]
     },
     "execution_count": 110,
     "metadata": {},
     "output_type": "execute_result"
    }
   ],
   "source": [
    "# Create a residuals DataFrame\n",
    "residuals_df = X_test.copy()\n",
    "residuals_df[\"y_true\"] = y_test\n",
    "residuals_df[\"y_pred\"] = y_pred\n",
    "residuals_df[\"prob\"]   = y_prob\n",
    "\n",
    "# 3. Add residual type column\n",
    "def get_residual_type(row):\n",
    "    if row[\"y_true\"] == 1 and row[\"y_pred\"] == 0:\n",
    "        return \"False Negative\"\n",
    "    elif row[\"y_true\"] == 0 and row[\"y_pred\"] == 1:\n",
    "        return \"False Positive\"\n",
    "    elif row[\"y_true\"] == 1 and row[\"y_pred\"] == 1:\n",
    "        return \"True Positive\"\n",
    "    else:\n",
    "        return \"True Negative\"\n",
    "\n",
    "residuals_df[\"residual_type\"] = residuals_df.apply(get_residual_type, axis=1)\n",
    "residuals_df[\"residual_type\"].value_counts(normalize=True)"
   ]
  },
  {
   "cell_type": "markdown",
   "id": "fb8ab047",
   "metadata": {},
   "source": [
    "**Which product categories cause False Negatives?**"
   ]
  },
  {
   "cell_type": "code",
   "execution_count": 111,
   "id": "610d3da6",
   "metadata": {},
   "outputs": [
    {
     "data": {
      "text/plain": [
       "product_category_name_english\n",
       "bed_bath_table           57\n",
       "sports_leisure           50\n",
       "health_beauty            43\n",
       "furniture_decor          41\n",
       "housewares               36\n",
       "telephony                31\n",
       "watches_gifts            28\n",
       "auto                     28\n",
       "cool_stuff               26\n",
       "computers_accessories    25\n",
       "Name: count, dtype: int64"
      ]
     },
     "execution_count": 111,
     "metadata": {},
     "output_type": "execute_result"
    }
   ],
   "source": [
    "residuals_df[residuals_df[\"residual_type\"] == \"False Negative\"][\"product_category_name_english\"].value_counts().head(10)"
   ]
  },
  {
   "cell_type": "markdown",
   "id": "b6f0a4e0",
   "metadata": {},
   "source": [
    "**Is it missing a lot of late deliveries to remote customers?**"
   ]
  },
  {
   "cell_type": "code",
   "execution_count": 112,
   "id": "a3abe6c0",
   "metadata": {},
   "outputs": [
    {
     "data": {
      "text/html": [
       "<div>\n",
       "<style scoped>\n",
       "    .dataframe tbody tr th:only-of-type {\n",
       "        vertical-align: middle;\n",
       "    }\n",
       "\n",
       "    .dataframe tbody tr th {\n",
       "        vertical-align: top;\n",
       "    }\n",
       "\n",
       "    .dataframe thead th {\n",
       "        text-align: right;\n",
       "    }\n",
       "</style>\n",
       "<table border=\"1\" class=\"dataframe\">\n",
       "  <thead>\n",
       "    <tr style=\"text-align: right;\">\n",
       "      <th>residual_type</th>\n",
       "      <th>False Negative</th>\n",
       "      <th>False Positive</th>\n",
       "      <th>True Negative</th>\n",
       "      <th>True Positive</th>\n",
       "    </tr>\n",
       "    <tr>\n",
       "      <th>customer_is_remote</th>\n",
       "      <th></th>\n",
       "      <th></th>\n",
       "      <th></th>\n",
       "      <th></th>\n",
       "    </tr>\n",
       "  </thead>\n",
       "  <tbody>\n",
       "    <tr>\n",
       "      <th>0</th>\n",
       "      <td>0.024373</td>\n",
       "      <td>0.174052</td>\n",
       "      <td>0.754015</td>\n",
       "      <td>0.047560</td>\n",
       "    </tr>\n",
       "    <tr>\n",
       "      <th>1</th>\n",
       "      <td>0.028400</td>\n",
       "      <td>0.289509</td>\n",
       "      <td>0.611761</td>\n",
       "      <td>0.070331</td>\n",
       "    </tr>\n",
       "  </tbody>\n",
       "</table>\n",
       "</div>"
      ],
      "text/plain": [
       "residual_type       False Negative  False Positive  True Negative  \\\n",
       "customer_is_remote                                                  \n",
       "0                         0.024373        0.174052       0.754015   \n",
       "1                         0.028400        0.289509       0.611761   \n",
       "\n",
       "residual_type       True Positive  \n",
       "customer_is_remote                 \n",
       "0                        0.047560  \n",
       "1                        0.070331  "
      ]
     },
     "execution_count": 112,
     "metadata": {},
     "output_type": "execute_result"
    }
   ],
   "source": [
    "pd.crosstab(\n",
    "    residuals_df[\"customer_is_remote\"],\n",
    "    residuals_df[\"residual_type\"],\n",
    "    normalize=\"index\"\n",
    ")"
   ]
  },
  {
   "cell_type": "markdown",
   "id": "f89f40e1",
   "metadata": {},
   "source": [
    "**Are low-seller-volume orders more error-prone?**"
   ]
  },
  {
   "cell_type": "code",
   "execution_count": 114,
   "id": "5864fb60",
   "metadata": {},
   "outputs": [
    {
     "data": {
      "text/plain": [
       "<Axes: xlabel='residual_type', ylabel='seller_90d_order_count'>"
      ]
     },
     "execution_count": 114,
     "metadata": {},
     "output_type": "execute_result"
    },
    {
     "data": {
      "image/png": "[encoded data removed]",
      "text/plain": [
       "<Figure size 640x480 with 1 Axes>"
      ]
     },
     "metadata": {},
     "output_type": "display_data"
    }
   ],
   "source": [
    "import seaborn as sns\n",
    "sns.boxplot(\n",
    "    x=\"residual_type\",\n",
    "    y=\"seller_90d_order_count\",\n",
    "    data=residuals_df[residuals_df[\"residual_type\"].isin([\"False Negative\", \"True Positive\"])]\n",
    ")"
   ]
  },
  {
   "cell_type": "markdown",
   "id": "6cc301a3",
   "metadata": {},
   "source": [
    "## Explainable AI"
   ]
  },
  {
   "cell_type": "code",
   "execution_count": 117,
   "id": "ced1dab7",
   "metadata": {},
   "outputs": [
    {
     "ename": "UFuncTypeError",
     "evalue": "Cannot cast ufunc 'isnan' input from dtype('O') to dtype('bool') with casting rule 'same_kind'",
     "output_type": "error",
     "traceback": [
      "\u001b[1;31m---------------------------------------------------------------------------\u001b[0m",
      "\u001b[1;31mUFuncTypeError\u001b[0m                            Traceback (most recent call last)",
      "Cell \u001b[1;32mIn[117], line 11\u001b[0m\n\u001b[0;32m      9\u001b[0m X_sample \u001b[38;5;241m=\u001b[39m rf_pipe\u001b[38;5;241m.\u001b[39mnamed_steps[\u001b[38;5;124m\"\u001b[39m\u001b[38;5;124mpreprocess\u001b[39m\u001b[38;5;124m\"\u001b[39m]\u001b[38;5;241m.\u001b[39mtransform(X_train\u001b[38;5;241m.\u001b[39msample(\u001b[38;5;241m5000\u001b[39m, random_state\u001b[38;5;241m=\u001b[39m\u001b[38;5;241m21\u001b[39m))\n\u001b[0;32m     10\u001b[0m \u001b[38;5;66;03m# X_sample = best_est.named_steps[\"preprocess\"].transform(X_train.sample(5000, random_state=21))\u001b[39;00m\n\u001b[1;32m---> 11\u001b[0m shap_values \u001b[38;5;241m=\u001b[39m explainer\u001b[38;5;241m.\u001b[39mshap_values(X_sample)\n\u001b[0;32m     13\u001b[0m \u001b[38;5;66;03m# 3. Global summary plot\u001b[39;00m\n\u001b[0;32m     14\u001b[0m shap\u001b[38;5;241m.\u001b[39msummary_plot(\n\u001b[0;32m     15\u001b[0m     shap_values[\u001b[38;5;241m1\u001b[39m],      \u001b[38;5;66;03m# for class “late” (index 1)\u001b[39;00m\n\u001b[0;32m     16\u001b[0m     X_sample,            \u001b[38;5;66;03m# preprocessed feature matrix\u001b[39;00m\n\u001b[0;32m     17\u001b[0m     feature_names\u001b[38;5;241m=\u001b[39mexplainer\u001b[38;5;241m.\u001b[39mfeature_names, \n\u001b[0;32m     18\u001b[0m     max_display\u001b[38;5;241m=\u001b[39m\u001b[38;5;241m20\u001b[39m\n\u001b[0;32m     19\u001b[0m )\n",
      "File \u001b[1;32md:\\anaconda3\\Lib\\site-packages\\shap\\explainers\\_tree.py:620\u001b[0m, in \u001b[0;36mTreeExplainer.shap_values\u001b[1;34m(self, X, y, tree_limit, approximate, check_additivity, from_call)\u001b[0m\n\u001b[0;32m    617\u001b[0m             out \u001b[38;5;241m=\u001b[39m np\u001b[38;5;241m.\u001b[39mstack(out, axis\u001b[38;5;241m=\u001b[39m\u001b[38;5;241m-\u001b[39m\u001b[38;5;241m1\u001b[39m)\n\u001b[0;32m    618\u001b[0m         \u001b[38;5;28;01mreturn\u001b[39;00m out\n\u001b[1;32m--> 620\u001b[0m X, y, X_missing, flat_output, tree_limit, check_additivity \u001b[38;5;241m=\u001b[39m \u001b[38;5;28mself\u001b[39m\u001b[38;5;241m.\u001b[39m_validate_inputs(\n\u001b[0;32m    621\u001b[0m     X, y, tree_limit, check_additivity\n\u001b[0;32m    622\u001b[0m )\n\u001b[0;32m    623\u001b[0m transform \u001b[38;5;241m=\u001b[39m \u001b[38;5;28mself\u001b[39m\u001b[38;5;241m.\u001b[39mmodel\u001b[38;5;241m.\u001b[39mget_transform()\n\u001b[0;32m    624\u001b[0m _xgboost_cat_unsupported(\u001b[38;5;28mself\u001b[39m\u001b[38;5;241m.\u001b[39mmodel)\n",
      "File \u001b[1;32md:\\anaconda3\\Lib\\site-packages\\shap\\explainers\\_tree.py:450\u001b[0m, in \u001b[0;36mTreeExplainer._validate_inputs\u001b[1;34m(self, X, y, tree_limit, check_additivity)\u001b[0m\n\u001b[0;32m    448\u001b[0m \u001b[38;5;28;01mif\u001b[39;00m X\u001b[38;5;241m.\u001b[39mdtype \u001b[38;5;241m!=\u001b[39m \u001b[38;5;28mself\u001b[39m\u001b[38;5;241m.\u001b[39mmodel\u001b[38;5;241m.\u001b[39minput_dtype:\n\u001b[0;32m    449\u001b[0m     X \u001b[38;5;241m=\u001b[39m X\u001b[38;5;241m.\u001b[39mastype(\u001b[38;5;28mself\u001b[39m\u001b[38;5;241m.\u001b[39mmodel\u001b[38;5;241m.\u001b[39minput_dtype)\n\u001b[1;32m--> 450\u001b[0m X_missing \u001b[38;5;241m=\u001b[39m np\u001b[38;5;241m.\u001b[39misnan(X, dtype\u001b[38;5;241m=\u001b[39m\u001b[38;5;28mbool\u001b[39m)\n\u001b[0;32m    451\u001b[0m \u001b[38;5;28;01massert\u001b[39;00m \u001b[38;5;28misinstance\u001b[39m(X, np\u001b[38;5;241m.\u001b[39mndarray), \u001b[38;5;124m\"\u001b[39m\u001b[38;5;124mUnknown instance type: \u001b[39m\u001b[38;5;124m\"\u001b[39m \u001b[38;5;241m+\u001b[39m \u001b[38;5;28mstr\u001b[39m(\u001b[38;5;28mtype\u001b[39m(X))\n\u001b[0;32m    452\u001b[0m \u001b[38;5;28;01massert\u001b[39;00m \u001b[38;5;28mlen\u001b[39m(X\u001b[38;5;241m.\u001b[39mshape) \u001b[38;5;241m==\u001b[39m \u001b[38;5;241m2\u001b[39m, \u001b[38;5;124m\"\u001b[39m\u001b[38;5;124mPassed input data matrix X must have 1 or 2 dimensions!\u001b[39m\u001b[38;5;124m\"\u001b[39m\n",
      "\u001b[1;31mUFuncTypeError\u001b[0m: Cannot cast ufunc 'isnan' input from dtype('O') to dtype('bool') with casting rule 'same_kind'"
     ]
    }
   ],
   "source": [
    "import shap\n",
    "\n",
    "# 1. Fit explainer on your final model\n",
    "#    If using RandomForest inside a pipeline:\n",
    "# explainer = shap.TreeExplainer(best_est.named_steps[\"rf\"])\n",
    "explainer = shap.TreeExplainer(best_est.named_steps[\"model\"])\n",
    "\n",
    "# 2. Compute SHAP values on a sample (e.g. 5k rows for speed)\n",
    "X_sample = rf_pipe.named_steps[\"preprocess\"].transform(X_train.sample(5000, random_state=21))\n",
    "# X_sample = best_est.named_steps[\"preprocess\"].transform(X_train.sample(5000, random_state=21))\n",
    "shap_values = explainer.shap_values(X_sample)\n",
    "\n",
    "# 3. Global summary plot\n",
    "shap.summary_plot(\n",
    "    shap_values[1],      # for class “late” (index 1)\n",
    "    X_sample,            # preprocessed feature matrix\n",
    "    feature_names=explainer.feature_names, \n",
    "    max_display=20\n",
    ")\n",
    "\n",
    "# 4. Local explanation for one sample\n",
    "i = RANDOM_STATE  # arbitrary index\n",
    "shap.force_plot(\n",
    "    explainer.expected_value[1],\n",
    "    shap_values[1][i],\n",
    "    X_sample[i],\n",
    "    feature_names=explainer.feature_names,\n",
    "    matplotlib=True\n",
    ")"
   ]
  },
  {
   "cell_type": "markdown",
   "id": "a0c86bfd",
   "metadata": {},
   "source": [
    "## Business Impact"
   ]
  },
  {
   "cell_type": "code",
   "execution_count": null,
   "id": "3fbbd0fd",
   "metadata": {},
   "outputs": [],
   "source": [
    "avg_order_value   = 163  # R$   (placeholder)\n",
    "voucher_pct       = 0.05 # 5% voucher\n",
    "late_orders_caught = (y_pred & y_test).sum()\n",
    "false_positives    = (y_pred & (~y_test.astype(bool))).sum()\n",
    "\n",
    "revenue_saved    = late_orders_caught * avg_order_value  # simple proxy\n",
    "voucher_cost     = false_positives * avg_order_value * voucher_pct\n",
    "\n",
    "print(f\"Late deliveries prevented: {late_orders_caught}\")\n",
    "print(f\"Voucher cost (false positives): R$ {voucher_cost:,.0f}\")\n",
    "print(f\"Net impact proxy: R$ {revenue_saved - voucher_cost:,.0f}\")"
   ]
  }
 ],
 "metadata": {
  "kernelspec": {
   "display_name": "base",
   "language": "python",
   "name": "python3"
  },
  "language_info": {
   "codemirror_mode": {
    "name": "ipython",
    "version": 3
   },
   "file_extension": ".py",
   "mimetype": "text/x-python",
   "name": "python",
   "nbconvert_exporter": "python",
   "pygments_lexer": "ipython3",
   "version": "3.12.3"
  }
 },
 "nbformat": 4,
 "nbformat_minor": 5
}
