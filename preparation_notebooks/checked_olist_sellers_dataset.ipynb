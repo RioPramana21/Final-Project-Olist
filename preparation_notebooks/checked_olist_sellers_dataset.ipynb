{
 "cells": [
  {
   "cell_type": "code",
   "execution_count": 25,
   "id": "715d6b02",
   "metadata": {},
   "outputs": [],
   "source": [
    "import pandas as pd\n",
    "import os\n",
    "import seaborn as sns\n",
    "import matplotlib.pyplot as plt\n",
    "import scipy.stats as ss\n",
    "\n",
    "date_cols = {\n",
    "    'olist_orders_dataset.csv': [\n",
    "        'order_purchase_timestamp',\n",
    "        'order_approved_at',\n",
    "        'order_delivered_carrier_date',\n",
    "        'order_delivered_customer_date',\n",
    "        'order_estimated_delivery_date',\n",
    "    ],\n",
    "    'olist_order_items_dataset.csv': [\n",
    "        'shipping_limit_date',\n",
    "    ],\n",
    "    'olist_order_reviews_dataset.csv': [\n",
    "        'review_creation_date',\n",
    "        'review_answer_timestamp',\n",
    "    ],\n",
    "    # The following datasets have NO date columns:\n",
    "    # 'olist_customers_dataset.csv'\n",
    "    # 'olist_geolocation_dataset.csv'\n",
    "    # 'olist_order_payments_dataset.csv'\n",
    "    # 'olist_products_dataset.csv'\n",
    "    # 'olist_sellers_dataset.csv'\n",
    "    # 'product_category_name_translation.csv'\n",
    "    'olist_orders_delivered_clean.csv': [\n",
    "        'order_purchase_timestamp',\n",
    "        'order_approved_at',\n",
    "        'order_delivered_carrier_date',\n",
    "        'order_delivered_customer_date',\n",
    "        'order_estimated_delivery_date',\n",
    "    ],\n",
    "}\n",
    "\n",
    "def read_olist_csv(path):\n",
    "    \"\"\"\n",
    "    Reads an Olist CSV and parses dates for the correct columns.\n",
    "    Args:\n",
    "        path (str): Path to the CSV file.\n",
    "    Returns:\n",
    "        pd.DataFrame: Loaded dataframe with date columns parsed as datetime.\n",
    "    \"\"\"\n",
    "    # Extract just the filename, e.g., 'olist_orders_dataset.csv'\n",
    "    filename = os.path.basename(path)\n",
    "    # Get the correct date columns for this file, or an empty list\n",
    "    parse_dates = date_cols.get(filename, [])\n",
    "    # Read the CSV, parsing the specified date columns (if any)\n",
    "    return pd.read_csv(path, parse_dates=parse_dates)\n",
    "\n",
    "df_orders      = read_olist_csv('../data/olist_orders_dataset.csv')\n",
    "df_customers   = read_olist_csv('../data/olist_customers_dataset.csv')\n",
    "df_items       = read_olist_csv('../data/olist_order_items_dataset.csv')\n",
    "df_payments    = read_olist_csv('../data/olist_order_payments_dataset.csv')\n",
    "df_reviews     = read_olist_csv('../data/olist_order_reviews_dataset.csv')\n",
    "df_products    = read_olist_csv('../data/olist_products_dataset.csv')\n",
    "df_prod_cat_tr = read_olist_csv('../data/product_category_name_translation.csv')\n",
    "df_sellers     = read_olist_csv('../data/olist_sellers_dataset.csv')\n",
    "df_geolocation = read_olist_csv('../data/olist_geolocation_dataset.csv')\n",
    "\n",
    "# Cleaned dataset\n",
    "df_orders_delivered_clean   = read_olist_csv('../data/cleaned_data/olist_orders_delivered_clean.csv')\n",
    "df_geolocation_clean        = read_olist_csv('../data/cleaned_data/olist_geolocation_dataset_city_cleaned_final_Jo.csv')"
   ]
  },
  {
   "cell_type": "code",
   "execution_count": 43,
   "id": "f0bd0714",
   "metadata": {},
   "outputs": [],
   "source": [
    "import plotly.express as px\n",
    "import plotly.graph_objects as go"
   ]
  },
  {
   "cell_type": "code",
   "execution_count": 16,
   "id": "7e58fc66",
   "metadata": {},
   "outputs": [
    {
     "data": {
      "text/html": [
       "<div>\n",
       "<style scoped>\n",
       "    .dataframe tbody tr th:only-of-type {\n",
       "        vertical-align: middle;\n",
       "    }\n",
       "\n",
       "    .dataframe tbody tr th {\n",
       "        vertical-align: top;\n",
       "    }\n",
       "\n",
       "    .dataframe thead th {\n",
       "        text-align: right;\n",
       "    }\n",
       "</style>\n",
       "<table border=\"1\" class=\"dataframe\">\n",
       "  <thead>\n",
       "    <tr style=\"text-align: right;\">\n",
       "      <th></th>\n",
       "      <th>seller_id</th>\n",
       "      <th>seller_zip_code_prefix</th>\n",
       "      <th>seller_city</th>\n",
       "      <th>seller_state</th>\n",
       "    </tr>\n",
       "  </thead>\n",
       "  <tbody>\n",
       "    <tr>\n",
       "      <th>0</th>\n",
       "      <td>3442f8959a84dea7ee197c632cb2df15</td>\n",
       "      <td>13023</td>\n",
       "      <td>campinas</td>\n",
       "      <td>SP</td>\n",
       "    </tr>\n",
       "    <tr>\n",
       "      <th>1</th>\n",
       "      <td>d1b65fc7debc3361ea86b5f14c68d2e2</td>\n",
       "      <td>13844</td>\n",
       "      <td>mogi guacu</td>\n",
       "      <td>SP</td>\n",
       "    </tr>\n",
       "    <tr>\n",
       "      <th>2</th>\n",
       "      <td>ce3ad9de960102d0677a81f5d0bb7b2d</td>\n",
       "      <td>20031</td>\n",
       "      <td>rio de janeiro</td>\n",
       "      <td>RJ</td>\n",
       "    </tr>\n",
       "    <tr>\n",
       "      <th>3</th>\n",
       "      <td>c0f3eea2e14555b6faeea3dd58c1b1c3</td>\n",
       "      <td>4195</td>\n",
       "      <td>sao paulo</td>\n",
       "      <td>SP</td>\n",
       "    </tr>\n",
       "    <tr>\n",
       "      <th>4</th>\n",
       "      <td>51a04a8a6bdcb23deccc82b0b80742cf</td>\n",
       "      <td>12914</td>\n",
       "      <td>braganca paulista</td>\n",
       "      <td>SP</td>\n",
       "    </tr>\n",
       "    <tr>\n",
       "      <th>5</th>\n",
       "      <td>c240c4061717ac1806ae6ee72be3533b</td>\n",
       "      <td>20920</td>\n",
       "      <td>rio de janeiro</td>\n",
       "      <td>RJ</td>\n",
       "    </tr>\n",
       "    <tr>\n",
       "      <th>6</th>\n",
       "      <td>e49c26c3edfa46d227d5121a6b6e4d37</td>\n",
       "      <td>55325</td>\n",
       "      <td>brejao</td>\n",
       "      <td>PE</td>\n",
       "    </tr>\n",
       "    <tr>\n",
       "      <th>7</th>\n",
       "      <td>1b938a7ec6ac5061a66a3766e0e75f90</td>\n",
       "      <td>16304</td>\n",
       "      <td>penapolis</td>\n",
       "      <td>SP</td>\n",
       "    </tr>\n",
       "    <tr>\n",
       "      <th>8</th>\n",
       "      <td>768a86e36ad6aae3d03ee3c6433d61df</td>\n",
       "      <td>1529</td>\n",
       "      <td>sao paulo</td>\n",
       "      <td>SP</td>\n",
       "    </tr>\n",
       "    <tr>\n",
       "      <th>9</th>\n",
       "      <td>ccc4bbb5f32a6ab2b7066a4130f114e3</td>\n",
       "      <td>80310</td>\n",
       "      <td>curitiba</td>\n",
       "      <td>PR</td>\n",
       "    </tr>\n",
       "  </tbody>\n",
       "</table>\n",
       "</div>"
      ],
      "text/plain": [
       "                          seller_id  seller_zip_code_prefix  \\\n",
       "0  3442f8959a84dea7ee197c632cb2df15                   13023   \n",
       "1  d1b65fc7debc3361ea86b5f14c68d2e2                   13844   \n",
       "2  ce3ad9de960102d0677a81f5d0bb7b2d                   20031   \n",
       "3  c0f3eea2e14555b6faeea3dd58c1b1c3                    4195   \n",
       "4  51a04a8a6bdcb23deccc82b0b80742cf                   12914   \n",
       "5  c240c4061717ac1806ae6ee72be3533b                   20920   \n",
       "6  e49c26c3edfa46d227d5121a6b6e4d37                   55325   \n",
       "7  1b938a7ec6ac5061a66a3766e0e75f90                   16304   \n",
       "8  768a86e36ad6aae3d03ee3c6433d61df                    1529   \n",
       "9  ccc4bbb5f32a6ab2b7066a4130f114e3                   80310   \n",
       "\n",
       "         seller_city seller_state  \n",
       "0           campinas           SP  \n",
       "1         mogi guacu           SP  \n",
       "2     rio de janeiro           RJ  \n",
       "3          sao paulo           SP  \n",
       "4  braganca paulista           SP  \n",
       "5     rio de janeiro           RJ  \n",
       "6             brejao           PE  \n",
       "7          penapolis           SP  \n",
       "8          sao paulo           SP  \n",
       "9           curitiba           PR  "
      ]
     },
     "execution_count": 16,
     "metadata": {},
     "output_type": "execute_result"
    }
   ],
   "source": [
    "# Load the sellers dataset:\n",
    "df_sellers.head(10)"
   ]
  },
  {
   "cell_type": "markdown",
   "id": "979687f4",
   "metadata": {},
   "source": [
    "| Column Name              | Description                                                                 |\n",
    "|--------------------------|-----------------------------------------------------------------------------|\n",
    "| `seller_id`              | Unique identifier for each seller.                                          |\n",
    "| `seller_zip_code_prefix`| First 5 digits of the seller's ZIP code (used for regional analysis).       |\n",
    "| `seller_city`            | City where the seller is located.                                           |\n",
    "| `seller_state`           | State (abbreviated) where the seller is located (e.g., SP for Sao Paulo).  |"
   ]
  },
  {
   "cell_type": "code",
   "execution_count": 3,
   "id": "b1df6bb1",
   "metadata": {},
   "outputs": [
    {
     "name": "stdout",
     "output_type": "stream",
     "text": [
      "<class 'pandas.core.frame.DataFrame'>\n",
      "RangeIndex: 3095 entries, 0 to 3094\n",
      "Data columns (total 4 columns):\n",
      " #   Column                  Non-Null Count  Dtype \n",
      "---  ------                  --------------  ----- \n",
      " 0   seller_id               3095 non-null   object\n",
      " 1   seller_zip_code_prefix  3095 non-null   int64 \n",
      " 2   seller_city             3095 non-null   object\n",
      " 3   seller_state            3095 non-null   object\n",
      "dtypes: int64(1), object(3)\n",
      "memory usage: 96.8+ KB\n"
     ]
    }
   ],
   "source": [
    "df_sellers.info()"
   ]
  },
  {
   "cell_type": "code",
   "execution_count": 4,
   "id": "8a30125b",
   "metadata": {},
   "outputs": [
    {
     "data": {
      "text/html": [
       "<div>\n",
       "<style scoped>\n",
       "    .dataframe tbody tr th:only-of-type {\n",
       "        vertical-align: middle;\n",
       "    }\n",
       "\n",
       "    .dataframe tbody tr th {\n",
       "        vertical-align: top;\n",
       "    }\n",
       "\n",
       "    .dataframe thead th {\n",
       "        text-align: right;\n",
       "    }\n",
       "</style>\n",
       "<table border=\"1\" class=\"dataframe\">\n",
       "  <thead>\n",
       "    <tr style=\"text-align: right;\">\n",
       "      <th></th>\n",
       "      <th>seller_zip_code_prefix</th>\n",
       "    </tr>\n",
       "  </thead>\n",
       "  <tbody>\n",
       "    <tr>\n",
       "      <th>count</th>\n",
       "      <td>3095.000000</td>\n",
       "    </tr>\n",
       "    <tr>\n",
       "      <th>mean</th>\n",
       "      <td>32291.059451</td>\n",
       "    </tr>\n",
       "    <tr>\n",
       "      <th>std</th>\n",
       "      <td>32713.453830</td>\n",
       "    </tr>\n",
       "    <tr>\n",
       "      <th>min</th>\n",
       "      <td>1001.000000</td>\n",
       "    </tr>\n",
       "    <tr>\n",
       "      <th>25%</th>\n",
       "      <td>7093.500000</td>\n",
       "    </tr>\n",
       "    <tr>\n",
       "      <th>50%</th>\n",
       "      <td>14940.000000</td>\n",
       "    </tr>\n",
       "    <tr>\n",
       "      <th>75%</th>\n",
       "      <td>64552.500000</td>\n",
       "    </tr>\n",
       "    <tr>\n",
       "      <th>max</th>\n",
       "      <td>99730.000000</td>\n",
       "    </tr>\n",
       "  </tbody>\n",
       "</table>\n",
       "</div>"
      ],
      "text/plain": [
       "       seller_zip_code_prefix\n",
       "count             3095.000000\n",
       "mean             32291.059451\n",
       "std              32713.453830\n",
       "min               1001.000000\n",
       "25%               7093.500000\n",
       "50%              14940.000000\n",
       "75%              64552.500000\n",
       "max              99730.000000"
      ]
     },
     "execution_count": 4,
     "metadata": {},
     "output_type": "execute_result"
    }
   ],
   "source": [
    "df_sellers.describe()"
   ]
  },
  {
   "cell_type": "code",
   "execution_count": 17,
   "id": "fe94e674",
   "metadata": {},
   "outputs": [
    {
     "data": {
      "text/html": [
       "<div>\n",
       "<style scoped>\n",
       "    .dataframe tbody tr th:only-of-type {\n",
       "        vertical-align: middle;\n",
       "    }\n",
       "\n",
       "    .dataframe tbody tr th {\n",
       "        vertical-align: top;\n",
       "    }\n",
       "\n",
       "    .dataframe thead th {\n",
       "        text-align: right;\n",
       "    }\n",
       "</style>\n",
       "<table border=\"1\" class=\"dataframe\">\n",
       "  <thead>\n",
       "    <tr style=\"text-align: right;\">\n",
       "      <th></th>\n",
       "      <th>Column</th>\n",
       "      <th>Unique Count</th>\n",
       "      <th>Unique Values</th>\n",
       "    </tr>\n",
       "  </thead>\n",
       "  <tbody>\n",
       "    <tr>\n",
       "      <th>0</th>\n",
       "      <td>seller_id</td>\n",
       "      <td>3095</td>\n",
       "      <td>[3442f8959a84dea7ee197c632cb2df15, d1b65fc7deb...</td>\n",
       "    </tr>\n",
       "    <tr>\n",
       "      <th>1</th>\n",
       "      <td>seller_zip_code_prefix</td>\n",
       "      <td>2246</td>\n",
       "      <td>[13023, 13844, 20031, 4195, 12914, 20920, 5532...</td>\n",
       "    </tr>\n",
       "    <tr>\n",
       "      <th>2</th>\n",
       "      <td>seller_city</td>\n",
       "      <td>611</td>\n",
       "      <td>[campinas, mogi guacu, rio de janeiro, sao pau...</td>\n",
       "    </tr>\n",
       "    <tr>\n",
       "      <th>3</th>\n",
       "      <td>seller_state</td>\n",
       "      <td>23</td>\n",
       "      <td>[SP, RJ, PE, PR, GO, SC, BA, DF, RS, MG, RN, M...</td>\n",
       "    </tr>\n",
       "  </tbody>\n",
       "</table>\n",
       "</div>"
      ],
      "text/plain": [
       "                   Column  Unique Count  \\\n",
       "0               seller_id          3095   \n",
       "1  seller_zip_code_prefix          2246   \n",
       "2             seller_city           611   \n",
       "3            seller_state            23   \n",
       "\n",
       "                                       Unique Values  \n",
       "0  [3442f8959a84dea7ee197c632cb2df15, d1b65fc7deb...  \n",
       "1  [13023, 13844, 20031, 4195, 12914, 20920, 5532...  \n",
       "2  [campinas, mogi guacu, rio de janeiro, sao pau...  \n",
       "3  [SP, RJ, PE, PR, GO, SC, BA, DF, RS, MG, RN, M...  "
      ]
     },
     "execution_count": 17,
     "metadata": {},
     "output_type": "execute_result"
    }
   ],
   "source": [
    "summary = []\n",
    "\n",
    "for col in df_sellers.columns:\n",
    "    unique_vals = df_sellers[col].dropna().unique()\n",
    "    summary.append({\n",
    "        'Column': col,\n",
    "        'Unique Count': len(unique_vals),\n",
    "        'Unique Values': unique_vals\n",
    "    })\n",
    "\n",
    "df_summary = pd.DataFrame(summary)\n",
    "df_summary"
   ]
  },
  {
   "cell_type": "code",
   "execution_count": 6,
   "id": "c4d14972",
   "metadata": {},
   "outputs": [
    {
     "data": {
      "text/plain": [
       "seller_id                 0\n",
       "seller_zip_code_prefix    0\n",
       "seller_city               0\n",
       "seller_state              0\n",
       "dtype: int64"
      ]
     },
     "execution_count": 6,
     "metadata": {},
     "output_type": "execute_result"
    }
   ],
   "source": [
    "df_sellers.isna().sum()"
   ]
  },
  {
   "cell_type": "code",
   "execution_count": 7,
   "id": "285d42ff",
   "metadata": {},
   "outputs": [
    {
     "data": {
      "text/plain": [
       "0"
      ]
     },
     "execution_count": 7,
     "metadata": {},
     "output_type": "execute_result"
    }
   ],
   "source": [
    "df_sellers.duplicated().sum()"
   ]
  },
  {
   "cell_type": "code",
   "execution_count": 18,
   "id": "fbb6191a",
   "metadata": {},
   "outputs": [
    {
     "name": "stdout",
     "output_type": "stream",
     "text": [
      "04482255\n",
      "abadia de goias\n",
      "afonso claudio\n",
      "aguas claras df\n",
      "alambari\n",
      "alfenas\n",
      "almirante tamandare\n",
      "alvares machado\n",
      "alvorada\n",
      "americana\n",
      "amparo\n",
      "ampere\n",
      "anapolis\n",
      "andira-pr\n",
      "andradas\n",
      "angra dos reis\n",
      "angra dos reis rj\n",
      "ao bernardo do campo\n",
      "aparecida\n",
      "aparecida de goiania\n",
      "aperibe\n",
      "apucarana\n",
      "aracaju\n",
      "aracatuba\n",
      "araguari\n",
      "arapongas\n",
      "araquari\n",
      "ararangua\n",
      "araraquara\n",
      "araras\n",
      "araucaria\n",
      "araxa\n",
      "arinos\n",
      "armacao dos buzios\n",
      "arraial d'ajuda (porto seguro)\n",
      "artur nogueira\n",
      "aruja\n",
      "arvorezinha\n",
      "assis\n",
      "atibaia\n",
      "auriflama\n",
      "auriflama/sp\n",
      "avare\n",
      "bady bassitt\n",
      "baependi\n",
      "bage\n",
      "bahia\n",
      "balenario camboriu\n",
      "balneario camboriu\n",
      "bandeirantes\n",
      "barbacena\n",
      "barbacena/ minas gerais\n",
      "bariri\n",
      "barra mansa\n",
      "barra velha\n",
      "barretos\n",
      "barrinha\n",
      "barro alto\n",
      "barueri\n",
      "batatais\n",
      "bauru\n",
      "bebedouro\n",
      "belford roxo\n",
      "belo horizont\n",
      "belo horizonte\n",
      "bento goncalves\n",
      "bertioga\n",
      "betim\n",
      "birigui\n",
      "blumenau\n",
      "bocaiuva do sul\n",
      "bofete\n",
      "boituva\n",
      "bom jardim\n",
      "bom jesus dos perdoes\n",
      "bombinhas\n",
      "bonfinopolis de minas\n",
      "borda da mata\n",
      "botucatu\n",
      "braco do norte\n",
      "braganca paulista\n",
      "brasilia\n",
      "brasilia df\n",
      "brejao\n",
      "brotas\n",
      "brusque\n",
      "buritama\n",
      "cacador\n",
      "cachoeira do sul\n",
      "cachoeirinha\n",
      "cachoeiro de itapemirim\n",
      "cafelandia\n",
      "caieiras\n",
      "cajamar\n",
      "california\n",
      "camanducaia\n",
      "cambe\n",
      "camboriu\n",
      "campanha\n",
      "campina das missoes\n",
      "campina grande\n",
      "campinas\n",
      "campo bom\n",
      "campo do meio\n",
      "campo grande\n",
      "campo largo\n",
      "campo limpo paulista\n",
      "campo magro\n",
      "campo mourao\n",
      "campos dos goytacazes\n",
      "campos novos\n",
      "cananeia\n",
      "canoas\n",
      "canoinhas\n",
      "capivari\n",
      "carapicuiba\n",
      "carapicuiba / sao paulo\n",
      "caratinga\n",
      "carazinho\n",
      "cariacica\n",
      "cariacica / es\n",
      "carmo da mata\n",
      "carmo do cajuru\n",
      "caruaru\n",
      "cascavael\n",
      "cascavel\n",
      "castro\n",
      "castro pires\n",
      "cataguases\n",
      "catanduva\n",
      "caucaia\n",
      "caxias do sul\n",
      "centro\n",
      "cerqueira cesar\n",
      "chapeco\n",
      "cianorte\n",
      "claudio\n",
      "clementina\n",
      "colatina\n",
      "colombo\n",
      "colorado\n",
      "conchal\n",
      "concordia\n",
      "condor\n",
      "congonhal\n",
      "congonhas\n",
      "conselheiro lafaiete\n",
      "contagem\n",
      "cordeiropolis\n",
      "cordilheira alta\n",
      "cornelio procopio\n",
      "coronel fabriciano\n",
      "cosmopolis\n",
      "cotia\n",
      "coxim\n",
      "cravinhos\n",
      "criciuma\n",
      "cruzeiro\n",
      "cuiaba\n",
      "curitiba\n",
      "curitibanos\n",
      "descalvado\n",
      "diadema\n",
      "divinopolis\n",
      "divisa nova\n",
      "dois corregos\n",
      "domingos martins\n",
      "dores de campos\n",
      "dracena\n",
      "duque de caxias\n",
      "echapora\n",
      "embu das artes\n",
      "embu guacu\n",
      "engenheiro coelho\n",
      "entre rios do oeste\n",
      "erechim\n",
      "estancia velha\n",
      "eunapolis\n",
      "eusebio\n",
      "extrema\n",
      "farroupilha\n",
      "fazenda rio grande\n",
      "feira de santana\n",
      "fernando prestes\n",
      "fernandopolis\n",
      "ferraz de  vasconcelos\n",
      "ferraz de vasconcelos\n",
      "floranopolis\n",
      "flores da cunha\n",
      "floresta\n",
      "florianopolis\n",
      "formiga\n",
      "formosa\n",
      "formosa do oeste\n",
      "fortaleza\n",
      "foz do iguacu\n",
      "franca\n",
      "francisco beltrao\n",
      "francisco morato\n",
      "franco da rocha\n",
      "fronteira\n",
      "gama\n",
      "garca\n",
      "garopaba\n",
      "garulhos\n",
      "garuva\n",
      "gaspar\n",
      "goiania\n",
      "goioere\n",
      "governador valadares\n",
      "guaimbe\n",
      "guaira\n",
      "guanambi\n",
      "guanhaes\n",
      "guara\n",
      "guarapuava\n",
      "guaratingueta\n",
      "guaratuba\n",
      "guariba\n",
      "guaruja\n",
      "guarulhos\n",
      "guiricema\n",
      "holambra\n",
      "horizontina\n",
      "hortolandia\n",
      "ibia\n",
      "ibirite\n",
      "ibitinga\n",
      "icara\n",
      "igaracu do tiete\n",
      "igrejinha\n",
      "ilheus\n",
      "ilicinea\n",
      "imbe\n",
      "imbituba\n",
      "imbituva\n",
      "imigrante\n",
      "indaial\n",
      "indaiatuba\n",
      "ipatinga\n",
      "ipaussu\n",
      "ipe\n",
      "ipira\n",
      "ipua\n",
      "irati\n",
      "irece\n",
      "itabira\n",
      "itaborai\n",
      "itaipulandia\n",
      "itajai\n",
      "itajobi\n",
      "itapecerica da serra\n",
      "itapema\n",
      "itapetininga\n",
      "itapeva\n",
      "itapevi\n",
      "itaporanga\n",
      "itapui\n",
      "itaquaquecetuba\n",
      "itatiba\n",
      "itau de minas\n",
      "itauna\n",
      "itirapina\n",
      "itu\n",
      "ivoti\n",
      "jaboticabal\n",
      "jacarei\n",
      "jacarei / sao paulo\n",
      "jaci\n",
      "jaciara\n",
      "jacutinga\n",
      "jaguariuna\n",
      "jaguaruna\n",
      "jales\n",
      "jambeiro\n",
      "janauba\n",
      "japira\n",
      "jaragua\n",
      "jaragua do sul\n",
      "jarinu\n",
      "jau\n",
      "ji parana\n",
      "joao monlevade\n",
      "joao pessoa\n",
      "joao pinheiro\n",
      "joinville\n",
      "juiz de fora\n",
      "jundiai\n",
      "jussara\n",
      "juzeiro do norte\n",
      "lages\n",
      "lages - sc\n",
      "lagoa da prata\n",
      "lagoa santa\n",
      "laguna\n",
      "lajeado\n",
      "lambari\n",
      "laranjal paulista\n",
      "laranjeiras do sul\n",
      "laurentino\n",
      "lauro de freitas\n",
      "leme\n",
      "lencois paulista\n",
      "limeira\n",
      "loanda\n",
      "londrina\n",
      "lorena\n",
      "louveira\n",
      "luiz alves\n",
      "luziania\n",
      "macae\n",
      "macatuba\n",
      "mage\n",
      "mairinque\n",
      "mairipora\n",
      "mamanguape\n",
      "manaus\n",
      "mandaguacu\n",
      "mandaguari\n",
      "mandirituba\n",
      "marapoama\n",
      "marechal candido rondon\n",
      "marialva\n",
      "marica\n",
      "marilia\n",
      "maringa\n",
      "massaranduba\n",
      "mateus leme\n",
      "maua\n",
      "maua/sao paulo\n",
      "medianeira\n",
      "mesquita\n",
      "messias targino\n",
      "miguelopolis\n",
      "minas gerais\n",
      "mineiros do tiete\n",
      "mirandopolis\n",
      "mirassol\n",
      "mococa\n",
      "mogi das cruses\n",
      "mogi das cruzes\n",
      "mogi das cruzes / sp\n",
      "mogi guacu\n",
      "mogi mirim\n",
      "mombuca\n",
      "monte alegre do sul\n",
      "monte alto\n",
      "monte siao\n",
      "monteiro lobato\n",
      "montenegro\n",
      "montes claros\n",
      "morrinhos\n",
      "mucambo\n",
      "muqui\n",
      "muriae\n",
      "natal\n",
      "navegantes\n",
      "neopolis\n",
      "nhandeara\n",
      "nilopolis\n",
      "niteroi\n",
      "nova friburgo\n",
      "nova iguacu\n",
      "nova lima\n",
      "nova odessa\n",
      "nova petropolis\n",
      "nova trento\n",
      "novo hamburgo\n",
      "novo hamburgo, rio grande do sul, brasil\n",
      "novo horizonte\n",
      "olimpia\n",
      "oliveira\n",
      "orlandia\n",
      "orleans\n",
      "osasco\n",
      "osvaldo cruz\n",
      "ourinhos\n",
      "ouro fino\n",
      "ouro preto\n",
      "pacatuba\n",
      "paincandu\n",
      "palhoca\n",
      "palotina\n",
      "paracambi\n",
      "parai\n",
      "paraiba do sul\n",
      "paraiso do sul\n",
      "parana\n",
      "paranavai\n",
      "parnamirim\n",
      "passos\n",
      "pato bragado\n",
      "pato branco\n",
      "patos de minas\n",
      "paulinia\n",
      "paulo lopes\n",
      "pederneiras\n",
      "pedregulho\n",
      "pedreira\n",
      "pedrinhas paulista\n",
      "pedro leopoldo\n",
      "pelotas\n",
      "penapolis\n",
      "petropolis\n",
      "picarras\n",
      "pilar do sul\n",
      "pinhais\n",
      "pinhais/pr\n",
      "pinhalao\n",
      "pinhalzinho\n",
      "piracanjuba\n",
      "piracicaba\n",
      "pirassununga\n",
      "pirituba\n",
      "pitanga\n",
      "pitangueiras\n",
      "poa\n",
      "pocos de caldas\n",
      "pompeia\n",
      "ponta grossa\n",
      "ponte nova\n",
      "portao\n",
      "porto alegre\n",
      "porto belo\n",
      "porto ferreira\n",
      "porto seguro\n",
      "porto velho\n",
      "portoferreira\n",
      "pouso alegre\n",
      "pradopolis\n",
      "prados\n",
      "praia grande\n",
      "presidente bernardes\n",
      "presidente epitacio\n",
      "presidente getulio\n",
      "presidente prudente\n",
      "queimados\n",
      "recife\n",
      "registro\n",
      "resende\n",
      "ribeirao das neves\n",
      "ribeirao pires\n",
      "ribeirao preto\n",
      "ribeirao preto / sao paulo\n",
      "ribeirao pretp\n",
      "riberao preto\n",
      "rio bonito\n",
      "rio branco\n",
      "rio claro\n",
      "rio das pedras\n",
      "rio de janeiro\n",
      "rio de janeiro / rio de janeiro\n",
      "rio de janeiro \\rio de janeiro\n",
      "rio de janeiro, rio de janeiro, brasil\n",
      "rio do oeste\n",
      "rio do sul\n",
      "rio grande\n",
      "rio negrinho\n",
      "rio verde\n",
      "robeirao preto\n",
      "rodeio\n",
      "rolandia\n",
      "rolante\n",
      "ronda alta\n",
      "s jose do rio preto\n",
      "sabara\n",
      "salto\n",
      "salvador\n",
      "sando andre\n",
      "santa barbara d oeste\n",
      "santa barbara d'oeste\n",
      "santa barbara d´oeste\n",
      "santa catarina\n",
      "santa cecilia\n",
      "santa cruz do sul\n",
      "santa maria\n",
      "santa maria da serra\n",
      "santa rita do sapucai\n",
      "santa rosa\n",
      "santa rosa de viterbo\n",
      "santa terezinha de goias\n",
      "santa terezinha de itaipu\n",
      "santana de parnaiba\n",
      "santo andre\n",
      "santo andre/sao paulo\n",
      "santo angelo\n",
      "santo antonio da patrulha\n",
      "santo antonio de padua\n",
      "santo antonio de posse\n",
      "santos\n",
      "sao  jose dos pinhais\n",
      "sao  paulo\n",
      "sao bento\n",
      "sao bento do sul\n",
      "sao bernardo do campo\n",
      "sao bernardo do capo\n",
      "sao caetano do sul\n",
      "sao carlos\n",
      "sao francisco do sul\n",
      "sao goncalo\n",
      "sao joao da boa vista\n",
      "sao joao de meriti\n",
      "sao joao del rei\n",
      "sao joaquim da barra\n",
      "sao jose\n",
      "sao jose do rio pardo\n",
      "sao jose do rio pret\n",
      "sao jose do rio preto\n",
      "sao jose dos campos\n",
      "sao jose dos pinhais\n",
      "sao jose dos pinhas\n",
      "sao leopoldo\n",
      "sao ludgero\n",
      "sao luis\n",
      "sao miguel d'oeste\n",
      "sao miguel do oeste\n",
      "sao paluo\n",
      "sao paulo\n",
      "sao paulo - sp\n",
      "sao paulo / sao paulo\n",
      "sao paulo sp\n",
      "sao paulop\n",
      "sao pauo\n",
      "sao pedro\n",
      "sao pedro da aldeia\n",
      "sao roque\n",
      "sao sebastiao\n",
      "sao sebastiao da grama/sp\n",
      "sao vicente\n",
      "sapiranga\n",
      "saquarema\n",
      "sarandi\n",
      "são paulo\n",
      "sbc\n",
      "sbc/sp\n",
      "scao jose do rio pardo\n",
      "serra\n",
      "serra negra\n",
      "serra redonda\n",
      "serrana\n",
      "sertanopolis\n",
      "sete lagoas\n",
      "sinop\n",
      "socorro\n",
      "soledade\n",
      "sombrio\n",
      "sorocaba\n",
      "sp\n",
      "sp / sp\n",
      "sumare\n",
      "suzano\n",
      "tabao da serra\n",
      "tabatinga\n",
      "taboao da serra\n",
      "taio\n",
      "tambau\n",
      "tanabi\n",
      "taruma\n",
      "tatui\n",
      "taubate\n",
      "teixeira soares\n",
      "teresina\n",
      "teresopolis\n",
      "terra boa\n",
      "tiete\n",
      "timbo\n",
      "timoteo\n",
      "tiradentes\n",
      "tocantins\n",
      "toledo\n",
      "torres\n",
      "tres coracoes\n",
      "tres coroas\n",
      "tres de maio\n",
      "tres rios\n",
      "treze tilias\n",
      "triunfo\n",
      "tubarao\n",
      "tupa\n",
      "uba\n",
      "ubatuba\n",
      "uberaba\n",
      "uberlandia\n",
      "umuarama\n",
      "uniao da vitoria\n",
      "uruacu\n",
      "uruguaiana\n",
      "valinhos\n",
      "vargem grande do sul\n",
      "vargem grande paulista\n",
      "varginha\n",
      "varzea alegre\n",
      "varzea paulista\n",
      "vassouras\n",
      "venancio aires\n",
      "vendas@creditparts.com.br\n",
      "vera cruz\n",
      "vespasiano\n",
      "viamao\n",
      "viana\n",
      "vicente de carvalho\n",
      "vicosa\n",
      "videira\n",
      "vila velha\n",
      "vitoria\n",
      "vitoria de santo antao\n",
      "volta redonda\n",
      "votorantim\n",
      "votuporanga\n",
      "xanxere\n",
      "xaxim\n"
     ]
    }
   ],
   "source": [
    "unique_cities = df_sellers['seller_city'].unique()\n",
    "sorted_cities = sorted(unique_cities)\n",
    "for city in sorted_cities:\n",
    "    print(city)"
   ]
  },
  {
   "cell_type": "code",
   "execution_count": 19,
   "id": "803b0c25",
   "metadata": {},
   "outputs": [
    {
     "name": "stdout",
     "output_type": "stream",
     "text": [
      "s jose do rio preto\n",
      "sabara\n",
      "salto\n",
      "salvador\n",
      "sando andre\n",
      "santa barbara d oeste\n",
      "santa barbara d'oeste\n",
      "santa barbara d´oeste\n",
      "santa catarina\n",
      "santa cecilia\n",
      "santa cruz do sul\n",
      "santa maria\n",
      "santa maria da serra\n",
      "santa rita do sapucai\n",
      "santa rosa\n",
      "santa rosa de viterbo\n",
      "santa terezinha de goias\n",
      "santa terezinha de itaipu\n",
      "santana de parnaiba\n",
      "santo andre\n",
      "santo andre/sao paulo\n",
      "santo angelo\n",
      "santo antonio da patrulha\n",
      "santo antonio de padua\n",
      "santo antonio de posse\n",
      "santos\n",
      "sao  jose dos pinhais\n",
      "sao  paulo\n",
      "sao bento\n",
      "sao bento do sul\n",
      "sao bernardo do campo\n",
      "sao bernardo do capo\n",
      "sao caetano do sul\n",
      "sao carlos\n",
      "sao francisco do sul\n",
      "sao goncalo\n",
      "sao joao da boa vista\n",
      "sao joao de meriti\n",
      "sao joao del rei\n",
      "sao joaquim da barra\n",
      "sao jose\n",
      "sao jose do rio pardo\n",
      "sao jose do rio pret\n",
      "sao jose do rio preto\n",
      "sao jose dos campos\n",
      "sao jose dos pinhais\n",
      "sao jose dos pinhas\n",
      "sao leopoldo\n",
      "sao ludgero\n",
      "sao luis\n",
      "sao miguel d'oeste\n",
      "sao miguel do oeste\n",
      "sao paluo\n",
      "sao paulo\n",
      "sao paulo - sp\n",
      "sao paulo / sao paulo\n",
      "sao paulo sp\n",
      "sao paulop\n",
      "sao pauo\n",
      "sao pedro\n",
      "sao pedro da aldeia\n",
      "sao roque\n",
      "sao sebastiao\n",
      "sao sebastiao da grama/sp\n",
      "sao vicente\n",
      "sapiranga\n",
      "saquarema\n",
      "sarandi\n",
      "são paulo\n",
      "sbc\n",
      "sbc/sp\n",
      "scao jose do rio pardo\n",
      "serra\n",
      "serra negra\n",
      "serra redonda\n",
      "serrana\n",
      "sertanopolis\n",
      "sete lagoas\n",
      "sinop\n",
      "socorro\n",
      "soledade\n",
      "sombrio\n",
      "sorocaba\n",
      "sp\n",
      "sp / sp\n",
      "sumare\n",
      "suzano\n"
     ]
    }
   ],
   "source": [
    "# Filter cities that start with 's'\n",
    "s_cities = [city for city in df_sellers['seller_city'].unique() if isinstance(city, str) and city.lower().startswith('s')]\n",
    "s_cities.sort()\n",
    "\n",
    "# Print the cities\n",
    "for city in s_cities:\n",
    "    print(city)"
   ]
  },
  {
   "cell_type": "markdown",
   "id": "4a6edcbe",
   "metadata": {},
   "source": [
    "## Data Cleaning"
   ]
  },
  {
   "cell_type": "markdown",
   "id": "1628b09b",
   "metadata": {},
   "source": [
    "### Clean seller city names"
   ]
  },
  {
   "cell_type": "code",
   "execution_count": 29,
   "id": "cca6adcc",
   "metadata": {},
   "outputs": [],
   "source": [
    "# Normalise all city names to lowercase and strip spaces:\n",
    "df_sellers['seller_city'] = df_sellers['seller_city'].str.lower().str.strip()\n",
    "\n",
    "# Define manual fixes:\n",
    "manual_city_fixes = {\n",
    "    'sao paulo sp': 'sao paulo',\n",
    "    'sao paulo - sp': 'sao paulo',\n",
    "    'são paulo': 'sao paulo',\n",
    "    'sao paulo / sao paulo': 'sao paulo',\n",
    "    'sp': 'sao paulo',\n",
    "    'sp / sp': 'sao paulo',\n",
    "    'sao  paulo': 'sao paulo',\n",
    "    'sao pauo': 'sao paulo',\n",
    "    'sao paulop': 'sao paulo',\n",
    "    'sao paluo': 'sao paulo',\n",
    "\n",
    "    'mogi das cruzes / sp': 'mogi das cruzes',\n",
    "    'ribeirao preto / sao paulo': 'ribeirao preto',\n",
    "    'jacarei / sao paulo': 'jacarei',\n",
    "    'carapicuiba / sao paulo': 'carapicuiba',\n",
    "    'cariacica / es': 'cariacica',\n",
    "    'barbacena/ minas gerais': 'barbacena',\n",
    "    'auriflama/sp': 'auriflama',\n",
    "    'santo andre/sao paulo': 'santo andre',\n",
    "    'maua/sao paulo': 'maua',\n",
    "    'sao sebastiao da grama/sp': 'sao sebastiao da grama',\n",
    "    'balenario camboriu': 'balneario camboriu',\n",
    "    'belo horizont': 'belo horizonte',\n",
    "    'angra dos reis rj': 'angra dos reis',\n",
    "    'arraial d\\'ajuda (porto seguro)': 'arraial d\\'ajuda',\n",
    "    'brasilia df': 'brasilia',\n",
    "    'lages - sc': 'lages',\n",
    "    'pinhais/pr': 'pinhais',\n",
    "    'novo hamburgo, rio grande do sul, brasil': 'novo hamburgo',\n",
    "    'rio de janeiro / rio de janeiro': 'rio de janeiro',\n",
    "    'rio de janeiro \\\\rio de janeiro': 'rio de janeiro',\n",
    "    'rio de janeiro, rio de janeiro, brasil': 'rio de janeiro',\n",
    "    'robeirao preto': 'ribeirao preto',\n",
    "    'riberao preto': 'ribeirao preto',\n",
    "    'ribeirao pretp': 'ribeirao preto',\n",
    "    'garulhos': 'guarulhos',\n",
    "    'ferraz de  vasconcelos': 'ferraz de vasconcelos',\n",
    "    'sando andre': 'santo andre',\n",
    "    'scao jose do rio pardo': 'sao jose do rio pardo',\n",
    "    'ao bernardo do campo': 'sao bernardo do campo',\n",
    "    'paincandu': 'paicandu',\n",
    "    'andira-pr': 'andira',\n",
    "    'angra dos reis rj': 'angra dos reis',\n",
    "    'floranopolis': 'florianopolis',\n",
    "    's jose do rio preto': 'sao jose do rio preto',\n",
    "    'santa barbara d oeste': 'santa barbara d\\'oeste',\n",
    "    'santa barbara d´oeste': 'santa barbara d\\'oeste',\n",
    "    'sbc': 'sao bernardo do campo',\n",
    "    'sbc/sp': 'sao bernardo do campo',\n",
    "    'tabao da serra': 'taboao da serra',\n",
    "\n",
    "    # To be dropped:\n",
    "    '04482255': None,\n",
    "    'vendas@creditparts.com.br': None,\n",
    "    'bahia': None,\n",
    "    'centro': None,\n",
    "    'minas gerais': None\n",
    "}\n",
    "\n",
    "# Apply manual corrections:\n",
    "df_sellers['seller_city_cleaned'] = df_sellers['seller_city'].replace(manual_city_fixes)"
   ]
  },
  {
   "cell_type": "code",
   "execution_count": 30,
   "id": "a41cd5ce",
   "metadata": {},
   "outputs": [
    {
     "data": {
      "text/html": [
       "<div>\n",
       "<style scoped>\n",
       "    .dataframe tbody tr th:only-of-type {\n",
       "        vertical-align: middle;\n",
       "    }\n",
       "\n",
       "    .dataframe tbody tr th {\n",
       "        vertical-align: top;\n",
       "    }\n",
       "\n",
       "    .dataframe thead th {\n",
       "        text-align: right;\n",
       "    }\n",
       "</style>\n",
       "<table border=\"1\" class=\"dataframe\">\n",
       "  <thead>\n",
       "    <tr style=\"text-align: right;\">\n",
       "      <th></th>\n",
       "      <th>seller_id</th>\n",
       "      <th>seller_zip_code_prefix</th>\n",
       "      <th>seller_city</th>\n",
       "      <th>seller_state</th>\n",
       "      <th>seller_city_cleaned</th>\n",
       "    </tr>\n",
       "  </thead>\n",
       "  <tbody>\n",
       "    <tr>\n",
       "      <th>405</th>\n",
       "      <td>4221a7df464f1fe2955934e30ff3a5a1</td>\n",
       "      <td>48602</td>\n",
       "      <td>bahia</td>\n",
       "      <td>BA</td>\n",
       "      <td>None</td>\n",
       "    </tr>\n",
       "    <tr>\n",
       "      <th>517</th>\n",
       "      <td>ceb7b4fb9401cd378de7886317ad1b47</td>\n",
       "      <td>22790</td>\n",
       "      <td>04482255</td>\n",
       "      <td>RJ</td>\n",
       "      <td>None</td>\n",
       "    </tr>\n",
       "    <tr>\n",
       "      <th>2183</th>\n",
       "      <td>d5c530f4884a75ae0dba9c148718d278</td>\n",
       "      <td>35660</td>\n",
       "      <td>centro</td>\n",
       "      <td>MG</td>\n",
       "      <td>None</td>\n",
       "    </tr>\n",
       "    <tr>\n",
       "      <th>2258</th>\n",
       "      <td>4b5f66b7adcf57f1ecc0d3c07dd6b177</td>\n",
       "      <td>87025</td>\n",
       "      <td>vendas@creditparts.com.br</td>\n",
       "      <td>PR</td>\n",
       "      <td>None</td>\n",
       "    </tr>\n",
       "    <tr>\n",
       "      <th>2380</th>\n",
       "      <td>1703bc09972dab9782e7a9194943b69f</td>\n",
       "      <td>37165</td>\n",
       "      <td>minas gerais</td>\n",
       "      <td>MG</td>\n",
       "      <td>None</td>\n",
       "    </tr>\n",
       "  </tbody>\n",
       "</table>\n",
       "</div>"
      ],
      "text/plain": [
       "                             seller_id  seller_zip_code_prefix  \\\n",
       "405   4221a7df464f1fe2955934e30ff3a5a1                   48602   \n",
       "517   ceb7b4fb9401cd378de7886317ad1b47                   22790   \n",
       "2183  d5c530f4884a75ae0dba9c148718d278                   35660   \n",
       "2258  4b5f66b7adcf57f1ecc0d3c07dd6b177                   87025   \n",
       "2380  1703bc09972dab9782e7a9194943b69f                   37165   \n",
       "\n",
       "                    seller_city seller_state seller_city_cleaned  \n",
       "405                       bahia           BA                None  \n",
       "517                    04482255           RJ                None  \n",
       "2183                     centro           MG                None  \n",
       "2258  vendas@creditparts.com.br           PR                None  \n",
       "2380               minas gerais           MG                None  "
      ]
     },
     "execution_count": 30,
     "metadata": {},
     "output_type": "execute_result"
    }
   ],
   "source": [
    "# Show seller city rows that couldn't be cleaned (still NaN):\n",
    "df_sellers[df_sellers['seller_city_cleaned'].isna()]"
   ]
  },
  {
   "cell_type": "markdown",
   "id": "1f0acf7d",
   "metadata": {},
   "source": [
    "- Bahia is a state, not a city.\n",
    "- 04482255 is an invalid entry.\n",
    "- Centro is a neighbourhood, ambiguous.\n",
    "- vendas@creditparts.com.br is clearly invalid.\n",
    "- Minas Gerais is a state, not specific enough."
   ]
  },
  {
   "cell_type": "code",
   "execution_count": 33,
   "id": "003eadcf",
   "metadata": {},
   "outputs": [
    {
     "data": {
      "text/html": [
       "<div>\n",
       "<style scoped>\n",
       "    .dataframe tbody tr th:only-of-type {\n",
       "        vertical-align: middle;\n",
       "    }\n",
       "\n",
       "    .dataframe tbody tr th {\n",
       "        vertical-align: top;\n",
       "    }\n",
       "\n",
       "    .dataframe thead th {\n",
       "        text-align: right;\n",
       "    }\n",
       "</style>\n",
       "<table border=\"1\" class=\"dataframe\">\n",
       "  <thead>\n",
       "    <tr style=\"text-align: right;\">\n",
       "      <th></th>\n",
       "      <th>geolocation_zip_code_prefix</th>\n",
       "      <th>geolocation_lat</th>\n",
       "      <th>geolocation_lng</th>\n",
       "      <th>geolocation_city</th>\n",
       "      <th>geolocation_state</th>\n",
       "    </tr>\n",
       "  </thead>\n",
       "  <tbody>\n",
       "    <tr>\n",
       "      <th>702411</th>\n",
       "      <td>48602</td>\n",
       "      <td>-9.402775</td>\n",
       "      <td>-38.219764</td>\n",
       "      <td>paulo afonso</td>\n",
       "      <td>BA</td>\n",
       "    </tr>\n",
       "    <tr>\n",
       "      <th>454148</th>\n",
       "      <td>22790</td>\n",
       "      <td>-23.011335</td>\n",
       "      <td>-43.450256</td>\n",
       "      <td>rio de janeiro</td>\n",
       "      <td>RJ</td>\n",
       "    </tr>\n",
       "    <tr>\n",
       "      <th>598304</th>\n",
       "      <td>35660</td>\n",
       "      <td>-19.847170</td>\n",
       "      <td>-44.601957</td>\n",
       "      <td>para de minas</td>\n",
       "      <td>MG</td>\n",
       "    </tr>\n",
       "    <tr>\n",
       "      <th>892109</th>\n",
       "      <td>87025</td>\n",
       "      <td>-23.377397</td>\n",
       "      <td>-51.931006</td>\n",
       "      <td>maringa</td>\n",
       "      <td>PR</td>\n",
       "    </tr>\n",
       "    <tr>\n",
       "      <th>624315</th>\n",
       "      <td>37165</td>\n",
       "      <td>-21.112446</td>\n",
       "      <td>-45.832343</td>\n",
       "      <td>campo do meio</td>\n",
       "      <td>MG</td>\n",
       "    </tr>\n",
       "  </tbody>\n",
       "</table>\n",
       "</div>"
      ],
      "text/plain": [
       "        geolocation_zip_code_prefix  geolocation_lat  geolocation_lng  \\\n",
       "702411                        48602        -9.402775       -38.219764   \n",
       "454148                        22790       -23.011335       -43.450256   \n",
       "598304                        35660       -19.847170       -44.601957   \n",
       "892109                        87025       -23.377397       -51.931006   \n",
       "624315                        37165       -21.112446       -45.832343   \n",
       "\n",
       "       geolocation_city geolocation_state  \n",
       "702411     paulo afonso                BA  \n",
       "454148   rio de janeiro                RJ  \n",
       "598304    para de minas                MG  \n",
       "892109          maringa                PR  \n",
       "624315    campo do meio                MG  "
      ]
     },
     "execution_count": 33,
     "metadata": {},
     "output_type": "execute_result"
    }
   ],
   "source": [
    "# Show one example row for each of the zip codes in question\n",
    "unique_zip_codes = [48602, 22790, 35660, 87025, 37165]\n",
    "result_df = pd.DataFrame()\n",
    "\n",
    "for zip_code in unique_zip_codes:\n",
    "    # Get the first row for each zip code\n",
    "    sample_row = df_geolocation_clean[df_geolocation_clean['geolocation_zip_code_prefix'] == zip_code].head(1)\n",
    "    result_df = pd.concat([result_df, sample_row])\n",
    "\n",
    "result_df"
   ]
  },
  {
   "cell_type": "markdown",
   "id": "8fec72d5",
   "metadata": {},
   "source": [
    "The zip_code_prefix of these invalid entries have valid entries in the `geolocation` dataset. So, we will replace those invalid entries from sellers with the valid info from geolocation instead."
   ]
  },
  {
   "cell_type": "code",
   "execution_count": 34,
   "id": "7ddf9d00",
   "metadata": {},
   "outputs": [],
   "source": [
    "# Fix the missing city names by looking up in geolocation data\n",
    "# For the remaining NaN values in seller_city_cleaned, look up the city name based on zip code\n",
    "for index, row in df_sellers[df_sellers['seller_city_cleaned'].isna()].iterrows():\n",
    "    # Get the zip code prefix\n",
    "    zip_code_prefix = row['seller_zip_code_prefix']\n",
    "    \n",
    "    # Look up the corresponding city in the geolocation dataset\n",
    "    matching_city = df_geolocation_clean[df_geolocation_clean['geolocation_zip_code_prefix'] == zip_code_prefix]\n",
    "    \n",
    "    if not matching_city.empty:\n",
    "        # Use the most common city for this zip code\n",
    "        city_counts = matching_city['geolocation_city'].value_counts()\n",
    "        most_common_city = city_counts.index[0]\n",
    "        \n",
    "        # Update the seller_city_cleaned value\n",
    "        df_sellers.at[index, 'seller_city_cleaned'] = most_common_city"
   ]
  },
  {
   "cell_type": "code",
   "execution_count": 38,
   "id": "83d4cb97",
   "metadata": {},
   "outputs": [
    {
     "data": {
      "text/html": [
       "<div>\n",
       "<style scoped>\n",
       "    .dataframe tbody tr th:only-of-type {\n",
       "        vertical-align: middle;\n",
       "    }\n",
       "\n",
       "    .dataframe tbody tr th {\n",
       "        vertical-align: top;\n",
       "    }\n",
       "\n",
       "    .dataframe thead th {\n",
       "        text-align: right;\n",
       "    }\n",
       "</style>\n",
       "<table border=\"1\" class=\"dataframe\">\n",
       "  <thead>\n",
       "    <tr style=\"text-align: right;\">\n",
       "      <th></th>\n",
       "      <th>seller_id</th>\n",
       "      <th>seller_zip_code_prefix</th>\n",
       "      <th>seller_city</th>\n",
       "      <th>seller_state</th>\n",
       "      <th>seller_city_cleaned</th>\n",
       "    </tr>\n",
       "  </thead>\n",
       "  <tbody>\n",
       "    <tr>\n",
       "      <th>405</th>\n",
       "      <td>4221a7df464f1fe2955934e30ff3a5a1</td>\n",
       "      <td>48602</td>\n",
       "      <td>bahia</td>\n",
       "      <td>BA</td>\n",
       "      <td>paulo afonso</td>\n",
       "    </tr>\n",
       "    <tr>\n",
       "      <th>517</th>\n",
       "      <td>ceb7b4fb9401cd378de7886317ad1b47</td>\n",
       "      <td>22790</td>\n",
       "      <td>04482255</td>\n",
       "      <td>RJ</td>\n",
       "      <td>rio de janeiro</td>\n",
       "    </tr>\n",
       "    <tr>\n",
       "      <th>2183</th>\n",
       "      <td>d5c530f4884a75ae0dba9c148718d278</td>\n",
       "      <td>35660</td>\n",
       "      <td>centro</td>\n",
       "      <td>MG</td>\n",
       "      <td>para de minas</td>\n",
       "    </tr>\n",
       "    <tr>\n",
       "      <th>2258</th>\n",
       "      <td>4b5f66b7adcf57f1ecc0d3c07dd6b177</td>\n",
       "      <td>87025</td>\n",
       "      <td>vendas@creditparts.com.br</td>\n",
       "      <td>PR</td>\n",
       "      <td>maringa</td>\n",
       "    </tr>\n",
       "    <tr>\n",
       "      <th>2380</th>\n",
       "      <td>1703bc09972dab9782e7a9194943b69f</td>\n",
       "      <td>37165</td>\n",
       "      <td>minas gerais</td>\n",
       "      <td>MG</td>\n",
       "      <td>campo do meio</td>\n",
       "    </tr>\n",
       "  </tbody>\n",
       "</table>\n",
       "</div>"
      ],
      "text/plain": [
       "                             seller_id  seller_zip_code_prefix  \\\n",
       "405   4221a7df464f1fe2955934e30ff3a5a1                   48602   \n",
       "517   ceb7b4fb9401cd378de7886317ad1b47                   22790   \n",
       "2183  d5c530f4884a75ae0dba9c148718d278                   35660   \n",
       "2258  4b5f66b7adcf57f1ecc0d3c07dd6b177                   87025   \n",
       "2380  1703bc09972dab9782e7a9194943b69f                   37165   \n",
       "\n",
       "                    seller_city seller_state seller_city_cleaned  \n",
       "405                       bahia           BA        paulo afonso  \n",
       "517                    04482255           RJ      rio de janeiro  \n",
       "2183                     centro           MG       para de minas  \n",
       "2258  vendas@creditparts.com.br           PR             maringa  \n",
       "2380               minas gerais           MG       campo do meio  "
      ]
     },
     "execution_count": 38,
     "metadata": {},
     "output_type": "execute_result"
    }
   ],
   "source": [
    "df_sellers.iloc[[405, 517, 2183, 2258, 2380]]"
   ]
  },
  {
   "cell_type": "markdown",
   "id": "91d9e1c5",
   "metadata": {},
   "source": [
    "Now, we can safely replace `seller_city` values with the cleaned version"
   ]
  },
  {
   "cell_type": "code",
   "execution_count": 39,
   "id": "7ad2401e",
   "metadata": {},
   "outputs": [
    {
     "data": {
      "text/html": [
       "<div>\n",
       "<style scoped>\n",
       "    .dataframe tbody tr th:only-of-type {\n",
       "        vertical-align: middle;\n",
       "    }\n",
       "\n",
       "    .dataframe tbody tr th {\n",
       "        vertical-align: top;\n",
       "    }\n",
       "\n",
       "    .dataframe thead th {\n",
       "        text-align: right;\n",
       "    }\n",
       "</style>\n",
       "<table border=\"1\" class=\"dataframe\">\n",
       "  <thead>\n",
       "    <tr style=\"text-align: right;\">\n",
       "      <th></th>\n",
       "      <th>seller_id</th>\n",
       "      <th>seller_zip_code_prefix</th>\n",
       "      <th>seller_city</th>\n",
       "      <th>seller_state</th>\n",
       "    </tr>\n",
       "  </thead>\n",
       "  <tbody>\n",
       "    <tr>\n",
       "      <th>0</th>\n",
       "      <td>3442f8959a84dea7ee197c632cb2df15</td>\n",
       "      <td>13023</td>\n",
       "      <td>campinas</td>\n",
       "      <td>SP</td>\n",
       "    </tr>\n",
       "    <tr>\n",
       "      <th>1</th>\n",
       "      <td>d1b65fc7debc3361ea86b5f14c68d2e2</td>\n",
       "      <td>13844</td>\n",
       "      <td>mogi guacu</td>\n",
       "      <td>SP</td>\n",
       "    </tr>\n",
       "    <tr>\n",
       "      <th>2</th>\n",
       "      <td>ce3ad9de960102d0677a81f5d0bb7b2d</td>\n",
       "      <td>20031</td>\n",
       "      <td>rio de janeiro</td>\n",
       "      <td>RJ</td>\n",
       "    </tr>\n",
       "    <tr>\n",
       "      <th>3</th>\n",
       "      <td>c0f3eea2e14555b6faeea3dd58c1b1c3</td>\n",
       "      <td>4195</td>\n",
       "      <td>sao paulo</td>\n",
       "      <td>SP</td>\n",
       "    </tr>\n",
       "    <tr>\n",
       "      <th>4</th>\n",
       "      <td>51a04a8a6bdcb23deccc82b0b80742cf</td>\n",
       "      <td>12914</td>\n",
       "      <td>braganca paulista</td>\n",
       "      <td>SP</td>\n",
       "    </tr>\n",
       "  </tbody>\n",
       "</table>\n",
       "</div>"
      ],
      "text/plain": [
       "                          seller_id  seller_zip_code_prefix  \\\n",
       "0  3442f8959a84dea7ee197c632cb2df15                   13023   \n",
       "1  d1b65fc7debc3361ea86b5f14c68d2e2                   13844   \n",
       "2  ce3ad9de960102d0677a81f5d0bb7b2d                   20031   \n",
       "3  c0f3eea2e14555b6faeea3dd58c1b1c3                    4195   \n",
       "4  51a04a8a6bdcb23deccc82b0b80742cf                   12914   \n",
       "\n",
       "         seller_city seller_state  \n",
       "0           campinas           SP  \n",
       "1         mogi guacu           SP  \n",
       "2     rio de janeiro           RJ  \n",
       "3          sao paulo           SP  \n",
       "4  braganca paulista           SP  "
      ]
     },
     "execution_count": 39,
     "metadata": {},
     "output_type": "execute_result"
    }
   ],
   "source": [
    "# Now replace the seller_city column with our cleaned version\n",
    "df_sellers['seller_city'] = df_sellers['seller_city_cleaned']\n",
    "\n",
    "# Drop the seller_city_cleaned column as it's now redundant\n",
    "df_sellers = df_sellers.drop(columns=['seller_city_cleaned'])\n",
    "\n",
    "# Show the first few rows to confirm the changes\n",
    "df_sellers.head()"
   ]
  },
  {
   "cell_type": "code",
   "execution_count": 44,
   "id": "0ca38e00",
   "metadata": {},
   "outputs": [],
   "source": [
    "df_sellers.to_csv('../data/cleaned_data/olist_sellers_dataset_cleaned.csv', index=False)"
   ]
  },
  {
   "cell_type": "markdown",
   "id": "d711bd8c",
   "metadata": {},
   "source": [
    "## Univariate Analysis"
   ]
  },
  {
   "cell_type": "code",
   "execution_count": 45,
   "id": "e738fe4e",
   "metadata": {},
   "outputs": [
    {
     "data": {
      "application/vnd.plotly.v1+json": {
       "config": {
        "plotlyServerURL": "https://plot.ly"
       },
       "data": [
        {
         "alignmentgroup": "True",
         "hovertemplate": "seller_state=%{x}<br>Number of Sellers=%{y}<extra></extra>",
         "legendgroup": "",
         "marker": {
          "color": "#636efa",
          "pattern": {
           "shape": ""
          }
         },
         "name": "",
         "offsetgroup": "",
         "orientation": "v",
         "showlegend": false,
         "textposition": "auto",
         "type": "bar",
         "x": [
          "SP",
          "PR",
          "MG",
          "SC",
          "RJ",
          "RS",
          "GO",
          "DF",
          "ES",
          "BA",
          "CE",
          "PE",
          "PB",
          "RN",
          "MS",
          "MT",
          "RO",
          "SE",
          "PI",
          "AC",
          "MA",
          "AM",
          "PA"
         ],
         "xaxis": "x",
         "y": [
          1849,
          349,
          244,
          190,
          171,
          129,
          40,
          30,
          23,
          19,
          13,
          9,
          6,
          5,
          5,
          4,
          2,
          2,
          1,
          1,
          1,
          1,
          1
         ],
         "yaxis": "y"
        }
       ],
       "layout": {
        "barmode": "relative",
        "legend": {
         "tracegroupgap": 0
        },
        "template": {
         "data": {
          "bar": [
           {
            "error_x": {
             "color": "#2a3f5f"
            },
            "error_y": {
             "color": "#2a3f5f"
            },
            "marker": {
             "line": {
              "color": "#E5ECF6",
              "width": 0.5
             },
             "pattern": {
              "fillmode": "overlay",
              "size": 10,
              "solidity": 0.2
             }
            },
            "type": "bar"
           }
          ],
          "barpolar": [
           {
            "marker": {
             "line": {
              "color": "#E5ECF6",
              "width": 0.5
             },
             "pattern": {
              "fillmode": "overlay",
              "size": 10,
              "solidity": 0.2
             }
            },
            "type": "barpolar"
           }
          ],
          "carpet": [
           {
            "aaxis": {
             "endlinecolor": "#2a3f5f",
             "gridcolor": "white",
             "linecolor": "white",
             "minorgridcolor": "white",
             "startlinecolor": "#2a3f5f"
            },
            "baxis": {
             "endlinecolor": "#2a3f5f",
             "gridcolor": "white",
             "linecolor": "white",
             "minorgridcolor": "white",
             "startlinecolor": "#2a3f5f"
            },
            "type": "carpet"
           }
          ],
          "choropleth": [
           {
            "colorbar": {
             "outlinewidth": 0,
             "ticks": ""
            },
            "type": "choropleth"
           }
          ],
          "contour": [
           {
            "colorbar": {
             "outlinewidth": 0,
             "ticks": ""
            },
            "colorscale": [
             [
              0,
              "#0d0887"
             ],
             [
              0.1111111111111111,
              "#46039f"
             ],
             [
              0.2222222222222222,
              "#7201a8"
             ],
             [
              0.3333333333333333,
              "#9c179e"
             ],
             [
              0.4444444444444444,
              "#bd3786"
             ],
             [
              0.5555555555555556,
              "#d8576b"
             ],
             [
              0.6666666666666666,
              "#ed7953"
             ],
             [
              0.7777777777777778,
              "#fb9f3a"
             ],
             [
              0.8888888888888888,
              "#fdca26"
             ],
             [
              1,
              "#f0f921"
             ]
            ],
            "type": "contour"
           }
          ],
          "contourcarpet": [
           {
            "colorbar": {
             "outlinewidth": 0,
             "ticks": ""
            },
            "type": "contourcarpet"
           }
          ],
          "heatmap": [
           {
            "colorbar": {
             "outlinewidth": 0,
             "ticks": ""
            },
            "colorscale": [
             [
              0,
              "#0d0887"
             ],
             [
              0.1111111111111111,
              "#46039f"
             ],
             [
              0.2222222222222222,
              "#7201a8"
             ],
             [
              0.3333333333333333,
              "#9c179e"
             ],
             [
              0.4444444444444444,
              "#bd3786"
             ],
             [
              0.5555555555555556,
              "#d8576b"
             ],
             [
              0.6666666666666666,
              "#ed7953"
             ],
             [
              0.7777777777777778,
              "#fb9f3a"
             ],
             [
              0.8888888888888888,
              "#fdca26"
             ],
             [
              1,
              "#f0f921"
             ]
            ],
            "type": "heatmap"
           }
          ],
          "heatmapgl": [
           {
            "colorbar": {
             "outlinewidth": 0,
             "ticks": ""
            },
            "colorscale": [
             [
              0,
              "#0d0887"
             ],
             [
              0.1111111111111111,
              "#46039f"
             ],
             [
              0.2222222222222222,
              "#7201a8"
             ],
             [
              0.3333333333333333,
              "#9c179e"
             ],
             [
              0.4444444444444444,
              "#bd3786"
             ],
             [
              0.5555555555555556,
              "#d8576b"
             ],
             [
              0.6666666666666666,
              "#ed7953"
             ],
             [
              0.7777777777777778,
              "#fb9f3a"
             ],
             [
              0.8888888888888888,
              "#fdca26"
             ],
             [
              1,
              "#f0f921"
             ]
            ],
            "type": "heatmapgl"
           }
          ],
          "histogram": [
           {
            "marker": {
             "pattern": {
              "fillmode": "overlay",
              "size": 10,
              "solidity": 0.2
             }
            },
            "type": "histogram"
           }
          ],
          "histogram2d": [
           {
            "colorbar": {
             "outlinewidth": 0,
             "ticks": ""
            },
            "colorscale": [
             [
              0,
              "#0d0887"
             ],
             [
              0.1111111111111111,
              "#46039f"
             ],
             [
              0.2222222222222222,
              "#7201a8"
             ],
             [
              0.3333333333333333,
              "#9c179e"
             ],
             [
              0.4444444444444444,
              "#bd3786"
             ],
             [
              0.5555555555555556,
              "#d8576b"
             ],
             [
              0.6666666666666666,
              "#ed7953"
             ],
             [
              0.7777777777777778,
              "#fb9f3a"
             ],
             [
              0.8888888888888888,
              "#fdca26"
             ],
             [
              1,
              "#f0f921"
             ]
            ],
            "type": "histogram2d"
           }
          ],
          "histogram2dcontour": [
           {
            "colorbar": {
             "outlinewidth": 0,
             "ticks": ""
            },
            "colorscale": [
             [
              0,
              "#0d0887"
             ],
             [
              0.1111111111111111,
              "#46039f"
             ],
             [
              0.2222222222222222,
              "#7201a8"
             ],
             [
              0.3333333333333333,
              "#9c179e"
             ],
             [
              0.4444444444444444,
              "#bd3786"
             ],
             [
              0.5555555555555556,
              "#d8576b"
             ],
             [
              0.6666666666666666,
              "#ed7953"
             ],
             [
              0.7777777777777778,
              "#fb9f3a"
             ],
             [
              0.8888888888888888,
              "#fdca26"
             ],
             [
              1,
              "#f0f921"
             ]
            ],
            "type": "histogram2dcontour"
           }
          ],
          "mesh3d": [
           {
            "colorbar": {
             "outlinewidth": 0,
             "ticks": ""
            },
            "type": "mesh3d"
           }
          ],
          "parcoords": [
           {
            "line": {
             "colorbar": {
              "outlinewidth": 0,
              "ticks": ""
             }
            },
            "type": "parcoords"
           }
          ],
          "pie": [
           {
            "automargin": true,
            "type": "pie"
           }
          ],
          "scatter": [
           {
            "fillpattern": {
             "fillmode": "overlay",
             "size": 10,
             "solidity": 0.2
            },
            "type": "scatter"
           }
          ],
          "scatter3d": [
           {
            "line": {
             "colorbar": {
              "outlinewidth": 0,
              "ticks": ""
             }
            },
            "marker": {
             "colorbar": {
              "outlinewidth": 0,
              "ticks": ""
             }
            },
            "type": "scatter3d"
           }
          ],
          "scattercarpet": [
           {
            "marker": {
             "colorbar": {
              "outlinewidth": 0,
              "ticks": ""
             }
            },
            "type": "scattercarpet"
           }
          ],
          "scattergeo": [
           {
            "marker": {
             "colorbar": {
              "outlinewidth": 0,
              "ticks": ""
             }
            },
            "type": "scattergeo"
           }
          ],
          "scattergl": [
           {
            "marker": {
             "colorbar": {
              "outlinewidth": 0,
              "ticks": ""
             }
            },
            "type": "scattergl"
           }
          ],
          "scattermapbox": [
           {
            "marker": {
             "colorbar": {
              "outlinewidth": 0,
              "ticks": ""
             }
            },
            "type": "scattermapbox"
           }
          ],
          "scatterpolar": [
           {
            "marker": {
             "colorbar": {
              "outlinewidth": 0,
              "ticks": ""
             }
            },
            "type": "scatterpolar"
           }
          ],
          "scatterpolargl": [
           {
            "marker": {
             "colorbar": {
              "outlinewidth": 0,
              "ticks": ""
             }
            },
            "type": "scatterpolargl"
           }
          ],
          "scatterternary": [
           {
            "marker": {
             "colorbar": {
              "outlinewidth": 0,
              "ticks": ""
             }
            },
            "type": "scatterternary"
           }
          ],
          "surface": [
           {
            "colorbar": {
             "outlinewidth": 0,
             "ticks": ""
            },
            "colorscale": [
             [
              0,
              "#0d0887"
             ],
             [
              0.1111111111111111,
              "#46039f"
             ],
             [
              0.2222222222222222,
              "#7201a8"
             ],
             [
              0.3333333333333333,
              "#9c179e"
             ],
             [
              0.4444444444444444,
              "#bd3786"
             ],
             [
              0.5555555555555556,
              "#d8576b"
             ],
             [
              0.6666666666666666,
              "#ed7953"
             ],
             [
              0.7777777777777778,
              "#fb9f3a"
             ],
             [
              0.8888888888888888,
              "#fdca26"
             ],
             [
              1,
              "#f0f921"
             ]
            ],
            "type": "surface"
           }
          ],
          "table": [
           {
            "cells": {
             "fill": {
              "color": "#EBF0F8"
             },
             "line": {
              "color": "white"
             }
            },
            "header": {
             "fill": {
              "color": "#C8D4E3"
             },
             "line": {
              "color": "white"
             }
            },
            "type": "table"
           }
          ]
         },
         "layout": {
          "annotationdefaults": {
           "arrowcolor": "#2a3f5f",
           "arrowhead": 0,
           "arrowwidth": 1
          },
          "autotypenumbers": "strict",
          "coloraxis": {
           "colorbar": {
            "outlinewidth": 0,
            "ticks": ""
           }
          },
          "colorscale": {
           "diverging": [
            [
             0,
             "#8e0152"
            ],
            [
             0.1,
             "#c51b7d"
            ],
            [
             0.2,
             "#de77ae"
            ],
            [
             0.3,
             "#f1b6da"
            ],
            [
             0.4,
             "#fde0ef"
            ],
            [
             0.5,
             "#f7f7f7"
            ],
            [
             0.6,
             "#e6f5d0"
            ],
            [
             0.7,
             "#b8e186"
            ],
            [
             0.8,
             "#7fbc41"
            ],
            [
             0.9,
             "#4d9221"
            ],
            [
             1,
             "#276419"
            ]
           ],
           "sequential": [
            [
             0,
             "#0d0887"
            ],
            [
             0.1111111111111111,
             "#46039f"
            ],
            [
             0.2222222222222222,
             "#7201a8"
            ],
            [
             0.3333333333333333,
             "#9c179e"
            ],
            [
             0.4444444444444444,
             "#bd3786"
            ],
            [
             0.5555555555555556,
             "#d8576b"
            ],
            [
             0.6666666666666666,
             "#ed7953"
            ],
            [
             0.7777777777777778,
             "#fb9f3a"
            ],
            [
             0.8888888888888888,
             "#fdca26"
            ],
            [
             1,
             "#f0f921"
            ]
           ],
           "sequentialminus": [
            [
             0,
             "#0d0887"
            ],
            [
             0.1111111111111111,
             "#46039f"
            ],
            [
             0.2222222222222222,
             "#7201a8"
            ],
            [
             0.3333333333333333,
             "#9c179e"
            ],
            [
             0.4444444444444444,
             "#bd3786"
            ],
            [
             0.5555555555555556,
             "#d8576b"
            ],
            [
             0.6666666666666666,
             "#ed7953"
            ],
            [
             0.7777777777777778,
             "#fb9f3a"
            ],
            [
             0.8888888888888888,
             "#fdca26"
            ],
            [
             1,
             "#f0f921"
            ]
           ]
          },
          "colorway": [
           "#636efa",
           "#EF553B",
           "#00cc96",
           "#ab63fa",
           "#FFA15A",
           "#19d3f3",
           "#FF6692",
           "#B6E880",
           "#FF97FF",
           "#FECB52"
          ],
          "font": {
           "color": "#2a3f5f"
          },
          "geo": {
           "bgcolor": "white",
           "lakecolor": "white",
           "landcolor": "#E5ECF6",
           "showlakes": true,
           "showland": true,
           "subunitcolor": "white"
          },
          "hoverlabel": {
           "align": "left"
          },
          "hovermode": "closest",
          "mapbox": {
           "style": "light"
          },
          "paper_bgcolor": "white",
          "plot_bgcolor": "#E5ECF6",
          "polar": {
           "angularaxis": {
            "gridcolor": "white",
            "linecolor": "white",
            "ticks": ""
           },
           "bgcolor": "#E5ECF6",
           "radialaxis": {
            "gridcolor": "white",
            "linecolor": "white",
            "ticks": ""
           }
          },
          "scene": {
           "xaxis": {
            "backgroundcolor": "#E5ECF6",
            "gridcolor": "white",
            "gridwidth": 2,
            "linecolor": "white",
            "showbackground": true,
            "ticks": "",
            "zerolinecolor": "white"
           },
           "yaxis": {
            "backgroundcolor": "#E5ECF6",
            "gridcolor": "white",
            "gridwidth": 2,
            "linecolor": "white",
            "showbackground": true,
            "ticks": "",
            "zerolinecolor": "white"
           },
           "zaxis": {
            "backgroundcolor": "#E5ECF6",
            "gridcolor": "white",
            "gridwidth": 2,
            "linecolor": "white",
            "showbackground": true,
            "ticks": "",
            "zerolinecolor": "white"
           }
          },
          "shapedefaults": {
           "line": {
            "color": "#2a3f5f"
           }
          },
          "ternary": {
           "aaxis": {
            "gridcolor": "white",
            "linecolor": "white",
            "ticks": ""
           },
           "baxis": {
            "gridcolor": "white",
            "linecolor": "white",
            "ticks": ""
           },
           "bgcolor": "#E5ECF6",
           "caxis": {
            "gridcolor": "white",
            "linecolor": "white",
            "ticks": ""
           }
          },
          "title": {
           "x": 0.05
          },
          "xaxis": {
           "automargin": true,
           "gridcolor": "white",
           "linecolor": "white",
           "ticks": "",
           "title": {
            "standoff": 15
           },
           "zerolinecolor": "white",
           "zerolinewidth": 2
          },
          "yaxis": {
           "automargin": true,
           "gridcolor": "white",
           "linecolor": "white",
           "ticks": "",
           "title": {
            "standoff": 15
           },
           "zerolinecolor": "white",
           "zerolinewidth": 2
          }
         }
        },
        "title": {
         "text": "Number of Sellers by State"
        },
        "xaxis": {
         "anchor": "y",
         "domain": [
          0,
          1
         ],
         "title": {
          "text": "seller_state"
         }
        },
        "yaxis": {
         "anchor": "x",
         "domain": [
          0,
          1
         ],
         "title": {
          "text": "Number of Sellers"
         }
        }
       }
      }
     },
     "metadata": {},
     "output_type": "display_data"
    }
   ],
   "source": [
    "# Number of unique seller cities:\n",
    "state_counts = df_sellers['seller_state'].value_counts().reset_index()\n",
    "state_counts.columns = ['seller_state', 'count']\n",
    "\n",
    "fig = px.bar(state_counts, x='seller_state', y='count', \n",
    "             title='Number of Sellers by State', \n",
    "             labels={'count': 'Number of Sellers'})\n",
    "fig.show()"
   ]
  },
  {
   "cell_type": "code",
   "execution_count": 46,
   "id": "8f693ba0",
   "metadata": {},
   "outputs": [
    {
     "data": {
      "application/vnd.plotly.v1+json": {
       "config": {
        "plotlyServerURL": "https://plot.ly"
       },
       "data": [
        {
         "alignmentgroup": "True",
         "hovertemplate": "Number of Sellers=%{x}<br>City=%{y}<extra></extra>",
         "legendgroup": "",
         "marker": {
          "color": "#636efa",
          "pattern": {
           "shape": ""
          }
         },
         "name": "",
         "offsetgroup": "",
         "orientation": "h",
         "showlegend": false,
         "textposition": "auto",
         "type": "bar",
         "x": [
          708,
          127,
          100,
          69,
          56,
          51,
          49,
          47,
          41,
          41
         ],
         "xaxis": "x",
         "y": [
          "sao paulo",
          "curitiba",
          "rio de janeiro",
          "belo horizonte",
          "ribeirao preto",
          "guarulhos",
          "ibitinga",
          "santo andre",
          "maringa",
          "campinas"
         ],
         "yaxis": "y"
        }
       ],
       "layout": {
        "barmode": "relative",
        "legend": {
         "tracegroupgap": 0
        },
        "template": {
         "data": {
          "bar": [
           {
            "error_x": {
             "color": "#2a3f5f"
            },
            "error_y": {
             "color": "#2a3f5f"
            },
            "marker": {
             "line": {
              "color": "#E5ECF6",
              "width": 0.5
             },
             "pattern": {
              "fillmode": "overlay",
              "size": 10,
              "solidity": 0.2
             }
            },
            "type": "bar"
           }
          ],
          "barpolar": [
           {
            "marker": {
             "line": {
              "color": "#E5ECF6",
              "width": 0.5
             },
             "pattern": {
              "fillmode": "overlay",
              "size": 10,
              "solidity": 0.2
             }
            },
            "type": "barpolar"
           }
          ],
          "carpet": [
           {
            "aaxis": {
             "endlinecolor": "#2a3f5f",
             "gridcolor": "white",
             "linecolor": "white",
             "minorgridcolor": "white",
             "startlinecolor": "#2a3f5f"
            },
            "baxis": {
             "endlinecolor": "#2a3f5f",
             "gridcolor": "white",
             "linecolor": "white",
             "minorgridcolor": "white",
             "startlinecolor": "#2a3f5f"
            },
            "type": "carpet"
           }
          ],
          "choropleth": [
           {
            "colorbar": {
             "outlinewidth": 0,
             "ticks": ""
            },
            "type": "choropleth"
           }
          ],
          "contour": [
           {
            "colorbar": {
             "outlinewidth": 0,
             "ticks": ""
            },
            "colorscale": [
             [
              0,
              "#0d0887"
             ],
             [
              0.1111111111111111,
              "#46039f"
             ],
             [
              0.2222222222222222,
              "#7201a8"
             ],
             [
              0.3333333333333333,
              "#9c179e"
             ],
             [
              0.4444444444444444,
              "#bd3786"
             ],
             [
              0.5555555555555556,
              "#d8576b"
             ],
             [
              0.6666666666666666,
              "#ed7953"
             ],
             [
              0.7777777777777778,
              "#fb9f3a"
             ],
             [
              0.8888888888888888,
              "#fdca26"
             ],
             [
              1,
              "#f0f921"
             ]
            ],
            "type": "contour"
           }
          ],
          "contourcarpet": [
           {
            "colorbar": {
             "outlinewidth": 0,
             "ticks": ""
            },
            "type": "contourcarpet"
           }
          ],
          "heatmap": [
           {
            "colorbar": {
             "outlinewidth": 0,
             "ticks": ""
            },
            "colorscale": [
             [
              0,
              "#0d0887"
             ],
             [
              0.1111111111111111,
              "#46039f"
             ],
             [
              0.2222222222222222,
              "#7201a8"
             ],
             [
              0.3333333333333333,
              "#9c179e"
             ],
             [
              0.4444444444444444,
              "#bd3786"
             ],
             [
              0.5555555555555556,
              "#d8576b"
             ],
             [
              0.6666666666666666,
              "#ed7953"
             ],
             [
              0.7777777777777778,
              "#fb9f3a"
             ],
             [
              0.8888888888888888,
              "#fdca26"
             ],
             [
              1,
              "#f0f921"
             ]
            ],
            "type": "heatmap"
           }
          ],
          "heatmapgl": [
           {
            "colorbar": {
             "outlinewidth": 0,
             "ticks": ""
            },
            "colorscale": [
             [
              0,
              "#0d0887"
             ],
             [
              0.1111111111111111,
              "#46039f"
             ],
             [
              0.2222222222222222,
              "#7201a8"
             ],
             [
              0.3333333333333333,
              "#9c179e"
             ],
             [
              0.4444444444444444,
              "#bd3786"
             ],
             [
              0.5555555555555556,
              "#d8576b"
             ],
             [
              0.6666666666666666,
              "#ed7953"
             ],
             [
              0.7777777777777778,
              "#fb9f3a"
             ],
             [
              0.8888888888888888,
              "#fdca26"
             ],
             [
              1,
              "#f0f921"
             ]
            ],
            "type": "heatmapgl"
           }
          ],
          "histogram": [
           {
            "marker": {
             "pattern": {
              "fillmode": "overlay",
              "size": 10,
              "solidity": 0.2
             }
            },
            "type": "histogram"
           }
          ],
          "histogram2d": [
           {
            "colorbar": {
             "outlinewidth": 0,
             "ticks": ""
            },
            "colorscale": [
             [
              0,
              "#0d0887"
             ],
             [
              0.1111111111111111,
              "#46039f"
             ],
             [
              0.2222222222222222,
              "#7201a8"
             ],
             [
              0.3333333333333333,
              "#9c179e"
             ],
             [
              0.4444444444444444,
              "#bd3786"
             ],
             [
              0.5555555555555556,
              "#d8576b"
             ],
             [
              0.6666666666666666,
              "#ed7953"
             ],
             [
              0.7777777777777778,
              "#fb9f3a"
             ],
             [
              0.8888888888888888,
              "#fdca26"
             ],
             [
              1,
              "#f0f921"
             ]
            ],
            "type": "histogram2d"
           }
          ],
          "histogram2dcontour": [
           {
            "colorbar": {
             "outlinewidth": 0,
             "ticks": ""
            },
            "colorscale": [
             [
              0,
              "#0d0887"
             ],
             [
              0.1111111111111111,
              "#46039f"
             ],
             [
              0.2222222222222222,
              "#7201a8"
             ],
             [
              0.3333333333333333,
              "#9c179e"
             ],
             [
              0.4444444444444444,
              "#bd3786"
             ],
             [
              0.5555555555555556,
              "#d8576b"
             ],
             [
              0.6666666666666666,
              "#ed7953"
             ],
             [
              0.7777777777777778,
              "#fb9f3a"
             ],
             [
              0.8888888888888888,
              "#fdca26"
             ],
             [
              1,
              "#f0f921"
             ]
            ],
            "type": "histogram2dcontour"
           }
          ],
          "mesh3d": [
           {
            "colorbar": {
             "outlinewidth": 0,
             "ticks": ""
            },
            "type": "mesh3d"
           }
          ],
          "parcoords": [
           {
            "line": {
             "colorbar": {
              "outlinewidth": 0,
              "ticks": ""
             }
            },
            "type": "parcoords"
           }
          ],
          "pie": [
           {
            "automargin": true,
            "type": "pie"
           }
          ],
          "scatter": [
           {
            "fillpattern": {
             "fillmode": "overlay",
             "size": 10,
             "solidity": 0.2
            },
            "type": "scatter"
           }
          ],
          "scatter3d": [
           {
            "line": {
             "colorbar": {
              "outlinewidth": 0,
              "ticks": ""
             }
            },
            "marker": {
             "colorbar": {
              "outlinewidth": 0,
              "ticks": ""
             }
            },
            "type": "scatter3d"
           }
          ],
          "scattercarpet": [
           {
            "marker": {
             "colorbar": {
              "outlinewidth": 0,
              "ticks": ""
             }
            },
            "type": "scattercarpet"
           }
          ],
          "scattergeo": [
           {
            "marker": {
             "colorbar": {
              "outlinewidth": 0,
              "ticks": ""
             }
            },
            "type": "scattergeo"
           }
          ],
          "scattergl": [
           {
            "marker": {
             "colorbar": {
              "outlinewidth": 0,
              "ticks": ""
             }
            },
            "type": "scattergl"
           }
          ],
          "scattermapbox": [
           {
            "marker": {
             "colorbar": {
              "outlinewidth": 0,
              "ticks": ""
             }
            },
            "type": "scattermapbox"
           }
          ],
          "scatterpolar": [
           {
            "marker": {
             "colorbar": {
              "outlinewidth": 0,
              "ticks": ""
             }
            },
            "type": "scatterpolar"
           }
          ],
          "scatterpolargl": [
           {
            "marker": {
             "colorbar": {
              "outlinewidth": 0,
              "ticks": ""
             }
            },
            "type": "scatterpolargl"
           }
          ],
          "scatterternary": [
           {
            "marker": {
             "colorbar": {
              "outlinewidth": 0,
              "ticks": ""
             }
            },
            "type": "scatterternary"
           }
          ],
          "surface": [
           {
            "colorbar": {
             "outlinewidth": 0,
             "ticks": ""
            },
            "colorscale": [
             [
              0,
              "#0d0887"
             ],
             [
              0.1111111111111111,
              "#46039f"
             ],
             [
              0.2222222222222222,
              "#7201a8"
             ],
             [
              0.3333333333333333,
              "#9c179e"
             ],
             [
              0.4444444444444444,
              "#bd3786"
             ],
             [
              0.5555555555555556,
              "#d8576b"
             ],
             [
              0.6666666666666666,
              "#ed7953"
             ],
             [
              0.7777777777777778,
              "#fb9f3a"
             ],
             [
              0.8888888888888888,
              "#fdca26"
             ],
             [
              1,
              "#f0f921"
             ]
            ],
            "type": "surface"
           }
          ],
          "table": [
           {
            "cells": {
             "fill": {
              "color": "#EBF0F8"
             },
             "line": {
              "color": "white"
             }
            },
            "header": {
             "fill": {
              "color": "#C8D4E3"
             },
             "line": {
              "color": "white"
             }
            },
            "type": "table"
           }
          ]
         },
         "layout": {
          "annotationdefaults": {
           "arrowcolor": "#2a3f5f",
           "arrowhead": 0,
           "arrowwidth": 1
          },
          "autotypenumbers": "strict",
          "coloraxis": {
           "colorbar": {
            "outlinewidth": 0,
            "ticks": ""
           }
          },
          "colorscale": {
           "diverging": [
            [
             0,
             "#8e0152"
            ],
            [
             0.1,
             "#c51b7d"
            ],
            [
             0.2,
             "#de77ae"
            ],
            [
             0.3,
             "#f1b6da"
            ],
            [
             0.4,
             "#fde0ef"
            ],
            [
             0.5,
             "#f7f7f7"
            ],
            [
             0.6,
             "#e6f5d0"
            ],
            [
             0.7,
             "#b8e186"
            ],
            [
             0.8,
             "#7fbc41"
            ],
            [
             0.9,
             "#4d9221"
            ],
            [
             1,
             "#276419"
            ]
           ],
           "sequential": [
            [
             0,
             "#0d0887"
            ],
            [
             0.1111111111111111,
             "#46039f"
            ],
            [
             0.2222222222222222,
             "#7201a8"
            ],
            [
             0.3333333333333333,
             "#9c179e"
            ],
            [
             0.4444444444444444,
             "#bd3786"
            ],
            [
             0.5555555555555556,
             "#d8576b"
            ],
            [
             0.6666666666666666,
             "#ed7953"
            ],
            [
             0.7777777777777778,
             "#fb9f3a"
            ],
            [
             0.8888888888888888,
             "#fdca26"
            ],
            [
             1,
             "#f0f921"
            ]
           ],
           "sequentialminus": [
            [
             0,
             "#0d0887"
            ],
            [
             0.1111111111111111,
             "#46039f"
            ],
            [
             0.2222222222222222,
             "#7201a8"
            ],
            [
             0.3333333333333333,
             "#9c179e"
            ],
            [
             0.4444444444444444,
             "#bd3786"
            ],
            [
             0.5555555555555556,
             "#d8576b"
            ],
            [
             0.6666666666666666,
             "#ed7953"
            ],
            [
             0.7777777777777778,
             "#fb9f3a"
            ],
            [
             0.8888888888888888,
             "#fdca26"
            ],
            [
             1,
             "#f0f921"
            ]
           ]
          },
          "colorway": [
           "#636efa",
           "#EF553B",
           "#00cc96",
           "#ab63fa",
           "#FFA15A",
           "#19d3f3",
           "#FF6692",
           "#B6E880",
           "#FF97FF",
           "#FECB52"
          ],
          "font": {
           "color": "#2a3f5f"
          },
          "geo": {
           "bgcolor": "white",
           "lakecolor": "white",
           "landcolor": "#E5ECF6",
           "showlakes": true,
           "showland": true,
           "subunitcolor": "white"
          },
          "hoverlabel": {
           "align": "left"
          },
          "hovermode": "closest",
          "mapbox": {
           "style": "light"
          },
          "paper_bgcolor": "white",
          "plot_bgcolor": "#E5ECF6",
          "polar": {
           "angularaxis": {
            "gridcolor": "white",
            "linecolor": "white",
            "ticks": ""
           },
           "bgcolor": "#E5ECF6",
           "radialaxis": {
            "gridcolor": "white",
            "linecolor": "white",
            "ticks": ""
           }
          },
          "scene": {
           "xaxis": {
            "backgroundcolor": "#E5ECF6",
            "gridcolor": "white",
            "gridwidth": 2,
            "linecolor": "white",
            "showbackground": true,
            "ticks": "",
            "zerolinecolor": "white"
           },
           "yaxis": {
            "backgroundcolor": "#E5ECF6",
            "gridcolor": "white",
            "gridwidth": 2,
            "linecolor": "white",
            "showbackground": true,
            "ticks": "",
            "zerolinecolor": "white"
           },
           "zaxis": {
            "backgroundcolor": "#E5ECF6",
            "gridcolor": "white",
            "gridwidth": 2,
            "linecolor": "white",
            "showbackground": true,
            "ticks": "",
            "zerolinecolor": "white"
           }
          },
          "shapedefaults": {
           "line": {
            "color": "#2a3f5f"
           }
          },
          "ternary": {
           "aaxis": {
            "gridcolor": "white",
            "linecolor": "white",
            "ticks": ""
           },
           "baxis": {
            "gridcolor": "white",
            "linecolor": "white",
            "ticks": ""
           },
           "bgcolor": "#E5ECF6",
           "caxis": {
            "gridcolor": "white",
            "linecolor": "white",
            "ticks": ""
           }
          },
          "title": {
           "x": 0.05
          },
          "xaxis": {
           "automargin": true,
           "gridcolor": "white",
           "linecolor": "white",
           "ticks": "",
           "title": {
            "standoff": 15
           },
           "zerolinecolor": "white",
           "zerolinewidth": 2
          },
          "yaxis": {
           "automargin": true,
           "gridcolor": "white",
           "linecolor": "white",
           "ticks": "",
           "title": {
            "standoff": 15
           },
           "zerolinecolor": "white",
           "zerolinewidth": 2
          }
         }
        },
        "title": {
         "text": "Top 10 Seller Cities"
        },
        "xaxis": {
         "anchor": "y",
         "domain": [
          0,
          1
         ],
         "title": {
          "text": "Number of Sellers"
         }
        },
        "yaxis": {
         "anchor": "x",
         "categoryorder": "total ascending",
         "domain": [
          0,
          1
         ],
         "title": {
          "text": "City"
         }
        }
       }
      }
     },
     "metadata": {},
     "output_type": "display_data"
    }
   ],
   "source": [
    "# Top 10 seller cities:\n",
    "top_cities = df_sellers['seller_city'].value_counts().nlargest(10).reset_index()\n",
    "top_cities.columns = ['seller_city', 'count']\n",
    "\n",
    "fig = px.bar(top_cities, x='count', y='seller_city', \n",
    "             title='Top 10 Seller Cities', orientation='h',\n",
    "             labels={'count': 'Number of Sellers', 'seller_city': 'City'})\n",
    "fig.update_layout(yaxis={'categoryorder':'total ascending'})\n",
    "fig.show()"
   ]
  },
  {
   "cell_type": "markdown",
   "id": "8cf7598e",
   "metadata": {},
   "source": [
    "## Bivariate Analysis"
   ]
  },
  {
   "cell_type": "code",
   "execution_count": 47,
   "id": "9b550ffe",
   "metadata": {},
   "outputs": [
    {
     "data": {
      "application/vnd.plotly.v1+json": {
       "config": {
        "plotlyServerURL": "https://plot.ly"
       },
       "data": [
        {
         "alignmentgroup": "True",
         "hovertemplate": "seller_state=SP<br>Number of Sellers=%{x}<br>City=%{y}<extra></extra>",
         "legendgroup": "SP",
         "marker": {
          "color": "#636efa",
          "pattern": {
           "shape": ""
          }
         },
         "name": "SP",
         "offsetgroup": "SP",
         "orientation": "h",
         "showlegend": true,
         "textposition": "auto",
         "type": "bar",
         "x": [
          708,
          56,
          51,
          49,
          47,
          41
         ],
         "xaxis": "x",
         "y": [
          "sao paulo",
          "ribeirao preto",
          "guarulhos",
          "ibitinga",
          "santo andre",
          "campinas"
         ],
         "yaxis": "y"
        },
        {
         "alignmentgroup": "True",
         "hovertemplate": "seller_state=PR<br>Number of Sellers=%{x}<br>City=%{y}<extra></extra>",
         "legendgroup": "PR",
         "marker": {
          "color": "#EF553B",
          "pattern": {
           "shape": ""
          }
         },
         "name": "PR",
         "offsetgroup": "PR",
         "orientation": "h",
         "showlegend": true,
         "textposition": "auto",
         "type": "bar",
         "x": [
          124,
          41
         ],
         "xaxis": "x",
         "y": [
          "curitiba",
          "maringa"
         ],
         "yaxis": "y"
        },
        {
         "alignmentgroup": "True",
         "hovertemplate": "seller_state=RJ<br>Number of Sellers=%{x}<br>City=%{y}<extra></extra>",
         "legendgroup": "RJ",
         "marker": {
          "color": "#00cc96",
          "pattern": {
           "shape": ""
          }
         },
         "name": "RJ",
         "offsetgroup": "RJ",
         "orientation": "h",
         "showlegend": true,
         "textposition": "auto",
         "type": "bar",
         "x": [
          97
         ],
         "xaxis": "x",
         "y": [
          "rio de janeiro"
         ],
         "yaxis": "y"
        },
        {
         "alignmentgroup": "True",
         "hovertemplate": "seller_state=MG<br>Number of Sellers=%{x}<br>City=%{y}<extra></extra>",
         "legendgroup": "MG",
         "marker": {
          "color": "#ab63fa",
          "pattern": {
           "shape": ""
          }
         },
         "name": "MG",
         "offsetgroup": "MG",
         "orientation": "h",
         "showlegend": true,
         "textposition": "auto",
         "type": "bar",
         "x": [
          67
         ],
         "xaxis": "x",
         "y": [
          "belo horizonte"
         ],
         "yaxis": "y"
        }
       ],
       "layout": {
        "barmode": "relative",
        "legend": {
         "title": {
          "text": "seller_state"
         },
         "tracegroupgap": 0
        },
        "template": {
         "data": {
          "bar": [
           {
            "error_x": {
             "color": "#2a3f5f"
            },
            "error_y": {
             "color": "#2a3f5f"
            },
            "marker": {
             "line": {
              "color": "#E5ECF6",
              "width": 0.5
             },
             "pattern": {
              "fillmode": "overlay",
              "size": 10,
              "solidity": 0.2
             }
            },
            "type": "bar"
           }
          ],
          "barpolar": [
           {
            "marker": {
             "line": {
              "color": "#E5ECF6",
              "width": 0.5
             },
             "pattern": {
              "fillmode": "overlay",
              "size": 10,
              "solidity": 0.2
             }
            },
            "type": "barpolar"
           }
          ],
          "carpet": [
           {
            "aaxis": {
             "endlinecolor": "#2a3f5f",
             "gridcolor": "white",
             "linecolor": "white",
             "minorgridcolor": "white",
             "startlinecolor": "#2a3f5f"
            },
            "baxis": {
             "endlinecolor": "#2a3f5f",
             "gridcolor": "white",
             "linecolor": "white",
             "minorgridcolor": "white",
             "startlinecolor": "#2a3f5f"
            },
            "type": "carpet"
           }
          ],
          "choropleth": [
           {
            "colorbar": {
             "outlinewidth": 0,
             "ticks": ""
            },
            "type": "choropleth"
           }
          ],
          "contour": [
           {
            "colorbar": {
             "outlinewidth": 0,
             "ticks": ""
            },
            "colorscale": [
             [
              0,
              "#0d0887"
             ],
             [
              0.1111111111111111,
              "#46039f"
             ],
             [
              0.2222222222222222,
              "#7201a8"
             ],
             [
              0.3333333333333333,
              "#9c179e"
             ],
             [
              0.4444444444444444,
              "#bd3786"
             ],
             [
              0.5555555555555556,
              "#d8576b"
             ],
             [
              0.6666666666666666,
              "#ed7953"
             ],
             [
              0.7777777777777778,
              "#fb9f3a"
             ],
             [
              0.8888888888888888,
              "#fdca26"
             ],
             [
              1,
              "#f0f921"
             ]
            ],
            "type": "contour"
           }
          ],
          "contourcarpet": [
           {
            "colorbar": {
             "outlinewidth": 0,
             "ticks": ""
            },
            "type": "contourcarpet"
           }
          ],
          "heatmap": [
           {
            "colorbar": {
             "outlinewidth": 0,
             "ticks": ""
            },
            "colorscale": [
             [
              0,
              "#0d0887"
             ],
             [
              0.1111111111111111,
              "#46039f"
             ],
             [
              0.2222222222222222,
              "#7201a8"
             ],
             [
              0.3333333333333333,
              "#9c179e"
             ],
             [
              0.4444444444444444,
              "#bd3786"
             ],
             [
              0.5555555555555556,
              "#d8576b"
             ],
             [
              0.6666666666666666,
              "#ed7953"
             ],
             [
              0.7777777777777778,
              "#fb9f3a"
             ],
             [
              0.8888888888888888,
              "#fdca26"
             ],
             [
              1,
              "#f0f921"
             ]
            ],
            "type": "heatmap"
           }
          ],
          "heatmapgl": [
           {
            "colorbar": {
             "outlinewidth": 0,
             "ticks": ""
            },
            "colorscale": [
             [
              0,
              "#0d0887"
             ],
             [
              0.1111111111111111,
              "#46039f"
             ],
             [
              0.2222222222222222,
              "#7201a8"
             ],
             [
              0.3333333333333333,
              "#9c179e"
             ],
             [
              0.4444444444444444,
              "#bd3786"
             ],
             [
              0.5555555555555556,
              "#d8576b"
             ],
             [
              0.6666666666666666,
              "#ed7953"
             ],
             [
              0.7777777777777778,
              "#fb9f3a"
             ],
             [
              0.8888888888888888,
              "#fdca26"
             ],
             [
              1,
              "#f0f921"
             ]
            ],
            "type": "heatmapgl"
           }
          ],
          "histogram": [
           {
            "marker": {
             "pattern": {
              "fillmode": "overlay",
              "size": 10,
              "solidity": 0.2
             }
            },
            "type": "histogram"
           }
          ],
          "histogram2d": [
           {
            "colorbar": {
             "outlinewidth": 0,
             "ticks": ""
            },
            "colorscale": [
             [
              0,
              "#0d0887"
             ],
             [
              0.1111111111111111,
              "#46039f"
             ],
             [
              0.2222222222222222,
              "#7201a8"
             ],
             [
              0.3333333333333333,
              "#9c179e"
             ],
             [
              0.4444444444444444,
              "#bd3786"
             ],
             [
              0.5555555555555556,
              "#d8576b"
             ],
             [
              0.6666666666666666,
              "#ed7953"
             ],
             [
              0.7777777777777778,
              "#fb9f3a"
             ],
             [
              0.8888888888888888,
              "#fdca26"
             ],
             [
              1,
              "#f0f921"
             ]
            ],
            "type": "histogram2d"
           }
          ],
          "histogram2dcontour": [
           {
            "colorbar": {
             "outlinewidth": 0,
             "ticks": ""
            },
            "colorscale": [
             [
              0,
              "#0d0887"
             ],
             [
              0.1111111111111111,
              "#46039f"
             ],
             [
              0.2222222222222222,
              "#7201a8"
             ],
             [
              0.3333333333333333,
              "#9c179e"
             ],
             [
              0.4444444444444444,
              "#bd3786"
             ],
             [
              0.5555555555555556,
              "#d8576b"
             ],
             [
              0.6666666666666666,
              "#ed7953"
             ],
             [
              0.7777777777777778,
              "#fb9f3a"
             ],
             [
              0.8888888888888888,
              "#fdca26"
             ],
             [
              1,
              "#f0f921"
             ]
            ],
            "type": "histogram2dcontour"
           }
          ],
          "mesh3d": [
           {
            "colorbar": {
             "outlinewidth": 0,
             "ticks": ""
            },
            "type": "mesh3d"
           }
          ],
          "parcoords": [
           {
            "line": {
             "colorbar": {
              "outlinewidth": 0,
              "ticks": ""
             }
            },
            "type": "parcoords"
           }
          ],
          "pie": [
           {
            "automargin": true,
            "type": "pie"
           }
          ],
          "scatter": [
           {
            "fillpattern": {
             "fillmode": "overlay",
             "size": 10,
             "solidity": 0.2
            },
            "type": "scatter"
           }
          ],
          "scatter3d": [
           {
            "line": {
             "colorbar": {
              "outlinewidth": 0,
              "ticks": ""
             }
            },
            "marker": {
             "colorbar": {
              "outlinewidth": 0,
              "ticks": ""
             }
            },
            "type": "scatter3d"
           }
          ],
          "scattercarpet": [
           {
            "marker": {
             "colorbar": {
              "outlinewidth": 0,
              "ticks": ""
             }
            },
            "type": "scattercarpet"
           }
          ],
          "scattergeo": [
           {
            "marker": {
             "colorbar": {
              "outlinewidth": 0,
              "ticks": ""
             }
            },
            "type": "scattergeo"
           }
          ],
          "scattergl": [
           {
            "marker": {
             "colorbar": {
              "outlinewidth": 0,
              "ticks": ""
             }
            },
            "type": "scattergl"
           }
          ],
          "scattermapbox": [
           {
            "marker": {
             "colorbar": {
              "outlinewidth": 0,
              "ticks": ""
             }
            },
            "type": "scattermapbox"
           }
          ],
          "scatterpolar": [
           {
            "marker": {
             "colorbar": {
              "outlinewidth": 0,
              "ticks": ""
             }
            },
            "type": "scatterpolar"
           }
          ],
          "scatterpolargl": [
           {
            "marker": {
             "colorbar": {
              "outlinewidth": 0,
              "ticks": ""
             }
            },
            "type": "scatterpolargl"
           }
          ],
          "scatterternary": [
           {
            "marker": {
             "colorbar": {
              "outlinewidth": 0,
              "ticks": ""
             }
            },
            "type": "scatterternary"
           }
          ],
          "surface": [
           {
            "colorbar": {
             "outlinewidth": 0,
             "ticks": ""
            },
            "colorscale": [
             [
              0,
              "#0d0887"
             ],
             [
              0.1111111111111111,
              "#46039f"
             ],
             [
              0.2222222222222222,
              "#7201a8"
             ],
             [
              0.3333333333333333,
              "#9c179e"
             ],
             [
              0.4444444444444444,
              "#bd3786"
             ],
             [
              0.5555555555555556,
              "#d8576b"
             ],
             [
              0.6666666666666666,
              "#ed7953"
             ],
             [
              0.7777777777777778,
              "#fb9f3a"
             ],
             [
              0.8888888888888888,
              "#fdca26"
             ],
             [
              1,
              "#f0f921"
             ]
            ],
            "type": "surface"
           }
          ],
          "table": [
           {
            "cells": {
             "fill": {
              "color": "#EBF0F8"
             },
             "line": {
              "color": "white"
             }
            },
            "header": {
             "fill": {
              "color": "#C8D4E3"
             },
             "line": {
              "color": "white"
             }
            },
            "type": "table"
           }
          ]
         },
         "layout": {
          "annotationdefaults": {
           "arrowcolor": "#2a3f5f",
           "arrowhead": 0,
           "arrowwidth": 1
          },
          "autotypenumbers": "strict",
          "coloraxis": {
           "colorbar": {
            "outlinewidth": 0,
            "ticks": ""
           }
          },
          "colorscale": {
           "diverging": [
            [
             0,
             "#8e0152"
            ],
            [
             0.1,
             "#c51b7d"
            ],
            [
             0.2,
             "#de77ae"
            ],
            [
             0.3,
             "#f1b6da"
            ],
            [
             0.4,
             "#fde0ef"
            ],
            [
             0.5,
             "#f7f7f7"
            ],
            [
             0.6,
             "#e6f5d0"
            ],
            [
             0.7,
             "#b8e186"
            ],
            [
             0.8,
             "#7fbc41"
            ],
            [
             0.9,
             "#4d9221"
            ],
            [
             1,
             "#276419"
            ]
           ],
           "sequential": [
            [
             0,
             "#0d0887"
            ],
            [
             0.1111111111111111,
             "#46039f"
            ],
            [
             0.2222222222222222,
             "#7201a8"
            ],
            [
             0.3333333333333333,
             "#9c179e"
            ],
            [
             0.4444444444444444,
             "#bd3786"
            ],
            [
             0.5555555555555556,
             "#d8576b"
            ],
            [
             0.6666666666666666,
             "#ed7953"
            ],
            [
             0.7777777777777778,
             "#fb9f3a"
            ],
            [
             0.8888888888888888,
             "#fdca26"
            ],
            [
             1,
             "#f0f921"
            ]
           ],
           "sequentialminus": [
            [
             0,
             "#0d0887"
            ],
            [
             0.1111111111111111,
             "#46039f"
            ],
            [
             0.2222222222222222,
             "#7201a8"
            ],
            [
             0.3333333333333333,
             "#9c179e"
            ],
            [
             0.4444444444444444,
             "#bd3786"
            ],
            [
             0.5555555555555556,
             "#d8576b"
            ],
            [
             0.6666666666666666,
             "#ed7953"
            ],
            [
             0.7777777777777778,
             "#fb9f3a"
            ],
            [
             0.8888888888888888,
             "#fdca26"
            ],
            [
             1,
             "#f0f921"
            ]
           ]
          },
          "colorway": [
           "#636efa",
           "#EF553B",
           "#00cc96",
           "#ab63fa",
           "#FFA15A",
           "#19d3f3",
           "#FF6692",
           "#B6E880",
           "#FF97FF",
           "#FECB52"
          ],
          "font": {
           "color": "#2a3f5f"
          },
          "geo": {
           "bgcolor": "white",
           "lakecolor": "white",
           "landcolor": "#E5ECF6",
           "showlakes": true,
           "showland": true,
           "subunitcolor": "white"
          },
          "hoverlabel": {
           "align": "left"
          },
          "hovermode": "closest",
          "mapbox": {
           "style": "light"
          },
          "paper_bgcolor": "white",
          "plot_bgcolor": "#E5ECF6",
          "polar": {
           "angularaxis": {
            "gridcolor": "white",
            "linecolor": "white",
            "ticks": ""
           },
           "bgcolor": "#E5ECF6",
           "radialaxis": {
            "gridcolor": "white",
            "linecolor": "white",
            "ticks": ""
           }
          },
          "scene": {
           "xaxis": {
            "backgroundcolor": "#E5ECF6",
            "gridcolor": "white",
            "gridwidth": 2,
            "linecolor": "white",
            "showbackground": true,
            "ticks": "",
            "zerolinecolor": "white"
           },
           "yaxis": {
            "backgroundcolor": "#E5ECF6",
            "gridcolor": "white",
            "gridwidth": 2,
            "linecolor": "white",
            "showbackground": true,
            "ticks": "",
            "zerolinecolor": "white"
           },
           "zaxis": {
            "backgroundcolor": "#E5ECF6",
            "gridcolor": "white",
            "gridwidth": 2,
            "linecolor": "white",
            "showbackground": true,
            "ticks": "",
            "zerolinecolor": "white"
           }
          },
          "shapedefaults": {
           "line": {
            "color": "#2a3f5f"
           }
          },
          "ternary": {
           "aaxis": {
            "gridcolor": "white",
            "linecolor": "white",
            "ticks": ""
           },
           "baxis": {
            "gridcolor": "white",
            "linecolor": "white",
            "ticks": ""
           },
           "bgcolor": "#E5ECF6",
           "caxis": {
            "gridcolor": "white",
            "linecolor": "white",
            "ticks": ""
           }
          },
          "title": {
           "x": 0.05
          },
          "xaxis": {
           "automargin": true,
           "gridcolor": "white",
           "linecolor": "white",
           "ticks": "",
           "title": {
            "standoff": 15
           },
           "zerolinecolor": "white",
           "zerolinewidth": 2
          },
          "yaxis": {
           "automargin": true,
           "gridcolor": "white",
           "linecolor": "white",
           "ticks": "",
           "title": {
            "standoff": 15
           },
           "zerolinecolor": "white",
           "zerolinewidth": 2
          }
         }
        },
        "title": {
         "text": "Top 10 Cities by Number of Sellers (Coloured by State)"
        },
        "xaxis": {
         "anchor": "y",
         "domain": [
          0,
          1
         ],
         "title": {
          "text": "Number of Sellers"
         }
        },
        "yaxis": {
         "anchor": "x",
         "categoryorder": "total ascending",
         "domain": [
          0,
          1
         ],
         "title": {
          "text": "City"
         }
        }
       }
      }
     },
     "metadata": {},
     "output_type": "display_data"
    }
   ],
   "source": [
    "# Top 10 cities by number of sellers, coloured by state:\n",
    "city_state = df_sellers.groupby(['seller_city', 'seller_state'])['seller_id'].nunique().reset_index()\n",
    "city_state.columns = ['seller_city', 'seller_state', 'seller_count']\n",
    "\n",
    "top_city_state = city_state.sort_values('seller_count', ascending=False).head(10)\n",
    "\n",
    "fig = px.bar(top_city_state, x='seller_count', y='seller_city', color='seller_state',\n",
    "             title='Top 10 Cities by Number of Sellers (Coloured by State)',\n",
    "             labels={'seller_count': 'Number of Sellers', 'seller_city': 'City'})\n",
    "fig.update_layout(yaxis={'categoryorder':'total ascending'})\n",
    "fig.show()"
   ]
  },
  {
   "cell_type": "markdown",
   "id": "5b9ae0e2",
   "metadata": {},
   "source": [
    "## Multivariate Analysis"
   ]
  },
  {
   "cell_type": "code",
   "execution_count": 48,
   "id": "abf05019",
   "metadata": {},
   "outputs": [
    {
     "data": {
      "application/vnd.plotly.v1+json": {
       "config": {
        "plotlyServerURL": "https://plot.ly"
       },
       "data": [
        {
         "branchvalues": "total",
         "domain": {
          "x": [
           0,
           1
          ],
          "y": [
           0,
           1
          ]
         },
         "hovertemplate": "labels=%{label}<br>seller_count=%{value}<br>parent=%{parent}<br>id=%{id}<extra></extra>",
         "ids": [
          "GO/abadia de goias",
          "ES/afonso claudio",
          "SP/aguas claras df",
          "SP/alambari",
          "MG/alfenas",
          "PR/almirante tamandare",
          "SP/alvares machado",
          "RS/alvorada",
          "SP/americana",
          "SP/amparo",
          "PR/ampere",
          "GO/anapolis",
          "PR/andira",
          "MG/andradas",
          "SP/andradas",
          "RJ/angra dos reis",
          "SP/aparecida",
          "GO/aparecida de goiania",
          "RJ/aperibe",
          "PR/apucarana",
          "SE/aracaju",
          "SP/aracatuba",
          "MG/araguari",
          "PR/arapongas",
          "SC/araquari",
          "SC/ararangua",
          "SP/araraquara",
          "SP/araras",
          "PR/araucaria",
          "MG/araxa",
          "MG/arinos",
          "RJ/armacao dos buzios",
          "BA/arraial d'ajuda",
          "SP/artur nogueira",
          "SP/aruja",
          "RS/arvorezinha",
          "SP/assis",
          "SP/atibaia",
          "SP/auriflama",
          "SP/avare",
          "SP/bady bassitt",
          "MG/baependi",
          "RS/bage",
          "SC/balneario camboriu",
          "PR/bandeirantes",
          "MG/barbacena",
          "SP/bariri",
          "RJ/barra mansa",
          "SC/barra velha",
          "SP/barretos",
          "SP/barrinha",
          "BA/barro alto",
          "SP/barueri",
          "SP/batatais",
          "SP/bauru",
          "SP/bebedouro",
          "RJ/belford roxo",
          "MG/belo horizonte",
          "SP/belo horizonte",
          "RS/bento goncalves",
          "SP/bertioga",
          "MG/betim",
          "SP/birigui",
          "SC/blumenau",
          "SP/blumenau",
          "PR/bocaiuva do sul",
          "SP/bofete",
          "SP/boituva",
          "RJ/bom jardim",
          "SP/bom jesus dos perdoes",
          "SC/bombinhas",
          "MG/bonfinopolis de minas",
          "MG/borda da mata",
          "SP/botucatu",
          "SC/braco do norte",
          "SP/braganca paulista",
          "DF/brasilia",
          "PE/brejao",
          "SP/brotas",
          "SC/brusque",
          "SP/buritama",
          "SC/cacador",
          "RS/cachoeira do sul",
          "RS/cachoeirinha",
          "ES/cachoeiro de itapemirim",
          "SP/cafelandia",
          "SP/caieiras",
          "SP/cajamar",
          "PR/california",
          "MG/camanducaia",
          "PR/cambe",
          "SC/camboriu",
          "MG/campanha",
          "RS/campina das missoes",
          "PB/campina grande",
          "SP/campinas",
          "RS/campo bom",
          "MG/campo do meio",
          "MS/campo grande",
          "PR/campo largo",
          "SP/campo limpo paulista",
          "PR/campo magro",
          "PR/campo mourao",
          "RJ/campos dos goytacazes",
          "SC/campos novos",
          "SP/cananeia",
          "RS/canoas",
          "SC/canoinhas",
          "SP/capivari",
          "SP/carapicuiba",
          "MG/caratinga",
          "RS/carazinho",
          "ES/cariacica",
          "MG/carmo da mata",
          "MG/carmo do cajuru",
          "PE/caruaru",
          "PR/cascavael",
          "PR/cascavel",
          "PR/castro",
          "MG/castro pires",
          "MG/cataguases",
          "SP/catanduva",
          "CE/caucaia",
          "RS/caxias do sul",
          "SP/caxias do sul",
          "SP/cerqueira cesar",
          "SC/chapeco",
          "SP/chapeco",
          "PR/cianorte",
          "MG/claudio",
          "SP/clementina",
          "ES/colatina",
          "PR/colombo",
          "PR/colorado",
          "SP/conchal",
          "SC/concordia",
          "RS/condor",
          "MG/congonhal",
          "MG/congonhas",
          "MG/conselheiro lafaiete",
          "MG/contagem",
          "SP/cordeiropolis",
          "SC/cordilheira alta",
          "PR/cornelio procopio",
          "MG/coronel fabriciano",
          "SP/cosmopolis",
          "SP/cotia",
          "MS/coxim",
          "SP/cravinhos",
          "SC/criciuma",
          "SP/cruzeiro",
          "MT/cuiaba",
          "PR/curitiba",
          "SP/curitiba",
          "SC/curitibanos",
          "SP/descalvado",
          "SP/diadema",
          "MG/divinopolis",
          "MG/divisa nova",
          "SP/dois corregos",
          "ES/domingos martins",
          "MG/dores de campos",
          "SP/dracena",
          "RJ/duque de caxias",
          "SP/echapora",
          "SP/embu das artes",
          "SP/embu guacu",
          "SP/engenheiro coelho",
          "PR/entre rios do oeste",
          "RS/erechim",
          "RS/estancia velha",
          "BA/eunapolis",
          "CE/eusebio",
          "MG/extrema",
          "RS/farroupilha",
          "PR/fazenda rio grande",
          "BA/feira de santana",
          "SP/fernando prestes",
          "SP/fernandopolis",
          "SP/ferraz de vasconcelos",
          "RS/flores da cunha",
          "PR/floresta",
          "SC/florianopolis",
          "SP/florianopolis",
          "MG/formiga",
          "GO/formosa",
          "PR/formosa do oeste",
          "CE/fortaleza",
          "PR/foz do iguacu",
          "SP/franca",
          "PR/francisco beltrao",
          "SP/francisco morato",
          "SP/franco da rocha",
          "MG/fronteira",
          "DF/gama",
          "SP/garca",
          "SC/garopaba",
          "SC/garuva",
          "SC/gaspar",
          "GO/goiania",
          "SP/goioere",
          "MG/governador valadares",
          "SP/guaimbe",
          "PR/guaira",
          "SP/guaira",
          "BA/guanambi",
          "MG/guanhaes",
          "SP/guara",
          "PR/guarapuava",
          "SP/guaratingueta",
          "PR/guaratuba",
          "SP/guariba",
          "SP/guaruja",
          "SP/guarulhos",
          "MG/guiricema",
          "SP/holambra",
          "RS/horizontina",
          "SP/hortolandia",
          "MG/ibia",
          "MG/ibirite",
          "SP/ibitinga",
          "SC/icara",
          "SP/igaracu do tiete",
          "RS/igrejinha",
          "BA/ilheus",
          "MG/ilicinea",
          "RS/imbe",
          "SC/imbituba",
          "PR/imbituva",
          "RS/imigrante",
          "SC/indaial",
          "SP/indaiatuba",
          "MG/ipatinga",
          "SP/ipaussu",
          "RS/ipe",
          "BA/ipira",
          "SP/ipira",
          "SP/ipua",
          "PR/irati",
          "BA/irece",
          "MG/itabira",
          "RJ/itaborai",
          "PR/itaipulandia",
          "SC/itajai",
          "SP/itajai",
          "SP/itajobi",
          "SP/itapecerica da serra",
          "SC/itapema",
          "SP/itapetininga",
          "SP/itapeva",
          "SP/itapevi",
          "SP/itaporanga",
          "SP/itapui",
          "SP/itaquaquecetuba",
          "SP/itatiba",
          "MG/itau de minas",
          "MG/itauna",
          "SP/itirapina",
          "SP/itu",
          "RS/ivoti",
          "SP/jaboticabal",
          "SP/jacarei",
          "SP/jaci",
          "MT/jaciara",
          "MG/jacutinga",
          "RS/jacutinga",
          "SP/jaguariuna",
          "SC/jaguaruna",
          "SP/jales",
          "SP/jambeiro",
          "MG/janauba",
          "PR/japira",
          "GO/jaragua",
          "SC/jaragua do sul",
          "SP/jarinu",
          "SP/jau",
          "RO/ji parana",
          "MG/joao monlevade",
          "PB/joao pessoa",
          "MG/joao pinheiro",
          "SC/joinville",
          "MG/juiz de fora",
          "SP/juiz de fora",
          "SP/jundiai",
          "PR/jussara",
          "CE/juzeiro do norte",
          "SC/lages",
          "MG/lagoa da prata",
          "MG/lagoa santa",
          "SP/laguna",
          "RS/lajeado",
          "MG/lambari",
          "SP/laranjal paulista",
          "SP/laranjeiras do sul",
          "SC/laurentino",
          "BA/lauro de freitas",
          "SP/leme",
          "SP/lencois paulista",
          "SP/limeira",
          "PR/loanda",
          "PR/londrina",
          "SP/londrina",
          "SP/lorena",
          "SP/louveira",
          "SC/luiz alves",
          "GO/luziania",
          "RJ/macae",
          "SP/macatuba",
          "RJ/mage",
          "SP/mairinque",
          "SP/mairipora",
          "PB/mamanguape",
          "AM/manaus",
          "PR/mandaguacu",
          "PR/mandaguari",
          "PR/mandirituba",
          "SP/marapoama",
          "PA/marechal candido rondon",
          "PR/marechal candido rondon",
          "SP/marechal candido rondon",
          "PR/marialva",
          "RJ/marica",
          "SP/marilia",
          "PR/maringa",
          "SC/massaranduba",
          "MG/mateus leme",
          "SP/maua",
          "PR/medianeira",
          "RJ/mesquita",
          "RN/messias targino",
          "SP/miguelopolis",
          "SP/mineiros do tiete",
          "SP/mirandopolis",
          "SP/mirassol",
          "SP/mococa",
          "SP/mogi das cruses",
          "SP/mogi das cruzes",
          "SP/mogi guacu",
          "SP/mogi mirim",
          "SP/mombuca",
          "SP/monte alegre do sul",
          "SP/monte alto",
          "MG/monte siao",
          "SP/monteiro lobato",
          "RS/montenegro",
          "MG/montes claros",
          "GO/morrinhos",
          "CE/mucambo",
          "ES/muqui",
          "MG/muriae",
          "RN/natal",
          "SC/navegantes",
          "SE/neopolis",
          "SP/nhandeara",
          "RJ/nilopolis",
          "RJ/niteroi",
          "RJ/nova friburgo",
          "RJ/nova iguacu",
          "MG/nova lima",
          "SP/nova odessa",
          "RS/nova petropolis",
          "SC/nova trento",
          "RS/novo hamburgo",
          "SP/novo horizonte",
          "SP/olimpia",
          "MG/oliveira",
          "SP/orlandia",
          "SC/orleans",
          "SP/osasco",
          "SP/osvaldo cruz",
          "SP/ourinhos",
          "MG/ouro fino",
          "MG/ouro preto",
          "CE/pacatuba",
          "PR/paicandu",
          "SC/palhoca",
          "SP/palhoca",
          "PR/palotina",
          "MG/para de minas",
          "RJ/paracambi",
          "RS/parai",
          "RJ/paraiba do sul",
          "RS/paraiso do sul",
          "PR/parana",
          "PR/paranavai",
          "RN/parnamirim",
          "MG/passos",
          "PR/pato bragado",
          "PR/pato branco",
          "MG/patos de minas",
          "SP/paulinia",
          "BA/paulo afonso",
          "SC/paulo lopes",
          "SP/pederneiras",
          "SP/pedregulho",
          "SP/pedreira",
          "SP/pedrinhas paulista",
          "MG/pedro leopoldo",
          "RS/pelotas",
          "SP/penapolis",
          "RJ/petropolis",
          "SC/picarras",
          "SP/pilar do sul",
          "PR/pinhais",
          "SP/pinhais",
          "PR/pinhalao",
          "SC/pinhalzinho",
          "SP/pinhalzinho",
          "GO/piracanjuba",
          "SP/piracicaba",
          "SP/pirassununga",
          "SP/pirituba",
          "PR/pitanga",
          "SP/pitangueiras",
          "SP/poa",
          "MG/pocos de caldas",
          "SP/pompeia",
          "PR/ponta grossa",
          "MG/ponte nova",
          "RS/portao",
          "RS/porto alegre",
          "SP/porto alegre",
          "SC/porto belo",
          "SP/porto ferreira",
          "BA/porto seguro",
          "RO/porto velho",
          "SP/portoferreira",
          "MG/pouso alegre",
          "SP/pradopolis",
          "MG/prados",
          "SP/praia grande",
          "SP/presidente bernardes",
          "SP/presidente epitacio",
          "SC/presidente getulio",
          "SP/presidente prudente",
          "RJ/queimados",
          "PE/recife",
          "SP/registro",
          "RJ/resende",
          "MG/ribeirao das neves",
          "SP/ribeirao pires",
          "SP/ribeirao preto",
          "RJ/rio bonito",
          "SP/rio bonito",
          "AC/rio branco",
          "SP/rio claro",
          "SP/rio das pedras",
          "RJ/rio de janeiro",
          "RN/rio de janeiro",
          "SP/rio de janeiro",
          "SC/rio do oeste",
          "SC/rio do sul",
          "RS/rio grande",
          "SC/rio negrinho",
          "GO/rio verde",
          "SC/rodeio",
          "PR/rolandia",
          "RS/rolante",
          "RS/ronda alta",
          "MG/sabara",
          "SP/salto",
          "BA/salvador",
          "SP/santa barbara d'oeste",
          "SC/santa catarina",
          "SC/santa cecilia",
          "RS/santa cruz do sul",
          "RS/santa maria",
          "SP/santa maria da serra",
          "MG/santa rita do sapucai",
          "RS/santa rosa",
          "SP/santa rosa de viterbo",
          "GO/santa terezinha de goias",
          "PR/santa terezinha de itaipu",
          "SP/santana de parnaiba",
          "SP/santo andre",
          "RS/santo angelo",
          "RS/santo antonio da patrulha",
          "RJ/santo antonio de padua",
          "SP/santo antonio de posse",
          "SP/santos",
          "PR/sao  jose dos pinhais",
          "PB/sao bento",
          "SC/sao bento do sul",
          "SP/sao bernardo do campo",
          "SP/sao bernardo do capo",
          "SP/sao caetano do sul",
          "SP/sao carlos",
          "SC/sao francisco do sul",
          "RJ/sao goncalo",
          "SP/sao joao da boa vista",
          "RJ/sao joao de meriti",
          "MG/sao joao del rei",
          "SP/sao joaquim da barra",
          "SC/sao jose",
          "SP/sao jose do rio pardo",
          "SP/sao jose do rio pret",
          "SP/sao jose do rio preto",
          "SP/sao jose dos campos",
          "PR/sao jose dos pinhais",
          "SP/sao jose dos pinhais",
          "PR/sao jose dos pinhas",
          "RS/sao leopoldo",
          "SC/sao ludgero",
          "MA/sao luis",
          "SC/sao miguel d'oeste",
          "SC/sao miguel do oeste",
          "SP/sao paulo",
          "SP/sao pedro",
          "RJ/sao pedro da aldeia",
          "SP/sao roque",
          "SP/sao sebastiao",
          "SP/sao sebastiao da grama",
          "SP/sao vicente",
          "RS/sapiranga",
          "RJ/saquarema",
          "PR/sarandi",
          "SP/são paulo",
          "ES/serra",
          "SP/serra negra",
          "PB/serra redonda",
          "SP/serrana",
          "SP/sertanopolis",
          "MG/sete lagoas",
          "MT/sinop",
          "SP/socorro",
          "RS/soledade",
          "SC/sombrio",
          "SP/sorocaba",
          "SP/sumare",
          "SP/suzano",
          "SP/tabatinga",
          "SP/taboao da serra",
          "SC/taio",
          "SP/tambau",
          "SP/tanabi",
          "SP/taruma",
          "SP/tatui",
          "SP/taubate",
          "PR/teixeira soares",
          "PI/teresina",
          "RJ/teresopolis",
          "PR/terra boa",
          "SP/tiete",
          "SC/timbo",
          "MG/timoteo",
          "MG/tiradentes",
          "SP/tocantins",
          "PR/toledo",
          "RS/torres",
          "MG/tres coracoes",
          "RS/tres coroas",
          "RS/tres de maio",
          "RJ/tres rios",
          "SC/treze tilias",
          "RS/triunfo",
          "SC/tubarao",
          "SP/tupa",
          "MG/uba",
          "SP/ubatuba",
          "MG/uberaba",
          "MG/uberlandia",
          "PR/umuarama",
          "PR/uniao da vitoria",
          "GO/uruacu",
          "RS/uruguaiana",
          "SP/valinhos",
          "SP/vargem grande do sul",
          "SP/vargem grande paulista",
          "MG/varginha",
          "CE/varzea alegre",
          "SP/varzea paulista",
          "RJ/vassouras",
          "RS/venancio aires",
          "SP/vera cruz",
          "MG/vespasiano",
          "RS/viamao",
          "ES/viana",
          "SP/vicente de carvalho",
          "MG/vicosa",
          "SC/videira",
          "ES/vila velha",
          "SP/vila velha",
          "ES/vitoria",
          "PE/vitoria de santo antao",
          "RJ/volta redonda",
          "SP/volta redonda",
          "SP/votorantim",
          "SP/votuporanga",
          "SC/xanxere",
          "SC/xaxim",
          "AC",
          "AM",
          "BA",
          "CE",
          "DF",
          "ES",
          "GO",
          "MA",
          "MG",
          "MS",
          "MT",
          "PA",
          "PB",
          "PE",
          "PI",
          "PR",
          "RJ",
          "RN",
          "RO",
          "RS",
          "SC",
          "SE",
          "SP"
         ],
         "labels": [
          "abadia de goias",
          "afonso claudio",
          "aguas claras df",
          "alambari",
          "alfenas",
          "almirante tamandare",
          "alvares machado",
          "alvorada",
          "americana",
          "amparo",
          "ampere",
          "anapolis",
          "andira",
          "andradas",
          "andradas",
          "angra dos reis",
          "aparecida",
          "aparecida de goiania",
          "aperibe",
          "apucarana",
          "aracaju",
          "aracatuba",
          "araguari",
          "arapongas",
          "araquari",
          "ararangua",
          "araraquara",
          "araras",
          "araucaria",
          "araxa",
          "arinos",
          "armacao dos buzios",
          "arraial d'ajuda",
          "artur nogueira",
          "aruja",
          "arvorezinha",
          "assis",
          "atibaia",
          "auriflama",
          "avare",
          "bady bassitt",
          "baependi",
          "bage",
          "balneario camboriu",
          "bandeirantes",
          "barbacena",
          "bariri",
          "barra mansa",
          "barra velha",
          "barretos",
          "barrinha",
          "barro alto",
          "barueri",
          "batatais",
          "bauru",
          "bebedouro",
          "belford roxo",
          "belo horizonte",
          "belo horizonte",
          "bento goncalves",
          "bertioga",
          "betim",
          "birigui",
          "blumenau",
          "blumenau",
          "bocaiuva do sul",
          "bofete",
          "boituva",
          "bom jardim",
          "bom jesus dos perdoes",
          "bombinhas",
          "bonfinopolis de minas",
          "borda da mata",
          "botucatu",
          "braco do norte",
          "braganca paulista",
          "brasilia",
          "brejao",
          "brotas",
          "brusque",
          "buritama",
          "cacador",
          "cachoeira do sul",
          "cachoeirinha",
          "cachoeiro de itapemirim",
          "cafelandia",
          "caieiras",
          "cajamar",
          "california",
          "camanducaia",
          "cambe",
          "camboriu",
          "campanha",
          "campina das missoes",
          "campina grande",
          "campinas",
          "campo bom",
          "campo do meio",
          "campo grande",
          "campo largo",
          "campo limpo paulista",
          "campo magro",
          "campo mourao",
          "campos dos goytacazes",
          "campos novos",
          "cananeia",
          "canoas",
          "canoinhas",
          "capivari",
          "carapicuiba",
          "caratinga",
          "carazinho",
          "cariacica",
          "carmo da mata",
          "carmo do cajuru",
          "caruaru",
          "cascavael",
          "cascavel",
          "castro",
          "castro pires",
          "cataguases",
          "catanduva",
          "caucaia",
          "caxias do sul",
          "caxias do sul",
          "cerqueira cesar",
          "chapeco",
          "chapeco",
          "cianorte",
          "claudio",
          "clementina",
          "colatina",
          "colombo",
          "colorado",
          "conchal",
          "concordia",
          "condor",
          "congonhal",
          "congonhas",
          "conselheiro lafaiete",
          "contagem",
          "cordeiropolis",
          "cordilheira alta",
          "cornelio procopio",
          "coronel fabriciano",
          "cosmopolis",
          "cotia",
          "coxim",
          "cravinhos",
          "criciuma",
          "cruzeiro",
          "cuiaba",
          "curitiba",
          "curitiba",
          "curitibanos",
          "descalvado",
          "diadema",
          "divinopolis",
          "divisa nova",
          "dois corregos",
          "domingos martins",
          "dores de campos",
          "dracena",
          "duque de caxias",
          "echapora",
          "embu das artes",
          "embu guacu",
          "engenheiro coelho",
          "entre rios do oeste",
          "erechim",
          "estancia velha",
          "eunapolis",
          "eusebio",
          "extrema",
          "farroupilha",
          "fazenda rio grande",
          "feira de santana",
          "fernando prestes",
          "fernandopolis",
          "ferraz de vasconcelos",
          "flores da cunha",
          "floresta",
          "florianopolis",
          "florianopolis",
          "formiga",
          "formosa",
          "formosa do oeste",
          "fortaleza",
          "foz do iguacu",
          "franca",
          "francisco beltrao",
          "francisco morato",
          "franco da rocha",
          "fronteira",
          "gama",
          "garca",
          "garopaba",
          "garuva",
          "gaspar",
          "goiania",
          "goioere",
          "governador valadares",
          "guaimbe",
          "guaira",
          "guaira",
          "guanambi",
          "guanhaes",
          "guara",
          "guarapuava",
          "guaratingueta",
          "guaratuba",
          "guariba",
          "guaruja",
          "guarulhos",
          "guiricema",
          "holambra",
          "horizontina",
          "hortolandia",
          "ibia",
          "ibirite",
          "ibitinga",
          "icara",
          "igaracu do tiete",
          "igrejinha",
          "ilheus",
          "ilicinea",
          "imbe",
          "imbituba",
          "imbituva",
          "imigrante",
          "indaial",
          "indaiatuba",
          "ipatinga",
          "ipaussu",
          "ipe",
          "ipira",
          "ipira",
          "ipua",
          "irati",
          "irece",
          "itabira",
          "itaborai",
          "itaipulandia",
          "itajai",
          "itajai",
          "itajobi",
          "itapecerica da serra",
          "itapema",
          "itapetininga",
          "itapeva",
          "itapevi",
          "itaporanga",
          "itapui",
          "itaquaquecetuba",
          "itatiba",
          "itau de minas",
          "itauna",
          "itirapina",
          "itu",
          "ivoti",
          "jaboticabal",
          "jacarei",
          "jaci",
          "jaciara",
          "jacutinga",
          "jacutinga",
          "jaguariuna",
          "jaguaruna",
          "jales",
          "jambeiro",
          "janauba",
          "japira",
          "jaragua",
          "jaragua do sul",
          "jarinu",
          "jau",
          "ji parana",
          "joao monlevade",
          "joao pessoa",
          "joao pinheiro",
          "joinville",
          "juiz de fora",
          "juiz de fora",
          "jundiai",
          "jussara",
          "juzeiro do norte",
          "lages",
          "lagoa da prata",
          "lagoa santa",
          "laguna",
          "lajeado",
          "lambari",
          "laranjal paulista",
          "laranjeiras do sul",
          "laurentino",
          "lauro de freitas",
          "leme",
          "lencois paulista",
          "limeira",
          "loanda",
          "londrina",
          "londrina",
          "lorena",
          "louveira",
          "luiz alves",
          "luziania",
          "macae",
          "macatuba",
          "mage",
          "mairinque",
          "mairipora",
          "mamanguape",
          "manaus",
          "mandaguacu",
          "mandaguari",
          "mandirituba",
          "marapoama",
          "marechal candido rondon",
          "marechal candido rondon",
          "marechal candido rondon",
          "marialva",
          "marica",
          "marilia",
          "maringa",
          "massaranduba",
          "mateus leme",
          "maua",
          "medianeira",
          "mesquita",
          "messias targino",
          "miguelopolis",
          "mineiros do tiete",
          "mirandopolis",
          "mirassol",
          "mococa",
          "mogi das cruses",
          "mogi das cruzes",
          "mogi guacu",
          "mogi mirim",
          "mombuca",
          "monte alegre do sul",
          "monte alto",
          "monte siao",
          "monteiro lobato",
          "montenegro",
          "montes claros",
          "morrinhos",
          "mucambo",
          "muqui",
          "muriae",
          "natal",
          "navegantes",
          "neopolis",
          "nhandeara",
          "nilopolis",
          "niteroi",
          "nova friburgo",
          "nova iguacu",
          "nova lima",
          "nova odessa",
          "nova petropolis",
          "nova trento",
          "novo hamburgo",
          "novo horizonte",
          "olimpia",
          "oliveira",
          "orlandia",
          "orleans",
          "osasco",
          "osvaldo cruz",
          "ourinhos",
          "ouro fino",
          "ouro preto",
          "pacatuba",
          "paicandu",
          "palhoca",
          "palhoca",
          "palotina",
          "para de minas",
          "paracambi",
          "parai",
          "paraiba do sul",
          "paraiso do sul",
          "parana",
          "paranavai",
          "parnamirim",
          "passos",
          "pato bragado",
          "pato branco",
          "patos de minas",
          "paulinia",
          "paulo afonso",
          "paulo lopes",
          "pederneiras",
          "pedregulho",
          "pedreira",
          "pedrinhas paulista",
          "pedro leopoldo",
          "pelotas",
          "penapolis",
          "petropolis",
          "picarras",
          "pilar do sul",
          "pinhais",
          "pinhais",
          "pinhalao",
          "pinhalzinho",
          "pinhalzinho",
          "piracanjuba",
          "piracicaba",
          "pirassununga",
          "pirituba",
          "pitanga",
          "pitangueiras",
          "poa",
          "pocos de caldas",
          "pompeia",
          "ponta grossa",
          "ponte nova",
          "portao",
          "porto alegre",
          "porto alegre",
          "porto belo",
          "porto ferreira",
          "porto seguro",
          "porto velho",
          "portoferreira",
          "pouso alegre",
          "pradopolis",
          "prados",
          "praia grande",
          "presidente bernardes",
          "presidente epitacio",
          "presidente getulio",
          "presidente prudente",
          "queimados",
          "recife",
          "registro",
          "resende",
          "ribeirao das neves",
          "ribeirao pires",
          "ribeirao preto",
          "rio bonito",
          "rio bonito",
          "rio branco",
          "rio claro",
          "rio das pedras",
          "rio de janeiro",
          "rio de janeiro",
          "rio de janeiro",
          "rio do oeste",
          "rio do sul",
          "rio grande",
          "rio negrinho",
          "rio verde",
          "rodeio",
          "rolandia",
          "rolante",
          "ronda alta",
          "sabara",
          "salto",
          "salvador",
          "santa barbara d'oeste",
          "santa catarina",
          "santa cecilia",
          "santa cruz do sul",
          "santa maria",
          "santa maria da serra",
          "santa rita do sapucai",
          "santa rosa",
          "santa rosa de viterbo",
          "santa terezinha de goias",
          "santa terezinha de itaipu",
          "santana de parnaiba",
          "santo andre",
          "santo angelo",
          "santo antonio da patrulha",
          "santo antonio de padua",
          "santo antonio de posse",
          "santos",
          "sao  jose dos pinhais",
          "sao bento",
          "sao bento do sul",
          "sao bernardo do campo",
          "sao bernardo do capo",
          "sao caetano do sul",
          "sao carlos",
          "sao francisco do sul",
          "sao goncalo",
          "sao joao da boa vista",
          "sao joao de meriti",
          "sao joao del rei",
          "sao joaquim da barra",
          "sao jose",
          "sao jose do rio pardo",
          "sao jose do rio pret",
          "sao jose do rio preto",
          "sao jose dos campos",
          "sao jose dos pinhais",
          "sao jose dos pinhais",
          "sao jose dos pinhas",
          "sao leopoldo",
          "sao ludgero",
          "sao luis",
          "sao miguel d'oeste",
          "sao miguel do oeste",
          "sao paulo",
          "sao pedro",
          "sao pedro da aldeia",
          "sao roque",
          "sao sebastiao",
          "sao sebastiao da grama",
          "sao vicente",
          "sapiranga",
          "saquarema",
          "sarandi",
          "são paulo",
          "serra",
          "serra negra",
          "serra redonda",
          "serrana",
          "sertanopolis",
          "sete lagoas",
          "sinop",
          "socorro",
          "soledade",
          "sombrio",
          "sorocaba",
          "sumare",
          "suzano",
          "tabatinga",
          "taboao da serra",
          "taio",
          "tambau",
          "tanabi",
          "taruma",
          "tatui",
          "taubate",
          "teixeira soares",
          "teresina",
          "teresopolis",
          "terra boa",
          "tiete",
          "timbo",
          "timoteo",
          "tiradentes",
          "tocantins",
          "toledo",
          "torres",
          "tres coracoes",
          "tres coroas",
          "tres de maio",
          "tres rios",
          "treze tilias",
          "triunfo",
          "tubarao",
          "tupa",
          "uba",
          "ubatuba",
          "uberaba",
          "uberlandia",
          "umuarama",
          "uniao da vitoria",
          "uruacu",
          "uruguaiana",
          "valinhos",
          "vargem grande do sul",
          "vargem grande paulista",
          "varginha",
          "varzea alegre",
          "varzea paulista",
          "vassouras",
          "venancio aires",
          "vera cruz",
          "vespasiano",
          "viamao",
          "viana",
          "vicente de carvalho",
          "vicosa",
          "videira",
          "vila velha",
          "vila velha",
          "vitoria",
          "vitoria de santo antao",
          "volta redonda",
          "volta redonda",
          "votorantim",
          "votuporanga",
          "xanxere",
          "xaxim",
          "AC",
          "AM",
          "BA",
          "CE",
          "DF",
          "ES",
          "GO",
          "MA",
          "MG",
          "MS",
          "MT",
          "PA",
          "PB",
          "PE",
          "PI",
          "PR",
          "RJ",
          "RN",
          "RO",
          "RS",
          "SC",
          "SE",
          "SP"
         ],
         "name": "",
         "parents": [
          "GO",
          "ES",
          "SP",
          "SP",
          "MG",
          "PR",
          "SP",
          "RS",
          "SP",
          "SP",
          "PR",
          "GO",
          "PR",
          "MG",
          "SP",
          "RJ",
          "SP",
          "GO",
          "RJ",
          "PR",
          "SE",
          "SP",
          "MG",
          "PR",
          "SC",
          "SC",
          "SP",
          "SP",
          "PR",
          "MG",
          "MG",
          "RJ",
          "BA",
          "SP",
          "SP",
          "RS",
          "SP",
          "SP",
          "SP",
          "SP",
          "SP",
          "MG",
          "RS",
          "SC",
          "PR",
          "MG",
          "SP",
          "RJ",
          "SC",
          "SP",
          "SP",
          "BA",
          "SP",
          "SP",
          "SP",
          "SP",
          "RJ",
          "MG",
          "SP",
          "RS",
          "SP",
          "MG",
          "SP",
          "SC",
          "SP",
          "PR",
          "SP",
          "SP",
          "RJ",
          "SP",
          "SC",
          "MG",
          "MG",
          "SP",
          "SC",
          "SP",
          "DF",
          "PE",
          "SP",
          "SC",
          "SP",
          "SC",
          "RS",
          "RS",
          "ES",
          "SP",
          "SP",
          "SP",
          "PR",
          "MG",
          "PR",
          "SC",
          "MG",
          "RS",
          "PB",
          "SP",
          "RS",
          "MG",
          "MS",
          "PR",
          "SP",
          "PR",
          "PR",
          "RJ",
          "SC",
          "SP",
          "RS",
          "SC",
          "SP",
          "SP",
          "MG",
          "RS",
          "ES",
          "MG",
          "MG",
          "PE",
          "PR",
          "PR",
          "PR",
          "MG",
          "MG",
          "SP",
          "CE",
          "RS",
          "SP",
          "SP",
          "SC",
          "SP",
          "PR",
          "MG",
          "SP",
          "ES",
          "PR",
          "PR",
          "SP",
          "SC",
          "RS",
          "MG",
          "MG",
          "MG",
          "MG",
          "SP",
          "SC",
          "PR",
          "MG",
          "SP",
          "SP",
          "MS",
          "SP",
          "SC",
          "SP",
          "MT",
          "PR",
          "SP",
          "SC",
          "SP",
          "SP",
          "MG",
          "MG",
          "SP",
          "ES",
          "MG",
          "SP",
          "RJ",
          "SP",
          "SP",
          "SP",
          "SP",
          "PR",
          "RS",
          "RS",
          "BA",
          "CE",
          "MG",
          "RS",
          "PR",
          "BA",
          "SP",
          "SP",
          "SP",
          "RS",
          "PR",
          "SC",
          "SP",
          "MG",
          "GO",
          "PR",
          "CE",
          "PR",
          "SP",
          "PR",
          "SP",
          "SP",
          "MG",
          "DF",
          "SP",
          "SC",
          "SC",
          "SC",
          "GO",
          "SP",
          "MG",
          "SP",
          "PR",
          "SP",
          "BA",
          "MG",
          "SP",
          "PR",
          "SP",
          "PR",
          "SP",
          "SP",
          "SP",
          "MG",
          "SP",
          "RS",
          "SP",
          "MG",
          "MG",
          "SP",
          "SC",
          "SP",
          "RS",
          "BA",
          "MG",
          "RS",
          "SC",
          "PR",
          "RS",
          "SC",
          "SP",
          "MG",
          "SP",
          "RS",
          "BA",
          "SP",
          "SP",
          "PR",
          "BA",
          "MG",
          "RJ",
          "PR",
          "SC",
          "SP",
          "SP",
          "SP",
          "SC",
          "SP",
          "SP",
          "SP",
          "SP",
          "SP",
          "SP",
          "SP",
          "MG",
          "MG",
          "SP",
          "SP",
          "RS",
          "SP",
          "SP",
          "SP",
          "MT",
          "MG",
          "RS",
          "SP",
          "SC",
          "SP",
          "SP",
          "MG",
          "PR",
          "GO",
          "SC",
          "SP",
          "SP",
          "RO",
          "MG",
          "PB",
          "MG",
          "SC",
          "MG",
          "SP",
          "SP",
          "PR",
          "CE",
          "SC",
          "MG",
          "MG",
          "SP",
          "RS",
          "MG",
          "SP",
          "SP",
          "SC",
          "BA",
          "SP",
          "SP",
          "SP",
          "PR",
          "PR",
          "SP",
          "SP",
          "SP",
          "SC",
          "GO",
          "RJ",
          "SP",
          "RJ",
          "SP",
          "SP",
          "PB",
          "AM",
          "PR",
          "PR",
          "PR",
          "SP",
          "PA",
          "PR",
          "SP",
          "PR",
          "RJ",
          "SP",
          "PR",
          "SC",
          "MG",
          "SP",
          "PR",
          "RJ",
          "RN",
          "SP",
          "SP",
          "SP",
          "SP",
          "SP",
          "SP",
          "SP",
          "SP",
          "SP",
          "SP",
          "SP",
          "SP",
          "MG",
          "SP",
          "RS",
          "MG",
          "GO",
          "CE",
          "ES",
          "MG",
          "RN",
          "SC",
          "SE",
          "SP",
          "RJ",
          "RJ",
          "RJ",
          "RJ",
          "MG",
          "SP",
          "RS",
          "SC",
          "RS",
          "SP",
          "SP",
          "MG",
          "SP",
          "SC",
          "SP",
          "SP",
          "SP",
          "MG",
          "MG",
          "CE",
          "PR",
          "SC",
          "SP",
          "PR",
          "MG",
          "RJ",
          "RS",
          "RJ",
          "RS",
          "PR",
          "PR",
          "RN",
          "MG",
          "PR",
          "PR",
          "MG",
          "SP",
          "BA",
          "SC",
          "SP",
          "SP",
          "SP",
          "SP",
          "MG",
          "RS",
          "SP",
          "RJ",
          "SC",
          "SP",
          "PR",
          "SP",
          "PR",
          "SC",
          "SP",
          "GO",
          "SP",
          "SP",
          "SP",
          "PR",
          "SP",
          "SP",
          "MG",
          "SP",
          "PR",
          "MG",
          "RS",
          "RS",
          "SP",
          "SC",
          "SP",
          "BA",
          "RO",
          "SP",
          "MG",
          "SP",
          "MG",
          "SP",
          "SP",
          "SP",
          "SC",
          "SP",
          "RJ",
          "PE",
          "SP",
          "RJ",
          "MG",
          "SP",
          "SP",
          "RJ",
          "SP",
          "AC",
          "SP",
          "SP",
          "RJ",
          "RN",
          "SP",
          "SC",
          "SC",
          "RS",
          "SC",
          "GO",
          "SC",
          "PR",
          "RS",
          "RS",
          "MG",
          "SP",
          "BA",
          "SP",
          "SC",
          "SC",
          "RS",
          "RS",
          "SP",
          "MG",
          "RS",
          "SP",
          "GO",
          "PR",
          "SP",
          "SP",
          "RS",
          "RS",
          "RJ",
          "SP",
          "SP",
          "PR",
          "PB",
          "SC",
          "SP",
          "SP",
          "SP",
          "SP",
          "SC",
          "RJ",
          "SP",
          "RJ",
          "MG",
          "SP",
          "SC",
          "SP",
          "SP",
          "SP",
          "SP",
          "PR",
          "SP",
          "PR",
          "RS",
          "SC",
          "MA",
          "SC",
          "SC",
          "SP",
          "SP",
          "RJ",
          "SP",
          "SP",
          "SP",
          "SP",
          "RS",
          "RJ",
          "PR",
          "SP",
          "ES",
          "SP",
          "PB",
          "SP",
          "SP",
          "MG",
          "MT",
          "SP",
          "RS",
          "SC",
          "SP",
          "SP",
          "SP",
          "SP",
          "SP",
          "SC",
          "SP",
          "SP",
          "SP",
          "SP",
          "SP",
          "PR",
          "PI",
          "RJ",
          "PR",
          "SP",
          "SC",
          "MG",
          "MG",
          "SP",
          "PR",
          "RS",
          "MG",
          "RS",
          "RS",
          "RJ",
          "SC",
          "RS",
          "SC",
          "SP",
          "MG",
          "SP",
          "MG",
          "MG",
          "PR",
          "PR",
          "GO",
          "RS",
          "SP",
          "SP",
          "SP",
          "MG",
          "CE",
          "SP",
          "RJ",
          "RS",
          "SP",
          "MG",
          "RS",
          "ES",
          "SP",
          "MG",
          "SC",
          "ES",
          "SP",
          "ES",
          "PE",
          "RJ",
          "SP",
          "SP",
          "SP",
          "SC",
          "SC",
          "",
          "",
          "",
          "",
          "",
          "",
          "",
          "",
          "",
          "",
          "",
          "",
          "",
          "",
          "",
          "",
          "",
          "",
          "",
          "",
          "",
          "",
          ""
         ],
         "type": "treemap",
         "values": [
          1,
          1,
          1,
          1,
          2,
          1,
          1,
          1,
          10,
          5,
          1,
          3,
          1,
          1,
          1,
          2,
          1,
          1,
          1,
          8,
          1,
          4,
          4,
          10,
          1,
          1,
          11,
          3,
          2,
          2,
          1,
          2,
          1,
          3,
          3,
          1,
          8,
          11,
          2,
          1,
          2,
          2,
          1,
          4,
          1,
          2,
          2,
          4,
          1,
          4,
          1,
          1,
          13,
          3,
          14,
          1,
          2,
          67,
          2,
          3,
          1,
          5,
          10,
          20,
          1,
          1,
          1,
          3,
          1,
          1,
          1,
          1,
          4,
          4,
          1,
          5,
          29,
          1,
          1,
          10,
          1,
          1,
          1,
          3,
          4,
          2,
          1,
          2,
          1,
          1,
          3,
          1,
          1,
          1,
          1,
          41,
          2,
          2,
          4,
          3,
          2,
          1,
          1,
          1,
          1,
          1,
          9,
          2,
          4,
          11,
          1,
          3,
          3,
          1,
          1,
          2,
          1,
          14,
          2,
          1,
          1,
          10,
          1,
          16,
          2,
          1,
          2,
          1,
          1,
          6,
          1,
          1,
          8,
          1,
          2,
          1,
          1,
          1,
          1,
          3,
          12,
          1,
          1,
          1,
          2,
          2,
          10,
          1,
          1,
          4,
          1,
          2,
          124,
          3,
          2,
          1,
          9,
          8,
          1,
          2,
          1,
          2,
          1,
          3,
          2,
          2,
          1,
          1,
          1,
          1,
          2,
          1,
          1,
          1,
          2,
          6,
          1,
          1,
          4,
          4,
          2,
          1,
          18,
          1,
          4,
          2,
          1,
          7,
          5,
          20,
          4,
          1,
          2,
          1,
          1,
          4,
          2,
          1,
          2,
          23,
          1,
          1,
          1,
          1,
          1,
          1,
          1,
          1,
          1,
          1,
          3,
          1,
          6,
          51,
          1,
          1,
          1,
          2,
          1,
          1,
          49,
          1,
          2,
          1,
          1,
          1,
          1,
          2,
          1,
          1,
          2,
          8,
          2,
          1,
          1,
          1,
          1,
          1,
          1,
          1,
          1,
          1,
          2,
          8,
          2,
          2,
          4,
          1,
          2,
          1,
          4,
          1,
          1,
          9,
          4,
          1,
          2,
          1,
          4,
          1,
          2,
          8,
          4,
          1,
          2,
          1,
          4,
          2,
          1,
          1,
          1,
          1,
          1,
          9,
          1,
          4,
          1,
          1,
          2,
          1,
          22,
          9,
          1,
          14,
          1,
          1,
          3,
          2,
          1,
          1,
          5,
          1,
          3,
          1,
          2,
          2,
          1,
          6,
          17,
          3,
          25,
          1,
          2,
          1,
          1,
          1,
          3,
          1,
          1,
          1,
          2,
          1,
          1,
          1,
          1,
          1,
          1,
          1,
          1,
          1,
          1,
          1,
          15,
          41,
          1,
          1,
          14,
          1,
          3,
          1,
          1,
          1,
          1,
          4,
          1,
          1,
          16,
          8,
          3,
          1,
          1,
          1,
          1,
          1,
          2,
          3,
          3,
          1,
          1,
          1,
          2,
          3,
          1,
          1,
          2,
          8,
          5,
          5,
          1,
          2,
          1,
          1,
          7,
          1,
          1,
          1,
          1,
          1,
          32,
          3,
          1,
          1,
          1,
          1,
          1,
          7,
          1,
          1,
          1,
          1,
          1,
          1,
          1,
          1,
          1,
          1,
          1,
          1,
          2,
          2,
          4,
          1,
          2,
          1,
          1,
          9,
          1,
          1,
          3,
          5,
          6,
          1,
          1,
          8,
          1,
          1,
          1,
          1,
          1,
          12,
          1,
          1,
          2,
          1,
          1,
          5,
          3,
          6,
          1,
          1,
          27,
          1,
          2,
          9,
          1,
          1,
          1,
          1,
          2,
          1,
          10,
          1,
          1,
          1,
          12,
          1,
          5,
          2,
          1,
          2,
          6,
          56,
          1,
          1,
          1,
          12,
          1,
          97,
          1,
          2,
          1,
          4,
          1,
          1,
          1,
          2,
          3,
          1,
          1,
          1,
          9,
          7,
          7,
          1,
          1,
          1,
          3,
          1,
          6,
          2,
          1,
          1,
          3,
          9,
          47,
          1,
          1,
          1,
          1,
          16,
          1,
          1,
          3,
          35,
          1,
          20,
          13,
          1,
          7,
          1,
          3,
          2,
          1,
          5,
          3,
          1,
          34,
          18,
          9,
          1,
          1,
          2,
          2,
          1,
          1,
          1,
          708,
          2,
          1,
          7,
          1,
          1,
          1,
          1,
          1,
          3,
          1,
          3,
          3,
          1,
          1,
          1,
          4,
          1,
          1,
          1,
          2,
          32,
          5,
          3,
          3,
          11,
          1,
          1,
          2,
          1,
          3,
          6,
          1,
          1,
          2,
          1,
          1,
          2,
          1,
          2,
          1,
          8,
          1,
          3,
          1,
          1,
          1,
          2,
          1,
          5,
          4,
          6,
          1,
          3,
          12,
          4,
          1,
          2,
          1,
          7,
          3,
          1,
          4,
          1,
          1,
          1,
          3,
          1,
          1,
          2,
          1,
          1,
          2,
          2,
          4,
          1,
          4,
          1,
          1,
          1,
          4,
          4,
          2,
          1,
          1,
          1,
          19,
          13,
          30,
          23,
          40,
          1,
          244,
          5,
          4,
          1,
          6,
          9,
          1,
          349,
          171,
          5,
          2,
          129,
          190,
          2,
          1849
         ]
        }
       ],
       "layout": {
        "legend": {
         "tracegroupgap": 0
        },
        "template": {
         "data": {
          "bar": [
           {
            "error_x": {
             "color": "#2a3f5f"
            },
            "error_y": {
             "color": "#2a3f5f"
            },
            "marker": {
             "line": {
              "color": "#E5ECF6",
              "width": 0.5
             },
             "pattern": {
              "fillmode": "overlay",
              "size": 10,
              "solidity": 0.2
             }
            },
            "type": "bar"
           }
          ],
          "barpolar": [
           {
            "marker": {
             "line": {
              "color": "#E5ECF6",
              "width": 0.5
             },
             "pattern": {
              "fillmode": "overlay",
              "size": 10,
              "solidity": 0.2
             }
            },
            "type": "barpolar"
           }
          ],
          "carpet": [
           {
            "aaxis": {
             "endlinecolor": "#2a3f5f",
             "gridcolor": "white",
             "linecolor": "white",
             "minorgridcolor": "white",
             "startlinecolor": "#2a3f5f"
            },
            "baxis": {
             "endlinecolor": "#2a3f5f",
             "gridcolor": "white",
             "linecolor": "white",
             "minorgridcolor": "white",
             "startlinecolor": "#2a3f5f"
            },
            "type": "carpet"
           }
          ],
          "choropleth": [
           {
            "colorbar": {
             "outlinewidth": 0,
             "ticks": ""
            },
            "type": "choropleth"
           }
          ],
          "contour": [
           {
            "colorbar": {
             "outlinewidth": 0,
             "ticks": ""
            },
            "colorscale": [
             [
              0,
              "#0d0887"
             ],
             [
              0.1111111111111111,
              "#46039f"
             ],
             [
              0.2222222222222222,
              "#7201a8"
             ],
             [
              0.3333333333333333,
              "#9c179e"
             ],
             [
              0.4444444444444444,
              "#bd3786"
             ],
             [
              0.5555555555555556,
              "#d8576b"
             ],
             [
              0.6666666666666666,
              "#ed7953"
             ],
             [
              0.7777777777777778,
              "#fb9f3a"
             ],
             [
              0.8888888888888888,
              "#fdca26"
             ],
             [
              1,
              "#f0f921"
             ]
            ],
            "type": "contour"
           }
          ],
          "contourcarpet": [
           {
            "colorbar": {
             "outlinewidth": 0,
             "ticks": ""
            },
            "type": "contourcarpet"
           }
          ],
          "heatmap": [
           {
            "colorbar": {
             "outlinewidth": 0,
             "ticks": ""
            },
            "colorscale": [
             [
              0,
              "#0d0887"
             ],
             [
              0.1111111111111111,
              "#46039f"
             ],
             [
              0.2222222222222222,
              "#7201a8"
             ],
             [
              0.3333333333333333,
              "#9c179e"
             ],
             [
              0.4444444444444444,
              "#bd3786"
             ],
             [
              0.5555555555555556,
              "#d8576b"
             ],
             [
              0.6666666666666666,
              "#ed7953"
             ],
             [
              0.7777777777777778,
              "#fb9f3a"
             ],
             [
              0.8888888888888888,
              "#fdca26"
             ],
             [
              1,
              "#f0f921"
             ]
            ],
            "type": "heatmap"
           }
          ],
          "heatmapgl": [
           {
            "colorbar": {
             "outlinewidth": 0,
             "ticks": ""
            },
            "colorscale": [
             [
              0,
              "#0d0887"
             ],
             [
              0.1111111111111111,
              "#46039f"
             ],
             [
              0.2222222222222222,
              "#7201a8"
             ],
             [
              0.3333333333333333,
              "#9c179e"
             ],
             [
              0.4444444444444444,
              "#bd3786"
             ],
             [
              0.5555555555555556,
              "#d8576b"
             ],
             [
              0.6666666666666666,
              "#ed7953"
             ],
             [
              0.7777777777777778,
              "#fb9f3a"
             ],
             [
              0.8888888888888888,
              "#fdca26"
             ],
             [
              1,
              "#f0f921"
             ]
            ],
            "type": "heatmapgl"
           }
          ],
          "histogram": [
           {
            "marker": {
             "pattern": {
              "fillmode": "overlay",
              "size": 10,
              "solidity": 0.2
             }
            },
            "type": "histogram"
           }
          ],
          "histogram2d": [
           {
            "colorbar": {
             "outlinewidth": 0,
             "ticks": ""
            },
            "colorscale": [
             [
              0,
              "#0d0887"
             ],
             [
              0.1111111111111111,
              "#46039f"
             ],
             [
              0.2222222222222222,
              "#7201a8"
             ],
             [
              0.3333333333333333,
              "#9c179e"
             ],
             [
              0.4444444444444444,
              "#bd3786"
             ],
             [
              0.5555555555555556,
              "#d8576b"
             ],
             [
              0.6666666666666666,
              "#ed7953"
             ],
             [
              0.7777777777777778,
              "#fb9f3a"
             ],
             [
              0.8888888888888888,
              "#fdca26"
             ],
             [
              1,
              "#f0f921"
             ]
            ],
            "type": "histogram2d"
           }
          ],
          "histogram2dcontour": [
           {
            "colorbar": {
             "outlinewidth": 0,
             "ticks": ""
            },
            "colorscale": [
             [
              0,
              "#0d0887"
             ],
             [
              0.1111111111111111,
              "#46039f"
             ],
             [
              0.2222222222222222,
              "#7201a8"
             ],
             [
              0.3333333333333333,
              "#9c179e"
             ],
             [
              0.4444444444444444,
              "#bd3786"
             ],
             [
              0.5555555555555556,
              "#d8576b"
             ],
             [
              0.6666666666666666,
              "#ed7953"
             ],
             [
              0.7777777777777778,
              "#fb9f3a"
             ],
             [
              0.8888888888888888,
              "#fdca26"
             ],
             [
              1,
              "#f0f921"
             ]
            ],
            "type": "histogram2dcontour"
           }
          ],
          "mesh3d": [
           {
            "colorbar": {
             "outlinewidth": 0,
             "ticks": ""
            },
            "type": "mesh3d"
           }
          ],
          "parcoords": [
           {
            "line": {
             "colorbar": {
              "outlinewidth": 0,
              "ticks": ""
             }
            },
            "type": "parcoords"
           }
          ],
          "pie": [
           {
            "automargin": true,
            "type": "pie"
           }
          ],
          "scatter": [
           {
            "fillpattern": {
             "fillmode": "overlay",
             "size": 10,
             "solidity": 0.2
            },
            "type": "scatter"
           }
          ],
          "scatter3d": [
           {
            "line": {
             "colorbar": {
              "outlinewidth": 0,
              "ticks": ""
             }
            },
            "marker": {
             "colorbar": {
              "outlinewidth": 0,
              "ticks": ""
             }
            },
            "type": "scatter3d"
           }
          ],
          "scattercarpet": [
           {
            "marker": {
             "colorbar": {
              "outlinewidth": 0,
              "ticks": ""
             }
            },
            "type": "scattercarpet"
           }
          ],
          "scattergeo": [
           {
            "marker": {
             "colorbar": {
              "outlinewidth": 0,
              "ticks": ""
             }
            },
            "type": "scattergeo"
           }
          ],
          "scattergl": [
           {
            "marker": {
             "colorbar": {
              "outlinewidth": 0,
              "ticks": ""
             }
            },
            "type": "scattergl"
           }
          ],
          "scattermapbox": [
           {
            "marker": {
             "colorbar": {
              "outlinewidth": 0,
              "ticks": ""
             }
            },
            "type": "scattermapbox"
           }
          ],
          "scatterpolar": [
           {
            "marker": {
             "colorbar": {
              "outlinewidth": 0,
              "ticks": ""
             }
            },
            "type": "scatterpolar"
           }
          ],
          "scatterpolargl": [
           {
            "marker": {
             "colorbar": {
              "outlinewidth": 0,
              "ticks": ""
             }
            },
            "type": "scatterpolargl"
           }
          ],
          "scatterternary": [
           {
            "marker": {
             "colorbar": {
              "outlinewidth": 0,
              "ticks": ""
             }
            },
            "type": "scatterternary"
           }
          ],
          "surface": [
           {
            "colorbar": {
             "outlinewidth": 0,
             "ticks": ""
            },
            "colorscale": [
             [
              0,
              "#0d0887"
             ],
             [
              0.1111111111111111,
              "#46039f"
             ],
             [
              0.2222222222222222,
              "#7201a8"
             ],
             [
              0.3333333333333333,
              "#9c179e"
             ],
             [
              0.4444444444444444,
              "#bd3786"
             ],
             [
              0.5555555555555556,
              "#d8576b"
             ],
             [
              0.6666666666666666,
              "#ed7953"
             ],
             [
              0.7777777777777778,
              "#fb9f3a"
             ],
             [
              0.8888888888888888,
              "#fdca26"
             ],
             [
              1,
              "#f0f921"
             ]
            ],
            "type": "surface"
           }
          ],
          "table": [
           {
            "cells": {
             "fill": {
              "color": "#EBF0F8"
             },
             "line": {
              "color": "white"
             }
            },
            "header": {
             "fill": {
              "color": "#C8D4E3"
             },
             "line": {
              "color": "white"
             }
            },
            "type": "table"
           }
          ]
         },
         "layout": {
          "annotationdefaults": {
           "arrowcolor": "#2a3f5f",
           "arrowhead": 0,
           "arrowwidth": 1
          },
          "autotypenumbers": "strict",
          "coloraxis": {
           "colorbar": {
            "outlinewidth": 0,
            "ticks": ""
           }
          },
          "colorscale": {
           "diverging": [
            [
             0,
             "#8e0152"
            ],
            [
             0.1,
             "#c51b7d"
            ],
            [
             0.2,
             "#de77ae"
            ],
            [
             0.3,
             "#f1b6da"
            ],
            [
             0.4,
             "#fde0ef"
            ],
            [
             0.5,
             "#f7f7f7"
            ],
            [
             0.6,
             "#e6f5d0"
            ],
            [
             0.7,
             "#b8e186"
            ],
            [
             0.8,
             "#7fbc41"
            ],
            [
             0.9,
             "#4d9221"
            ],
            [
             1,
             "#276419"
            ]
           ],
           "sequential": [
            [
             0,
             "#0d0887"
            ],
            [
             0.1111111111111111,
             "#46039f"
            ],
            [
             0.2222222222222222,
             "#7201a8"
            ],
            [
             0.3333333333333333,
             "#9c179e"
            ],
            [
             0.4444444444444444,
             "#bd3786"
            ],
            [
             0.5555555555555556,
             "#d8576b"
            ],
            [
             0.6666666666666666,
             "#ed7953"
            ],
            [
             0.7777777777777778,
             "#fb9f3a"
            ],
            [
             0.8888888888888888,
             "#fdca26"
            ],
            [
             1,
             "#f0f921"
            ]
           ],
           "sequentialminus": [
            [
             0,
             "#0d0887"
            ],
            [
             0.1111111111111111,
             "#46039f"
            ],
            [
             0.2222222222222222,
             "#7201a8"
            ],
            [
             0.3333333333333333,
             "#9c179e"
            ],
            [
             0.4444444444444444,
             "#bd3786"
            ],
            [
             0.5555555555555556,
             "#d8576b"
            ],
            [
             0.6666666666666666,
             "#ed7953"
            ],
            [
             0.7777777777777778,
             "#fb9f3a"
            ],
            [
             0.8888888888888888,
             "#fdca26"
            ],
            [
             1,
             "#f0f921"
            ]
           ]
          },
          "colorway": [
           "#636efa",
           "#EF553B",
           "#00cc96",
           "#ab63fa",
           "#FFA15A",
           "#19d3f3",
           "#FF6692",
           "#B6E880",
           "#FF97FF",
           "#FECB52"
          ],
          "font": {
           "color": "#2a3f5f"
          },
          "geo": {
           "bgcolor": "white",
           "lakecolor": "white",
           "landcolor": "#E5ECF6",
           "showlakes": true,
           "showland": true,
           "subunitcolor": "white"
          },
          "hoverlabel": {
           "align": "left"
          },
          "hovermode": "closest",
          "mapbox": {
           "style": "light"
          },
          "paper_bgcolor": "white",
          "plot_bgcolor": "#E5ECF6",
          "polar": {
           "angularaxis": {
            "gridcolor": "white",
            "linecolor": "white",
            "ticks": ""
           },
           "bgcolor": "#E5ECF6",
           "radialaxis": {
            "gridcolor": "white",
            "linecolor": "white",
            "ticks": ""
           }
          },
          "scene": {
           "xaxis": {
            "backgroundcolor": "#E5ECF6",
            "gridcolor": "white",
            "gridwidth": 2,
            "linecolor": "white",
            "showbackground": true,
            "ticks": "",
            "zerolinecolor": "white"
           },
           "yaxis": {
            "backgroundcolor": "#E5ECF6",
            "gridcolor": "white",
            "gridwidth": 2,
            "linecolor": "white",
            "showbackground": true,
            "ticks": "",
            "zerolinecolor": "white"
           },
           "zaxis": {
            "backgroundcolor": "#E5ECF6",
            "gridcolor": "white",
            "gridwidth": 2,
            "linecolor": "white",
            "showbackground": true,
            "ticks": "",
            "zerolinecolor": "white"
           }
          },
          "shapedefaults": {
           "line": {
            "color": "#2a3f5f"
           }
          },
          "ternary": {
           "aaxis": {
            "gridcolor": "white",
            "linecolor": "white",
            "ticks": ""
           },
           "baxis": {
            "gridcolor": "white",
            "linecolor": "white",
            "ticks": ""
           },
           "bgcolor": "#E5ECF6",
           "caxis": {
            "gridcolor": "white",
            "linecolor": "white",
            "ticks": ""
           }
          },
          "title": {
           "x": 0.05
          },
          "xaxis": {
           "automargin": true,
           "gridcolor": "white",
           "linecolor": "white",
           "ticks": "",
           "title": {
            "standoff": 15
           },
           "zerolinecolor": "white",
           "zerolinewidth": 2
          },
          "yaxis": {
           "automargin": true,
           "gridcolor": "white",
           "linecolor": "white",
           "ticks": "",
           "title": {
            "standoff": 15
           },
           "zerolinecolor": "white",
           "zerolinewidth": 2
          }
         }
        },
        "title": {
         "text": "Number of Sellers by State and City"
        }
       }
      }
     },
     "metadata": {},
     "output_type": "display_data"
    }
   ],
   "source": [
    "# Treemap of number of sellers by state and city:\n",
    "city_state_counts = df_sellers.groupby(['seller_state', 'seller_city'])['seller_id'].nunique().reset_index()\n",
    "city_state_counts.columns = ['seller_state', 'seller_city', 'seller_count']\n",
    "\n",
    "fig = px.treemap(city_state_counts,\n",
    "                 path=['seller_state', 'seller_city'],\n",
    "                 values='seller_count',\n",
    "                 title='Number of Sellers by State and City')\n",
    "fig.show()"
   ]
  },
  {
   "cell_type": "code",
   "execution_count": 49,
   "id": "aa148cce",
   "metadata": {},
   "outputs": [
    {
     "data": {
      "text/html": [
       "<div>\n",
       "<style scoped>\n",
       "    .dataframe tbody tr th:only-of-type {\n",
       "        vertical-align: middle;\n",
       "    }\n",
       "\n",
       "    .dataframe tbody tr th {\n",
       "        vertical-align: top;\n",
       "    }\n",
       "\n",
       "    .dataframe thead th {\n",
       "        text-align: right;\n",
       "    }\n",
       "</style>\n",
       "<table border=\"1\" class=\"dataframe\">\n",
       "  <thead>\n",
       "    <tr style=\"text-align: right;\">\n",
       "      <th></th>\n",
       "      <th>seller_state</th>\n",
       "      <th>num_unique_sellers</th>\n",
       "    </tr>\n",
       "  </thead>\n",
       "  <tbody>\n",
       "    <tr>\n",
       "      <th>22</th>\n",
       "      <td>SP</td>\n",
       "      <td>1849</td>\n",
       "    </tr>\n",
       "    <tr>\n",
       "      <th>15</th>\n",
       "      <td>PR</td>\n",
       "      <td>349</td>\n",
       "    </tr>\n",
       "    <tr>\n",
       "      <th>8</th>\n",
       "      <td>MG</td>\n",
       "      <td>244</td>\n",
       "    </tr>\n",
       "    <tr>\n",
       "      <th>20</th>\n",
       "      <td>SC</td>\n",
       "      <td>190</td>\n",
       "    </tr>\n",
       "    <tr>\n",
       "      <th>16</th>\n",
       "      <td>RJ</td>\n",
       "      <td>171</td>\n",
       "    </tr>\n",
       "    <tr>\n",
       "      <th>19</th>\n",
       "      <td>RS</td>\n",
       "      <td>129</td>\n",
       "    </tr>\n",
       "    <tr>\n",
       "      <th>6</th>\n",
       "      <td>GO</td>\n",
       "      <td>40</td>\n",
       "    </tr>\n",
       "    <tr>\n",
       "      <th>4</th>\n",
       "      <td>DF</td>\n",
       "      <td>30</td>\n",
       "    </tr>\n",
       "    <tr>\n",
       "      <th>5</th>\n",
       "      <td>ES</td>\n",
       "      <td>23</td>\n",
       "    </tr>\n",
       "    <tr>\n",
       "      <th>2</th>\n",
       "      <td>BA</td>\n",
       "      <td>19</td>\n",
       "    </tr>\n",
       "    <tr>\n",
       "      <th>3</th>\n",
       "      <td>CE</td>\n",
       "      <td>13</td>\n",
       "    </tr>\n",
       "    <tr>\n",
       "      <th>13</th>\n",
       "      <td>PE</td>\n",
       "      <td>9</td>\n",
       "    </tr>\n",
       "    <tr>\n",
       "      <th>12</th>\n",
       "      <td>PB</td>\n",
       "      <td>6</td>\n",
       "    </tr>\n",
       "    <tr>\n",
       "      <th>9</th>\n",
       "      <td>MS</td>\n",
       "      <td>5</td>\n",
       "    </tr>\n",
       "    <tr>\n",
       "      <th>17</th>\n",
       "      <td>RN</td>\n",
       "      <td>5</td>\n",
       "    </tr>\n",
       "    <tr>\n",
       "      <th>10</th>\n",
       "      <td>MT</td>\n",
       "      <td>4</td>\n",
       "    </tr>\n",
       "    <tr>\n",
       "      <th>18</th>\n",
       "      <td>RO</td>\n",
       "      <td>2</td>\n",
       "    </tr>\n",
       "    <tr>\n",
       "      <th>21</th>\n",
       "      <td>SE</td>\n",
       "      <td>2</td>\n",
       "    </tr>\n",
       "    <tr>\n",
       "      <th>0</th>\n",
       "      <td>AC</td>\n",
       "      <td>1</td>\n",
       "    </tr>\n",
       "    <tr>\n",
       "      <th>14</th>\n",
       "      <td>PI</td>\n",
       "      <td>1</td>\n",
       "    </tr>\n",
       "    <tr>\n",
       "      <th>1</th>\n",
       "      <td>AM</td>\n",
       "      <td>1</td>\n",
       "    </tr>\n",
       "    <tr>\n",
       "      <th>7</th>\n",
       "      <td>MA</td>\n",
       "      <td>1</td>\n",
       "    </tr>\n",
       "    <tr>\n",
       "      <th>11</th>\n",
       "      <td>PA</td>\n",
       "      <td>1</td>\n",
       "    </tr>\n",
       "  </tbody>\n",
       "</table>\n",
       "</div>"
      ],
      "text/plain": [
       "   seller_state  num_unique_sellers\n",
       "22           SP                1849\n",
       "15           PR                 349\n",
       "8            MG                 244\n",
       "20           SC                 190\n",
       "16           RJ                 171\n",
       "19           RS                 129\n",
       "6            GO                  40\n",
       "4            DF                  30\n",
       "5            ES                  23\n",
       "2            BA                  19\n",
       "3            CE                  13\n",
       "13           PE                   9\n",
       "12           PB                   6\n",
       "9            MS                   5\n",
       "17           RN                   5\n",
       "10           MT                   4\n",
       "18           RO                   2\n",
       "21           SE                   2\n",
       "0            AC                   1\n",
       "14           PI                   1\n",
       "1            AM                   1\n",
       "7            MA                   1\n",
       "11           PA                   1"
      ]
     },
     "execution_count": 49,
     "metadata": {},
     "output_type": "execute_result"
    }
   ],
   "source": [
    "summary = df_sellers.groupby(['seller_state'])['seller_id'].nunique().reset_index()\n",
    "summary.columns = ['seller_state', 'num_unique_sellers']\n",
    "summary.sort_values('num_unique_sellers', ascending=False)"
   ]
  }
 ],
 "metadata": {
  "kernelspec": {
   "display_name": "base",
   "language": "python",
   "name": "python3"
  },
  "language_info": {
   "codemirror_mode": {
    "name": "ipython",
    "version": 3
   },
   "file_extension": ".py",
   "mimetype": "text/x-python",
   "name": "python",
   "nbconvert_exporter": "python",
   "pygments_lexer": "ipython3",
   "version": "3.12.3"
  }
 },
 "nbformat": 4,
 "nbformat_minor": 5
}
